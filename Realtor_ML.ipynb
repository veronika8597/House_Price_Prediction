{
 "cells": [
  {
   "cell_type": "markdown",
   "id": "56586043",
   "metadata": {},
   "source": [
    "# Machine Learning Prediction "
   ]
  },
  {
   "cell_type": "code",
   "execution_count": 1,
   "id": "42d824fd",
   "metadata": {},
   "outputs": [],
   "source": [
    "import pandas as pd\n",
    "import scipy as sc\n",
    "import numpy as np\n",
    "\n",
    "from sklearn.preprocessing import StandardScaler\n",
    "from sklearn.preprocessing import scale\n",
    "from sklearn.preprocessing import LabelEncoder\n",
    "from sklearn.model_selection import train_test_split\n",
    "\n",
    "from sklearn.linear_model import LinearRegression \n",
    "from sklearn.linear_model import Lasso # Lasso algorithm\n",
    "from sklearn.ensemble import RandomForestRegressor\n",
    "from sklearn.linear_model import BayesianRidge # Bayesian algorithm\n",
    "from sklearn.linear_model import ElasticNet # ElasticNet algorithm\n",
    "\n",
    "from sklearn.metrics import r2_score\n",
    "\n",
    "#!pip install plotly\n",
    "#!pip install -U kaleido\n",
    "\n",
    "import plotly.express as px\n",
    "import plotly.graph_objects as go\n",
    "import plotly.io as pio\n",
    "import seaborn as sns\n",
    "import matplotlib as mpl\n",
    "from matplotlib import pyplot as plt\n",
    "%matplotlib inline\n",
    "import warnings\n",
    "warnings.filterwarnings(\"ignore\")\n"
   ]
  },
  {
   "cell_type": "markdown",
   "id": "8d4efef4",
   "metadata": {},
   "source": [
    "## Importing the data"
   ]
  },
  {
   "cell_type": "code",
   "execution_count": 2,
   "id": "e172d24a",
   "metadata": {},
   "outputs": [],
   "source": [
    "forsale_df=pd.read_csv('RealEstateNewYork_Clean2.csv',sep=',',low_memory=False)\n",
    "forsale_df.drop(forsale_df.filter(regex=\"Unname\"),axis=1, inplace=True)"
   ]
  },
  {
   "cell_type": "code",
   "execution_count": 3,
   "id": "13db541d",
   "metadata": {},
   "outputs": [
    {
     "data": {
      "text/html": [
       "<div>\n",
       "<style scoped>\n",
       "    .dataframe tbody tr th:only-of-type {\n",
       "        vertical-align: middle;\n",
       "    }\n",
       "\n",
       "    .dataframe tbody tr th {\n",
       "        vertical-align: top;\n",
       "    }\n",
       "\n",
       "    .dataframe thead th {\n",
       "        text-align: right;\n",
       "    }\n",
       "</style>\n",
       "<table border=\"1\" class=\"dataframe\">\n",
       "  <thead>\n",
       "    <tr style=\"text-align: right;\">\n",
       "      <th></th>\n",
       "      <th>price</th>\n",
       "      <th>beds</th>\n",
       "      <th>baths</th>\n",
       "      <th>garage</th>\n",
       "      <th>stories</th>\n",
       "      <th>house_type</th>\n",
       "      <th>lot_sqft</th>\n",
       "      <th>sqft</th>\n",
       "      <th>year_built</th>\n",
       "      <th>address</th>\n",
       "      <th>state</th>\n",
       "      <th>city</th>\n",
       "      <th>county</th>\n",
       "      <th>price_per_sqft</th>\n",
       "    </tr>\n",
       "  </thead>\n",
       "  <tbody>\n",
       "    <tr>\n",
       "      <th>0</th>\n",
       "      <td>108900.0</td>\n",
       "      <td>4.0</td>\n",
       "      <td>2.0</td>\n",
       "      <td>2.0</td>\n",
       "      <td>2.0</td>\n",
       "      <td>single_family</td>\n",
       "      <td>108900.0</td>\n",
       "      <td>1800.0</td>\n",
       "      <td>1971</td>\n",
       "      <td>4758 Cory Corners Rd</td>\n",
       "      <td>NY</td>\n",
       "      <td>Marion</td>\n",
       "      <td>Wayne</td>\n",
       "      <td>60.500000</td>\n",
       "    </tr>\n",
       "    <tr>\n",
       "      <th>1</th>\n",
       "      <td>499000.0</td>\n",
       "      <td>3.0</td>\n",
       "      <td>2.0</td>\n",
       "      <td>2.0</td>\n",
       "      <td>2.0</td>\n",
       "      <td>single_family</td>\n",
       "      <td>22425.0</td>\n",
       "      <td>1826.0</td>\n",
       "      <td>1980</td>\n",
       "      <td>8105 McCamidge Dr</td>\n",
       "      <td>NY</td>\n",
       "      <td>Cicero</td>\n",
       "      <td>Onondaga</td>\n",
       "      <td>273.274918</td>\n",
       "    </tr>\n",
       "    <tr>\n",
       "      <th>2</th>\n",
       "      <td>499000.0</td>\n",
       "      <td>3.0</td>\n",
       "      <td>2.0</td>\n",
       "      <td>1.0</td>\n",
       "      <td>2.0</td>\n",
       "      <td>single_family</td>\n",
       "      <td>10454.0</td>\n",
       "      <td>2680.0</td>\n",
       "      <td>1947</td>\n",
       "      <td>349 Glen Ave</td>\n",
       "      <td>NY</td>\n",
       "      <td>Elmira</td>\n",
       "      <td>Chemung</td>\n",
       "      <td>186.194030</td>\n",
       "    </tr>\n",
       "    <tr>\n",
       "      <th>3</th>\n",
       "      <td>499000.0</td>\n",
       "      <td>3.0</td>\n",
       "      <td>2.0</td>\n",
       "      <td>2.0</td>\n",
       "      <td>2.0</td>\n",
       "      <td>single_family</td>\n",
       "      <td>7662.0</td>\n",
       "      <td>1312.0</td>\n",
       "      <td>1951</td>\n",
       "      <td>812 Delaware Rd</td>\n",
       "      <td>NY</td>\n",
       "      <td>Buffalo</td>\n",
       "      <td>Erie</td>\n",
       "      <td>380.335366</td>\n",
       "    </tr>\n",
       "    <tr>\n",
       "      <th>4</th>\n",
       "      <td>126324.0</td>\n",
       "      <td>3.0</td>\n",
       "      <td>2.0</td>\n",
       "      <td>3.0</td>\n",
       "      <td>2.0</td>\n",
       "      <td>single_family</td>\n",
       "      <td>126324.0</td>\n",
       "      <td>2116.0</td>\n",
       "      <td>1995</td>\n",
       "      <td>2430 Emerson Rd</td>\n",
       "      <td>NY</td>\n",
       "      <td>Weedsport</td>\n",
       "      <td>Cayuga</td>\n",
       "      <td>59.699433</td>\n",
       "    </tr>\n",
       "    <tr>\n",
       "      <th>...</th>\n",
       "      <td>...</td>\n",
       "      <td>...</td>\n",
       "      <td>...</td>\n",
       "      <td>...</td>\n",
       "      <td>...</td>\n",
       "      <td>...</td>\n",
       "      <td>...</td>\n",
       "      <td>...</td>\n",
       "      <td>...</td>\n",
       "      <td>...</td>\n",
       "      <td>...</td>\n",
       "      <td>...</td>\n",
       "      <td>...</td>\n",
       "      <td>...</td>\n",
       "    </tr>\n",
       "    <tr>\n",
       "      <th>7719</th>\n",
       "      <td>499000.0</td>\n",
       "      <td>1.0</td>\n",
       "      <td>1.0</td>\n",
       "      <td>0.0</td>\n",
       "      <td>6.0</td>\n",
       "      <td>coop</td>\n",
       "      <td>10602.0</td>\n",
       "      <td>1744.0</td>\n",
       "      <td>1939</td>\n",
       "      <td>34-20 79th St Unit 2H</td>\n",
       "      <td>NY</td>\n",
       "      <td>New York City</td>\n",
       "      <td>Queens</td>\n",
       "      <td>286.123853</td>\n",
       "    </tr>\n",
       "    <tr>\n",
       "      <th>7720</th>\n",
       "      <td>499000.0</td>\n",
       "      <td>3.0</td>\n",
       "      <td>2.0</td>\n",
       "      <td>1.0</td>\n",
       "      <td>2.0</td>\n",
       "      <td>single_family</td>\n",
       "      <td>5000.0</td>\n",
       "      <td>912.0</td>\n",
       "      <td>1955</td>\n",
       "      <td>455 Stoneham St</td>\n",
       "      <td>NY</td>\n",
       "      <td>Staten Island</td>\n",
       "      <td>Richmond</td>\n",
       "      <td>547.149123</td>\n",
       "    </tr>\n",
       "    <tr>\n",
       "      <th>7721</th>\n",
       "      <td>499000.0</td>\n",
       "      <td>1.0</td>\n",
       "      <td>1.0</td>\n",
       "      <td>0.0</td>\n",
       "      <td>2.0</td>\n",
       "      <td>condos</td>\n",
       "      <td>10602.0</td>\n",
       "      <td>760.0</td>\n",
       "      <td>1982</td>\n",
       "      <td>3611 Shore Parkway Rd Unit 2D</td>\n",
       "      <td>NY</td>\n",
       "      <td>Brooklyn</td>\n",
       "      <td>Kings</td>\n",
       "      <td>656.578947</td>\n",
       "    </tr>\n",
       "    <tr>\n",
       "      <th>7722</th>\n",
       "      <td>499000.0</td>\n",
       "      <td>1.0</td>\n",
       "      <td>1.0</td>\n",
       "      <td>0.0</td>\n",
       "      <td>2.0</td>\n",
       "      <td>coop</td>\n",
       "      <td>10602.0</td>\n",
       "      <td>1744.0</td>\n",
       "      <td>1930</td>\n",
       "      <td>465 W 23rd St Apt 7A</td>\n",
       "      <td>NY</td>\n",
       "      <td>New York City</td>\n",
       "      <td>New York</td>\n",
       "      <td>286.123853</td>\n",
       "    </tr>\n",
       "    <tr>\n",
       "      <th>7723</th>\n",
       "      <td>499000.0</td>\n",
       "      <td>3.0</td>\n",
       "      <td>2.0</td>\n",
       "      <td>0.0</td>\n",
       "      <td>2.0</td>\n",
       "      <td>condos</td>\n",
       "      <td>10602.0</td>\n",
       "      <td>1460.0</td>\n",
       "      <td>2003</td>\n",
       "      <td>440 Kent Ave Unit 1B</td>\n",
       "      <td>NY</td>\n",
       "      <td>Brooklyn</td>\n",
       "      <td>Kings</td>\n",
       "      <td>341.780822</td>\n",
       "    </tr>\n",
       "  </tbody>\n",
       "</table>\n",
       "<p>7724 rows × 14 columns</p>\n",
       "</div>"
      ],
      "text/plain": [
       "         price  beds  baths  garage  stories     house_type  lot_sqft    sqft  \\\n",
       "0     108900.0   4.0    2.0     2.0      2.0  single_family  108900.0  1800.0   \n",
       "1     499000.0   3.0    2.0     2.0      2.0  single_family   22425.0  1826.0   \n",
       "2     499000.0   3.0    2.0     1.0      2.0  single_family   10454.0  2680.0   \n",
       "3     499000.0   3.0    2.0     2.0      2.0  single_family    7662.0  1312.0   \n",
       "4     126324.0   3.0    2.0     3.0      2.0  single_family  126324.0  2116.0   \n",
       "...        ...   ...    ...     ...      ...            ...       ...     ...   \n",
       "7719  499000.0   1.0    1.0     0.0      6.0           coop   10602.0  1744.0   \n",
       "7720  499000.0   3.0    2.0     1.0      2.0  single_family    5000.0   912.0   \n",
       "7721  499000.0   1.0    1.0     0.0      2.0         condos   10602.0   760.0   \n",
       "7722  499000.0   1.0    1.0     0.0      2.0           coop   10602.0  1744.0   \n",
       "7723  499000.0   3.0    2.0     0.0      2.0         condos   10602.0  1460.0   \n",
       "\n",
       "      year_built                        address state           city  \\\n",
       "0           1971           4758 Cory Corners Rd    NY         Marion   \n",
       "1           1980              8105 McCamidge Dr    NY         Cicero   \n",
       "2           1947                   349 Glen Ave    NY         Elmira   \n",
       "3           1951                812 Delaware Rd    NY        Buffalo   \n",
       "4           1995                2430 Emerson Rd    NY      Weedsport   \n",
       "...          ...                            ...   ...            ...   \n",
       "7719        1939          34-20 79th St Unit 2H    NY  New York City   \n",
       "7720        1955                455 Stoneham St    NY  Staten Island   \n",
       "7721        1982  3611 Shore Parkway Rd Unit 2D    NY       Brooklyn   \n",
       "7722        1930           465 W 23rd St Apt 7A    NY  New York City   \n",
       "7723        2003           440 Kent Ave Unit 1B    NY       Brooklyn   \n",
       "\n",
       "        county  price_per_sqft  \n",
       "0        Wayne       60.500000  \n",
       "1     Onondaga      273.274918  \n",
       "2      Chemung      186.194030  \n",
       "3         Erie      380.335366  \n",
       "4       Cayuga       59.699433  \n",
       "...        ...             ...  \n",
       "7719    Queens      286.123853  \n",
       "7720  Richmond      547.149123  \n",
       "7721     Kings      656.578947  \n",
       "7722  New York      286.123853  \n",
       "7723     Kings      341.780822  \n",
       "\n",
       "[7724 rows x 14 columns]"
      ]
     },
     "execution_count": 3,
     "metadata": {},
     "output_type": "execute_result"
    }
   ],
   "source": [
    "forsale_df"
   ]
  },
  {
   "cell_type": "markdown",
   "id": "22afa350",
   "metadata": {},
   "source": [
    "## Linear Regression model"
   ]
  },
  {
   "cell_type": "code",
   "execution_count": 4,
   "id": "17c7f101",
   "metadata": {},
   "outputs": [
    {
     "data": {
      "text/html": [
       "<div>\n",
       "<style scoped>\n",
       "    .dataframe tbody tr th:only-of-type {\n",
       "        vertical-align: middle;\n",
       "    }\n",
       "\n",
       "    .dataframe tbody tr th {\n",
       "        vertical-align: top;\n",
       "    }\n",
       "\n",
       "    .dataframe thead th {\n",
       "        text-align: right;\n",
       "    }\n",
       "</style>\n",
       "<table border=\"1\" class=\"dataframe\">\n",
       "  <thead>\n",
       "    <tr style=\"text-align: right;\">\n",
       "      <th></th>\n",
       "      <th>beds</th>\n",
       "      <th>baths</th>\n",
       "      <th>garage</th>\n",
       "      <th>stories</th>\n",
       "      <th>lot_sqft</th>\n",
       "      <th>sqft</th>\n",
       "      <th>year_built</th>\n",
       "      <th>price_per_sqft</th>\n",
       "      <th>address</th>\n",
       "      <th>house_type</th>\n",
       "      <th>state</th>\n",
       "      <th>city</th>\n",
       "      <th>county</th>\n",
       "      <th>price</th>\n",
       "    </tr>\n",
       "  </thead>\n",
       "  <tbody>\n",
       "    <tr>\n",
       "      <th>0</th>\n",
       "      <td>4.0</td>\n",
       "      <td>2.0</td>\n",
       "      <td>2.0</td>\n",
       "      <td>2.0</td>\n",
       "      <td>108900.0</td>\n",
       "      <td>1800.0</td>\n",
       "      <td>1971</td>\n",
       "      <td>60.500000</td>\n",
       "      <td>5366</td>\n",
       "      <td>4</td>\n",
       "      <td>0</td>\n",
       "      <td>586</td>\n",
       "      <td>58</td>\n",
       "      <td>108900.0</td>\n",
       "    </tr>\n",
       "    <tr>\n",
       "      <th>1</th>\n",
       "      <td>3.0</td>\n",
       "      <td>2.0</td>\n",
       "      <td>2.0</td>\n",
       "      <td>2.0</td>\n",
       "      <td>22425.0</td>\n",
       "      <td>1826.0</td>\n",
       "      <td>1980</td>\n",
       "      <td>273.274918</td>\n",
       "      <td>7042</td>\n",
       "      <td>4</td>\n",
       "      <td>0</td>\n",
       "      <td>185</td>\n",
       "      <td>33</td>\n",
       "      <td>499000.0</td>\n",
       "    </tr>\n",
       "    <tr>\n",
       "      <th>2</th>\n",
       "      <td>3.0</td>\n",
       "      <td>2.0</td>\n",
       "      <td>1.0</td>\n",
       "      <td>2.0</td>\n",
       "      <td>10454.0</td>\n",
       "      <td>2680.0</td>\n",
       "      <td>1947</td>\n",
       "      <td>186.194030</td>\n",
       "      <td>4359</td>\n",
       "      <td>4</td>\n",
       "      <td>0</td>\n",
       "      <td>310</td>\n",
       "      <td>7</td>\n",
       "      <td>499000.0</td>\n",
       "    </tr>\n",
       "    <tr>\n",
       "      <th>3</th>\n",
       "      <td>3.0</td>\n",
       "      <td>2.0</td>\n",
       "      <td>2.0</td>\n",
       "      <td>2.0</td>\n",
       "      <td>7662.0</td>\n",
       "      <td>1312.0</td>\n",
       "      <td>1951</td>\n",
       "      <td>380.335366</td>\n",
       "      <td>7048</td>\n",
       "      <td>4</td>\n",
       "      <td>0</td>\n",
       "      <td>124</td>\n",
       "      <td>14</td>\n",
       "      <td>499000.0</td>\n",
       "    </tr>\n",
       "    <tr>\n",
       "      <th>4</th>\n",
       "      <td>3.0</td>\n",
       "      <td>2.0</td>\n",
       "      <td>3.0</td>\n",
       "      <td>2.0</td>\n",
       "      <td>126324.0</td>\n",
       "      <td>2116.0</td>\n",
       "      <td>1995</td>\n",
       "      <td>59.699433</td>\n",
       "      <td>3184</td>\n",
       "      <td>4</td>\n",
       "      <td>0</td>\n",
       "      <td>1013</td>\n",
       "      <td>5</td>\n",
       "      <td>126324.0</td>\n",
       "    </tr>\n",
       "    <tr>\n",
       "      <th>...</th>\n",
       "      <td>...</td>\n",
       "      <td>...</td>\n",
       "      <td>...</td>\n",
       "      <td>...</td>\n",
       "      <td>...</td>\n",
       "      <td>...</td>\n",
       "      <td>...</td>\n",
       "      <td>...</td>\n",
       "      <td>...</td>\n",
       "      <td>...</td>\n",
       "      <td>...</td>\n",
       "      <td>...</td>\n",
       "      <td>...</td>\n",
       "      <td>...</td>\n",
       "    </tr>\n",
       "    <tr>\n",
       "      <th>7719</th>\n",
       "      <td>1.0</td>\n",
       "      <td>1.0</td>\n",
       "      <td>0.0</td>\n",
       "      <td>6.0</td>\n",
       "      <td>10602.0</td>\n",
       "      <td>1744.0</td>\n",
       "      <td>1939</td>\n",
       "      <td>286.123853</td>\n",
       "      <td>4298</td>\n",
       "      <td>1</td>\n",
       "      <td>0</td>\n",
       "      <td>674</td>\n",
       "      <td>40</td>\n",
       "      <td>499000.0</td>\n",
       "    </tr>\n",
       "    <tr>\n",
       "      <th>7720</th>\n",
       "      <td>3.0</td>\n",
       "      <td>2.0</td>\n",
       "      <td>1.0</td>\n",
       "      <td>2.0</td>\n",
       "      <td>5000.0</td>\n",
       "      <td>912.0</td>\n",
       "      <td>1955</td>\n",
       "      <td>547.149123</td>\n",
       "      <td>5253</td>\n",
       "      <td>4</td>\n",
       "      <td>0</td>\n",
       "      <td>937</td>\n",
       "      <td>42</td>\n",
       "      <td>499000.0</td>\n",
       "    </tr>\n",
       "    <tr>\n",
       "      <th>7721</th>\n",
       "      <td>1.0</td>\n",
       "      <td>1.0</td>\n",
       "      <td>0.0</td>\n",
       "      <td>2.0</td>\n",
       "      <td>10602.0</td>\n",
       "      <td>760.0</td>\n",
       "      <td>1982</td>\n",
       "      <td>656.578947</td>\n",
       "      <td>4507</td>\n",
       "      <td>0</td>\n",
       "      <td>0</td>\n",
       "      <td>117</td>\n",
       "      <td>23</td>\n",
       "      <td>499000.0</td>\n",
       "    </tr>\n",
       "    <tr>\n",
       "      <th>7722</th>\n",
       "      <td>1.0</td>\n",
       "      <td>1.0</td>\n",
       "      <td>0.0</td>\n",
       "      <td>2.0</td>\n",
       "      <td>10602.0</td>\n",
       "      <td>1744.0</td>\n",
       "      <td>1930</td>\n",
       "      <td>286.123853</td>\n",
       "      <td>5311</td>\n",
       "      <td>1</td>\n",
       "      <td>0</td>\n",
       "      <td>674</td>\n",
       "      <td>30</td>\n",
       "      <td>499000.0</td>\n",
       "    </tr>\n",
       "    <tr>\n",
       "      <th>7723</th>\n",
       "      <td>3.0</td>\n",
       "      <td>2.0</td>\n",
       "      <td>0.0</td>\n",
       "      <td>2.0</td>\n",
       "      <td>10602.0</td>\n",
       "      <td>1460.0</td>\n",
       "      <td>2003</td>\n",
       "      <td>341.780822</td>\n",
       "      <td>5175</td>\n",
       "      <td>0</td>\n",
       "      <td>0</td>\n",
       "      <td>117</td>\n",
       "      <td>23</td>\n",
       "      <td>499000.0</td>\n",
       "    </tr>\n",
       "  </tbody>\n",
       "</table>\n",
       "<p>7724 rows × 14 columns</p>\n",
       "</div>"
      ],
      "text/plain": [
       "      beds  baths  garage  stories  lot_sqft    sqft  year_built  \\\n",
       "0      4.0    2.0     2.0      2.0  108900.0  1800.0        1971   \n",
       "1      3.0    2.0     2.0      2.0   22425.0  1826.0        1980   \n",
       "2      3.0    2.0     1.0      2.0   10454.0  2680.0        1947   \n",
       "3      3.0    2.0     2.0      2.0    7662.0  1312.0        1951   \n",
       "4      3.0    2.0     3.0      2.0  126324.0  2116.0        1995   \n",
       "...    ...    ...     ...      ...       ...     ...         ...   \n",
       "7719   1.0    1.0     0.0      6.0   10602.0  1744.0        1939   \n",
       "7720   3.0    2.0     1.0      2.0    5000.0   912.0        1955   \n",
       "7721   1.0    1.0     0.0      2.0   10602.0   760.0        1982   \n",
       "7722   1.0    1.0     0.0      2.0   10602.0  1744.0        1930   \n",
       "7723   3.0    2.0     0.0      2.0   10602.0  1460.0        2003   \n",
       "\n",
       "      price_per_sqft  address  house_type  state  city  county     price  \n",
       "0          60.500000     5366           4      0   586      58  108900.0  \n",
       "1         273.274918     7042           4      0   185      33  499000.0  \n",
       "2         186.194030     4359           4      0   310       7  499000.0  \n",
       "3         380.335366     7048           4      0   124      14  499000.0  \n",
       "4          59.699433     3184           4      0  1013       5  126324.0  \n",
       "...              ...      ...         ...    ...   ...     ...       ...  \n",
       "7719      286.123853     4298           1      0   674      40  499000.0  \n",
       "7720      547.149123     5253           4      0   937      42  499000.0  \n",
       "7721      656.578947     4507           0      0   117      23  499000.0  \n",
       "7722      286.123853     5311           1      0   674      30  499000.0  \n",
       "7723      341.780822     5175           0      0   117      23  499000.0  \n",
       "\n",
       "[7724 rows x 14 columns]"
      ]
     },
     "execution_count": 4,
     "metadata": {},
     "output_type": "execute_result"
    }
   ],
   "source": [
    "forsale_df_ml = forsale_df.copy()\n",
    "forsale_df_ml.drop([\"address\",\"house_type\",\"state\",\"city\",\"county\"], axis=1, inplace=True)\n",
    "forsale_df_ml['address'] = LabelEncoder().fit_transform(forsale_df['address'])\n",
    "forsale_df_ml['house_type'] = LabelEncoder().fit_transform(forsale_df['house_type'])\n",
    "forsale_df_ml['state'] = LabelEncoder().fit_transform(forsale_df['state'])\n",
    "forsale_df_ml['city'] = LabelEncoder().fit_transform(forsale_df['city'])\n",
    "forsale_df_ml['county'] = LabelEncoder().fit_transform(forsale_df['county'])\n",
    "repc=forsale_df_ml.pop('price')\n",
    "forsale_df_ml['price']=repc\n",
    "forsale_df_ml"
   ]
  },
  {
   "cell_type": "code",
   "execution_count": 5,
   "id": "f35e5a3c",
   "metadata": {},
   "outputs": [],
   "source": [
    "Xlin = forsale_df_ml.iloc[:,:-1]\n",
    "ylin = forsale_df_ml.iloc[:,-1]"
   ]
  },
  {
   "cell_type": "markdown",
   "id": "908facbf",
   "metadata": {},
   "source": [
    "### Modeling and scores"
   ]
  },
  {
   "cell_type": "code",
   "execution_count": 6,
   "id": "f71de5a7",
   "metadata": {},
   "outputs": [],
   "source": [
    "Xlin_train, Xlin_test, ylin_train, ylin_test = train_test_split(Xlin, ylin,random_state=0 , test_size=0.4)"
   ]
  },
  {
   "cell_type": "code",
   "execution_count": 8,
   "id": "5f93533e",
   "metadata": {},
   "outputs": [
    {
     "data": {
      "text/plain": [
       "array([490249.53460114, 454127.70725045, 465049.62229142, ...,\n",
       "       449256.89499095, 389369.52612379, 474113.11117391])"
      ]
     },
     "execution_count": 8,
     "metadata": {},
     "output_type": "execute_result"
    }
   ],
   "source": [
    "linear_model = LinearRegression(fit_intercept=False)\n",
    "\n",
    "linear_model.fit(Xlin_train,ylin_train)\n",
    "\n",
    "ylin_pred = linear_model.predict(Xlin_test)\n",
    "ylin_train_pred = linear_model.predict(Xlin_train)\n",
    "ylin_pred"
   ]
  },
  {
   "cell_type": "code",
   "execution_count": 10,
   "id": "3d5ade3b",
   "metadata": {},
   "outputs": [
    {
     "name": "stdout",
     "output_type": "stream",
     "text": [
      "r2 score with LinearRegression model\n",
      "Accuracy on training data:  0.6617220026766473\n",
      "Accuracy on test data:  0.6094611581118379\n"
     ]
    }
   ],
   "source": [
    "print(\"r2 score with LinearRegression model\")\n",
    "print(\"Accuracy on training data: \" , r2_score(ylin_train, ylin_train_pred))\n",
    "print(\"Accuracy on test data: \", r2_score(ylin_test, ylin_pred))"
   ]
  },
  {
   "cell_type": "markdown",
   "id": "f6f60166",
   "metadata": {},
   "source": [
    "## Lasso model"
   ]
  },
  {
   "cell_type": "code",
   "execution_count": 20,
   "id": "7fef7c52",
   "metadata": {},
   "outputs": [
    {
     "name": "stdout",
     "output_type": "stream",
     "text": [
      "['price', 'beds', 'baths', 'garage', 'stories', 'house_type', 'lot_sqft', 'sqft', 'year_built', 'address', 'state', 'city', 'county', 'price_per_sqft']\n"
     ]
    }
   ],
   "source": [
    "print (forsale_df.columns.tolist())"
   ]
  },
  {
   "cell_type": "code",
   "execution_count": 21,
   "id": "c14f7426",
   "metadata": {},
   "outputs": [],
   "source": [
    "forsale_cp_df_ml=forsale_df.copy()\n",
    "#featurs =forsale_cp_df_ml.drop([\"price\",\"county\",\"address\",\"baths\",\"stories\"],axis=1)\n",
    "featurs =forsale_cp_df_ml.drop([\"price\",\"county\",\"address\",\"state\"],axis=1)"
   ]
  },
  {
   "cell_type": "code",
   "execution_count": 22,
   "id": "286f79a0",
   "metadata": {
    "scrolled": true
   },
   "outputs": [],
   "source": [
    "#create dummies and combine \n",
    "combine_dummies = pd.get_dummies(featurs)\n",
    "result = combine_dummies.values"
   ]
  },
  {
   "cell_type": "code",
   "execution_count": 23,
   "id": "71f18914",
   "metadata": {},
   "outputs": [],
   "source": [
    "scaler = StandardScaler()\n",
    "result = scaler.fit_transform(result)"
   ]
  },
  {
   "cell_type": "code",
   "execution_count": 24,
   "id": "d6666406",
   "metadata": {},
   "outputs": [],
   "source": [
    "Xlas= result[:forsale_cp_df_ml.shape[0]]\n",
    "ylas=forsale_cp_df_ml['price'].values"
   ]
  },
  {
   "cell_type": "markdown",
   "id": "5d95c238",
   "metadata": {},
   "source": [
    "### Modeling and scores"
   ]
  },
  {
   "cell_type": "code",
   "execution_count": 25,
   "id": "fd83941a",
   "metadata": {},
   "outputs": [],
   "source": [
    "Xlas_train, Xlas_test, ylas_train, ylas_test = train_test_split(Xlas, ylas, random_state=42, test_size=0.4)"
   ]
  },
  {
   "cell_type": "code",
   "execution_count": 26,
   "id": "08c539f7",
   "metadata": {
    "scrolled": true
   },
   "outputs": [
    {
     "data": {
      "text/plain": [
       "array([472359.82134921, 457345.80064354, 486275.30934641, ...,\n",
       "       452823.54245317, 460401.27899587, 501478.43210016])"
      ]
     },
     "execution_count": 26,
     "metadata": {},
     "output_type": "execute_result"
    }
   ],
   "source": [
    "lasso_model= Lasso()\n",
    "\n",
    "lasso_model.fit(Xlas_train, ylas_train)\n",
    "\n",
    "ylas_pred = lasso_model.predict(Xlas_test)\n",
    "ylas_train_pred = lasso_model.predict(Xlas_train)\n",
    "ylas_pred"
   ]
  },
  {
   "cell_type": "code",
   "execution_count": 27,
   "id": "e4db9fd7",
   "metadata": {},
   "outputs": [
    {
     "name": "stdout",
     "output_type": "stream",
     "text": [
      "r2 score with Lasso model\n",
      "Accuracy on training data:  0.8063358708944527\n",
      "Accuracy on test data:  0.5964010552344168\n"
     ]
    }
   ],
   "source": [
    "print(\"r2 score with Lasso model\")\n",
    "print(\"Accuracy on training data: \" , r2_score(ylas_train, ylas_train_pred))\n",
    "print(\"Accuracy on test data: \", r2_score(ylas_test, ylas_pred))"
   ]
  },
  {
   "cell_type": "markdown",
   "id": "5dc11919",
   "metadata": {},
   "source": [
    "## BayesianRidge Model"
   ]
  },
  {
   "cell_type": "code",
   "execution_count": null,
   "id": "d4b2396f",
   "metadata": {},
   "outputs": [],
   "source": [
    "print (forsale_df.columns.tolist())"
   ]
  },
  {
   "cell_type": "code",
   "execution_count": 28,
   "id": "26d02e3c",
   "metadata": {},
   "outputs": [],
   "source": [
    "forsale_cp2_df_ml=forsale_df.copy()\n",
    "featurs =forsale_cp2_df_ml.drop([\"price\",\"county\",\"address\",\"state\"],axis=1)"
   ]
  },
  {
   "cell_type": "code",
   "execution_count": 30,
   "id": "99e7f818",
   "metadata": {},
   "outputs": [],
   "source": [
    "Xbay= result[:forsale_cp2_df_ml.shape[0]]\n",
    "ybay=forsale_cp2_df_ml['price'].values"
   ]
  },
  {
   "cell_type": "markdown",
   "id": "3412b60c",
   "metadata": {},
   "source": [
    "### Modeling and scores"
   ]
  },
  {
   "cell_type": "code",
   "execution_count": 34,
   "id": "41af104c",
   "metadata": {},
   "outputs": [],
   "source": [
    "Xbay_train, Xbay_test, ybay_train, ybay_test = train_test_split(Xbay, ybay, random_state=42, test_size=0.4)"
   ]
  },
  {
   "cell_type": "code",
   "execution_count": 35,
   "id": "79171a1c",
   "metadata": {},
   "outputs": [],
   "source": [
    "bayesian = BayesianRidge()\n",
    "bayesian.fit(Xbay_train, ybay_train)\n",
    "ybay_pred = bayesian.predict(Xbay_test)\n",
    "ybay_train_pred = bayesian.predict(Xbay_train)"
   ]
  },
  {
   "cell_type": "code",
   "execution_count": 37,
   "id": "07bbc0b8",
   "metadata": {},
   "outputs": [
    {
     "name": "stdout",
     "output_type": "stream",
     "text": [
      "r2 score with BayesianRidge model\n",
      "Accuracy on training data:  0.7993297959962544\n",
      "Accuracy on test data:  0.5481081631462773\n"
     ]
    }
   ],
   "source": [
    "print(\"r2 score with BayesianRidge model\")\n",
    "print(\"Accuracy on training data: \" , r2_score(ybay_train, ybay_train_pred))\n",
    "print(\"Accuracy on test data: \", r2_score(ybay_test, ybay_pred))"
   ]
  },
  {
   "cell_type": "markdown",
   "id": "b28e24cc",
   "metadata": {},
   "source": [
    "### Modeling and scores"
   ]
  },
  {
   "cell_type": "code",
   "execution_count": 63,
   "id": "3a725318",
   "metadata": {},
   "outputs": [],
   "source": [
    "final_labels = lasso_model.predict(Xlas)\n",
    "final_result = pd.DataFrame({'price': final_labels})"
   ]
  },
  {
   "cell_type": "code",
   "execution_count": 64,
   "id": "9b453534",
   "metadata": {},
   "outputs": [],
   "source": [
    "forsale_df_ml[\"predicted price\"] = final_result['price']"
   ]
  },
  {
   "cell_type": "code",
   "execution_count": 65,
   "id": "77a54ae5",
   "metadata": {},
   "outputs": [
    {
     "name": "stdout",
     "output_type": "stream",
     "text": [
      "True prices average: 512999.26\n",
      "Predicted prices average: 511457.79\n"
     ]
    }
   ],
   "source": [
    "price_avg=forsale_df_ml[\"price\"].mean()\n",
    "pred_price_avg=forsale_df_ml[\"predicted price\"].mean()\n",
    "\n",
    "print(\"True prices average:\",round(price_avg,2))\n",
    "print(\"Predicted prices average:\",round(pred_price_avg,2))"
   ]
  },
  {
   "cell_type": "code",
   "execution_count": null,
   "id": "211fa23a",
   "metadata": {},
   "outputs": [],
   "source": []
  },
  {
   "cell_type": "code",
   "execution_count": null,
   "id": "3ac969af",
   "metadata": {},
   "outputs": [],
   "source": []
  },
  {
   "cell_type": "code",
   "execution_count": null,
   "id": "05d94ba9",
   "metadata": {},
   "outputs": [],
   "source": []
  }
 ],
 "metadata": {
  "kernelspec": {
   "display_name": "Python 3 (ipykernel)",
   "language": "python",
   "name": "python3"
  },
  "language_info": {
   "codemirror_mode": {
    "name": "ipython",
    "version": 3
   },
   "file_extension": ".py",
   "mimetype": "text/x-python",
   "name": "python",
   "nbconvert_exporter": "python",
   "pygments_lexer": "ipython3",
   "version": "3.9.7"
  }
 },
 "nbformat": 4,
 "nbformat_minor": 5
}
