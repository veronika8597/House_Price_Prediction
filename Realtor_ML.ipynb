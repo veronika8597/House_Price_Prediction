{
 "cells": [
  {
   "cell_type": "markdown",
   "id": "56586043",
   "metadata": {},
   "source": [
    "# Machine Learning Prediction "
   ]
  },
  {
   "cell_type": "markdown",
   "id": "ea0c31df",
   "metadata": {},
   "source": [
    "After all the processes we made, our main goal is to predict the price of the houses based on the given features.\n",
    "For this, we used three different regressions models to look for the best results:\n",
    "    \n",
    "    1. Linear regression\n",
    "    2. Lasso \n",
    "    3. Bayesian Ridge\n",
    "    \n",
    "For each model, we preprocessed the data by encoding the categorical features and scaling the values.\n",
    "The X represent all the parameters that were given on the assets. \n",
    "The Y are the sell prices value.\n",
    "\n",
    "Eventually we took the model with the best price prediction results."
   ]
  },
  {
   "cell_type": "code",
   "execution_count": 1,
   "id": "42d824fd",
   "metadata": {},
   "outputs": [],
   "source": [
    "import pandas as pd\n",
    "import scipy as sc\n",
    "import numpy as np\n",
    "\n",
    "from sklearn.preprocessing import StandardScaler\n",
    "from sklearn.preprocessing import scale\n",
    "from sklearn.preprocessing import LabelEncoder\n",
    "from sklearn.model_selection import train_test_split\n",
    "\n",
    "from sklearn.linear_model import LinearRegression \n",
    "from sklearn.linear_model import Lasso # Lasso algorithm\n",
    "from sklearn.ensemble import RandomForestRegressor\n",
    "from sklearn.linear_model import BayesianRidge # Bayesian algorithm\n",
    "from sklearn.linear_model import ElasticNet # ElasticNet algorithm\n",
    "\n",
    "from sklearn.metrics import r2_score\n",
    "\n",
    "#!pip install plotly\n",
    "#!pip install -U kaleido\n",
    "\n",
    "import plotly.express as px\n",
    "import plotly.graph_objects as go\n",
    "import plotly.io as pio\n",
    "import seaborn as sns\n",
    "import matplotlib as mpl\n",
    "from matplotlib import pyplot as plt\n",
    "%matplotlib inline\n",
    "import warnings\n",
    "warnings.filterwarnings(\"ignore\")\n"
   ]
  },
  {
   "cell_type": "markdown",
   "id": "8d4efef4",
   "metadata": {},
   "source": [
    "## Importing the data"
   ]
  },
  {
   "cell_type": "code",
   "execution_count": 2,
   "id": "e172d24a",
   "metadata": {},
   "outputs": [],
   "source": [
    "forsale_df=pd.read_csv('RealEstateNewYork_Clean.csv',sep=',',low_memory=False)\n",
    "forsale_df.drop(forsale_df.filter(regex=\"Unname\"),axis=1, inplace=True)"
   ]
  },
  {
   "cell_type": "code",
   "execution_count": 3,
   "id": "13db541d",
   "metadata": {},
   "outputs": [
    {
     "data": {
      "text/html": [
       "<div>\n",
       "<style scoped>\n",
       "    .dataframe tbody tr th:only-of-type {\n",
       "        vertical-align: middle;\n",
       "    }\n",
       "\n",
       "    .dataframe tbody tr th {\n",
       "        vertical-align: top;\n",
       "    }\n",
       "\n",
       "    .dataframe thead th {\n",
       "        text-align: right;\n",
       "    }\n",
       "</style>\n",
       "<table border=\"1\" class=\"dataframe\">\n",
       "  <thead>\n",
       "    <tr style=\"text-align: right;\">\n",
       "      <th></th>\n",
       "      <th>price</th>\n",
       "      <th>beds</th>\n",
       "      <th>baths</th>\n",
       "      <th>garage</th>\n",
       "      <th>stories</th>\n",
       "      <th>house_type</th>\n",
       "      <th>lot_sqft</th>\n",
       "      <th>sqft</th>\n",
       "      <th>year_built</th>\n",
       "      <th>address</th>\n",
       "      <th>state</th>\n",
       "      <th>city</th>\n",
       "      <th>county</th>\n",
       "      <th>price_per_sqft</th>\n",
       "    </tr>\n",
       "  </thead>\n",
       "  <tbody>\n",
       "    <tr>\n",
       "      <th>0</th>\n",
       "      <td>294900.0</td>\n",
       "      <td>3.0</td>\n",
       "      <td>2.0</td>\n",
       "      <td>2.0</td>\n",
       "      <td>2.0</td>\n",
       "      <td>single_family</td>\n",
       "      <td>74052.0</td>\n",
       "      <td>996.0</td>\n",
       "      <td>2011</td>\n",
       "      <td>16326 Ontario Shores Dr</td>\n",
       "      <td>NY</td>\n",
       "      <td>Sterling</td>\n",
       "      <td>Cayuga</td>\n",
       "      <td>296.084337</td>\n",
       "    </tr>\n",
       "    <tr>\n",
       "      <th>1</th>\n",
       "      <td>225000.0</td>\n",
       "      <td>3.0</td>\n",
       "      <td>2.0</td>\n",
       "      <td>1.0</td>\n",
       "      <td>2.0</td>\n",
       "      <td>single_family</td>\n",
       "      <td>30056.0</td>\n",
       "      <td>1224.0</td>\n",
       "      <td>1973</td>\n",
       "      <td>38 Pine Cir</td>\n",
       "      <td>NY</td>\n",
       "      <td>Newfield</td>\n",
       "      <td>Tompkins</td>\n",
       "      <td>183.823529</td>\n",
       "    </tr>\n",
       "    <tr>\n",
       "      <th>2</th>\n",
       "      <td>149000.0</td>\n",
       "      <td>4.0</td>\n",
       "      <td>2.0</td>\n",
       "      <td>2.0</td>\n",
       "      <td>2.0</td>\n",
       "      <td>single_family</td>\n",
       "      <td>223898.0</td>\n",
       "      <td>1608.0</td>\n",
       "      <td>1900</td>\n",
       "      <td>8 Gridleyville Rd</td>\n",
       "      <td>NY</td>\n",
       "      <td>Spencer</td>\n",
       "      <td>Tioga</td>\n",
       "      <td>92.661692</td>\n",
       "    </tr>\n",
       "    <tr>\n",
       "      <th>3</th>\n",
       "      <td>599999.0</td>\n",
       "      <td>4.0</td>\n",
       "      <td>2.0</td>\n",
       "      <td>0.0</td>\n",
       "      <td>2.0</td>\n",
       "      <td>single_family</td>\n",
       "      <td>7307.0</td>\n",
       "      <td>1827.0</td>\n",
       "      <td>1858</td>\n",
       "      <td>59 Hamilton Ave</td>\n",
       "      <td>NY</td>\n",
       "      <td>Oyster Bay</td>\n",
       "      <td>Nassau</td>\n",
       "      <td>328.406678</td>\n",
       "    </tr>\n",
       "    <tr>\n",
       "      <th>4</th>\n",
       "      <td>299900.0</td>\n",
       "      <td>3.0</td>\n",
       "      <td>2.0</td>\n",
       "      <td>1.0</td>\n",
       "      <td>2.0</td>\n",
       "      <td>single_family</td>\n",
       "      <td>8712.0</td>\n",
       "      <td>1589.0</td>\n",
       "      <td>1960</td>\n",
       "      <td>41 Bender Ln</td>\n",
       "      <td>NY</td>\n",
       "      <td>Bethlehem</td>\n",
       "      <td>Albany</td>\n",
       "      <td>188.735053</td>\n",
       "    </tr>\n",
       "    <tr>\n",
       "      <th>...</th>\n",
       "      <td>...</td>\n",
       "      <td>...</td>\n",
       "      <td>...</td>\n",
       "      <td>...</td>\n",
       "      <td>...</td>\n",
       "      <td>...</td>\n",
       "      <td>...</td>\n",
       "      <td>...</td>\n",
       "      <td>...</td>\n",
       "      <td>...</td>\n",
       "      <td>...</td>\n",
       "      <td>...</td>\n",
       "      <td>...</td>\n",
       "      <td>...</td>\n",
       "    </tr>\n",
       "    <tr>\n",
       "      <th>7723</th>\n",
       "      <td>449000.0</td>\n",
       "      <td>2.0</td>\n",
       "      <td>1.0</td>\n",
       "      <td>0.0</td>\n",
       "      <td>2.0</td>\n",
       "      <td>coop</td>\n",
       "      <td>10550.0</td>\n",
       "      <td>1000.0</td>\n",
       "      <td>1963</td>\n",
       "      <td>2483 W 16th St Apt 12J</td>\n",
       "      <td>NY</td>\n",
       "      <td>Brooklyn</td>\n",
       "      <td>Kings</td>\n",
       "      <td>449.000000</td>\n",
       "    </tr>\n",
       "    <tr>\n",
       "      <th>7724</th>\n",
       "      <td>975000.0</td>\n",
       "      <td>1.0</td>\n",
       "      <td>2.0</td>\n",
       "      <td>0.0</td>\n",
       "      <td>2.0</td>\n",
       "      <td>condos</td>\n",
       "      <td>10550.0</td>\n",
       "      <td>826.0</td>\n",
       "      <td>1987</td>\n",
       "      <td>75 Wall St Apt 24K</td>\n",
       "      <td>NY</td>\n",
       "      <td>New York City</td>\n",
       "      <td>New York</td>\n",
       "      <td>1180.387409</td>\n",
       "    </tr>\n",
       "    <tr>\n",
       "      <th>7725</th>\n",
       "      <td>689000.0</td>\n",
       "      <td>3.0</td>\n",
       "      <td>3.0</td>\n",
       "      <td>1.0</td>\n",
       "      <td>2.0</td>\n",
       "      <td>single_family</td>\n",
       "      <td>7475.0</td>\n",
       "      <td>2100.0</td>\n",
       "      <td>2022</td>\n",
       "      <td>223 Endicott Ave</td>\n",
       "      <td>NY</td>\n",
       "      <td>Elmsford</td>\n",
       "      <td>Westchester</td>\n",
       "      <td>328.095238</td>\n",
       "    </tr>\n",
       "    <tr>\n",
       "      <th>7726</th>\n",
       "      <td>1862500.0</td>\n",
       "      <td>5.0</td>\n",
       "      <td>4.0</td>\n",
       "      <td>1.0</td>\n",
       "      <td>2.0</td>\n",
       "      <td>single_family</td>\n",
       "      <td>4920.0</td>\n",
       "      <td>2750.0</td>\n",
       "      <td>1955</td>\n",
       "      <td>147-40 8th Ave</td>\n",
       "      <td>NY</td>\n",
       "      <td>Whitestone</td>\n",
       "      <td>Queens</td>\n",
       "      <td>677.272727</td>\n",
       "    </tr>\n",
       "    <tr>\n",
       "      <th>7727</th>\n",
       "      <td>425000.0</td>\n",
       "      <td>1.0</td>\n",
       "      <td>1.0</td>\n",
       "      <td>0.0</td>\n",
       "      <td>1.0</td>\n",
       "      <td>condos</td>\n",
       "      <td>10550.0</td>\n",
       "      <td>600.0</td>\n",
       "      <td>2021</td>\n",
       "      <td>32-58 105th St Unit 3A</td>\n",
       "      <td>NY</td>\n",
       "      <td>East Elmhurst</td>\n",
       "      <td>Queens</td>\n",
       "      <td>708.333333</td>\n",
       "    </tr>\n",
       "  </tbody>\n",
       "</table>\n",
       "<p>7728 rows × 14 columns</p>\n",
       "</div>"
      ],
      "text/plain": [
       "          price  beds  baths  garage  stories     house_type  lot_sqft  \\\n",
       "0      294900.0   3.0    2.0     2.0      2.0  single_family   74052.0   \n",
       "1      225000.0   3.0    2.0     1.0      2.0  single_family   30056.0   \n",
       "2      149000.0   4.0    2.0     2.0      2.0  single_family  223898.0   \n",
       "3      599999.0   4.0    2.0     0.0      2.0  single_family    7307.0   \n",
       "4      299900.0   3.0    2.0     1.0      2.0  single_family    8712.0   \n",
       "...         ...   ...    ...     ...      ...            ...       ...   \n",
       "7723   449000.0   2.0    1.0     0.0      2.0           coop   10550.0   \n",
       "7724   975000.0   1.0    2.0     0.0      2.0         condos   10550.0   \n",
       "7725   689000.0   3.0    3.0     1.0      2.0  single_family    7475.0   \n",
       "7726  1862500.0   5.0    4.0     1.0      2.0  single_family    4920.0   \n",
       "7727   425000.0   1.0    1.0     0.0      1.0         condos   10550.0   \n",
       "\n",
       "        sqft  year_built                  address state           city  \\\n",
       "0      996.0        2011  16326 Ontario Shores Dr    NY       Sterling   \n",
       "1     1224.0        1973              38 Pine Cir    NY       Newfield   \n",
       "2     1608.0        1900        8 Gridleyville Rd    NY        Spencer   \n",
       "3     1827.0        1858          59 Hamilton Ave    NY     Oyster Bay   \n",
       "4     1589.0        1960             41 Bender Ln    NY      Bethlehem   \n",
       "...      ...         ...                      ...   ...            ...   \n",
       "7723  1000.0        1963   2483 W 16th St Apt 12J    NY       Brooklyn   \n",
       "7724   826.0        1987       75 Wall St Apt 24K    NY  New York City   \n",
       "7725  2100.0        2022         223 Endicott Ave    NY       Elmsford   \n",
       "7726  2750.0        1955           147-40 8th Ave    NY     Whitestone   \n",
       "7727   600.0        2021   32-58 105th St Unit 3A    NY  East Elmhurst   \n",
       "\n",
       "           county  price_per_sqft  \n",
       "0          Cayuga      296.084337  \n",
       "1        Tompkins      183.823529  \n",
       "2           Tioga       92.661692  \n",
       "3          Nassau      328.406678  \n",
       "4          Albany      188.735053  \n",
       "...           ...             ...  \n",
       "7723        Kings      449.000000  \n",
       "7724     New York     1180.387409  \n",
       "7725  Westchester      328.095238  \n",
       "7726       Queens      677.272727  \n",
       "7727       Queens      708.333333  \n",
       "\n",
       "[7728 rows x 14 columns]"
      ]
     },
     "execution_count": 3,
     "metadata": {},
     "output_type": "execute_result"
    }
   ],
   "source": [
    "forsale_df"
   ]
  },
  {
   "cell_type": "markdown",
   "id": "22afa350",
   "metadata": {},
   "source": [
    "## Linear Regression model"
   ]
  },
  {
   "cell_type": "code",
   "execution_count": 4,
   "id": "17c7f101",
   "metadata": {},
   "outputs": [
    {
     "data": {
      "text/html": [
       "<div>\n",
       "<style scoped>\n",
       "    .dataframe tbody tr th:only-of-type {\n",
       "        vertical-align: middle;\n",
       "    }\n",
       "\n",
       "    .dataframe tbody tr th {\n",
       "        vertical-align: top;\n",
       "    }\n",
       "\n",
       "    .dataframe thead th {\n",
       "        text-align: right;\n",
       "    }\n",
       "</style>\n",
       "<table border=\"1\" class=\"dataframe\">\n",
       "  <thead>\n",
       "    <tr style=\"text-align: right;\">\n",
       "      <th></th>\n",
       "      <th>beds</th>\n",
       "      <th>baths</th>\n",
       "      <th>garage</th>\n",
       "      <th>stories</th>\n",
       "      <th>lot_sqft</th>\n",
       "      <th>sqft</th>\n",
       "      <th>year_built</th>\n",
       "      <th>price_per_sqft</th>\n",
       "      <th>address</th>\n",
       "      <th>house_type</th>\n",
       "      <th>state</th>\n",
       "      <th>city</th>\n",
       "      <th>county</th>\n",
       "      <th>price</th>\n",
       "    </tr>\n",
       "  </thead>\n",
       "  <tbody>\n",
       "    <tr>\n",
       "      <th>0</th>\n",
       "      <td>3.0</td>\n",
       "      <td>2.0</td>\n",
       "      <td>2.0</td>\n",
       "      <td>2.0</td>\n",
       "      <td>74052.0</td>\n",
       "      <td>996.0</td>\n",
       "      <td>2011</td>\n",
       "      <td>296.084337</td>\n",
       "      <td>1883</td>\n",
       "      <td>4</td>\n",
       "      <td>0</td>\n",
       "      <td>945</td>\n",
       "      <td>5</td>\n",
       "      <td>294900.0</td>\n",
       "    </tr>\n",
       "    <tr>\n",
       "      <th>1</th>\n",
       "      <td>3.0</td>\n",
       "      <td>2.0</td>\n",
       "      <td>1.0</td>\n",
       "      <td>2.0</td>\n",
       "      <td>30056.0</td>\n",
       "      <td>1224.0</td>\n",
       "      <td>1973</td>\n",
       "      <td>183.823529</td>\n",
       "      <td>4636</td>\n",
       "      <td>4</td>\n",
       "      <td>0</td>\n",
       "      <td>686</td>\n",
       "      <td>54</td>\n",
       "      <td>225000.0</td>\n",
       "    </tr>\n",
       "    <tr>\n",
       "      <th>2</th>\n",
       "      <td>4.0</td>\n",
       "      <td>2.0</td>\n",
       "      <td>2.0</td>\n",
       "      <td>2.0</td>\n",
       "      <td>223898.0</td>\n",
       "      <td>1608.0</td>\n",
       "      <td>1900</td>\n",
       "      <td>92.661692</td>\n",
       "      <td>6949</td>\n",
       "      <td>4</td>\n",
       "      <td>0</td>\n",
       "      <td>933</td>\n",
       "      <td>53</td>\n",
       "      <td>149000.0</td>\n",
       "    </tr>\n",
       "    <tr>\n",
       "      <th>3</th>\n",
       "      <td>4.0</td>\n",
       "      <td>2.0</td>\n",
       "      <td>0.0</td>\n",
       "      <td>2.0</td>\n",
       "      <td>7307.0</td>\n",
       "      <td>1827.0</td>\n",
       "      <td>1858</td>\n",
       "      <td>328.406678</td>\n",
       "      <td>6007</td>\n",
       "      <td>4</td>\n",
       "      <td>0</td>\n",
       "      <td>742</td>\n",
       "      <td>29</td>\n",
       "      <td>599999.0</td>\n",
       "    </tr>\n",
       "    <tr>\n",
       "      <th>4</th>\n",
       "      <td>3.0</td>\n",
       "      <td>2.0</td>\n",
       "      <td>1.0</td>\n",
       "      <td>2.0</td>\n",
       "      <td>8712.0</td>\n",
       "      <td>1589.0</td>\n",
       "      <td>1960</td>\n",
       "      <td>188.735053</td>\n",
       "      <td>4911</td>\n",
       "      <td>4</td>\n",
       "      <td>0</td>\n",
       "      <td>83</td>\n",
       "      <td>0</td>\n",
       "      <td>299900.0</td>\n",
       "    </tr>\n",
       "    <tr>\n",
       "      <th>...</th>\n",
       "      <td>...</td>\n",
       "      <td>...</td>\n",
       "      <td>...</td>\n",
       "      <td>...</td>\n",
       "      <td>...</td>\n",
       "      <td>...</td>\n",
       "      <td>...</td>\n",
       "      <td>...</td>\n",
       "      <td>...</td>\n",
       "      <td>...</td>\n",
       "      <td>...</td>\n",
       "      <td>...</td>\n",
       "      <td>...</td>\n",
       "      <td>...</td>\n",
       "    </tr>\n",
       "    <tr>\n",
       "      <th>7723</th>\n",
       "      <td>2.0</td>\n",
       "      <td>1.0</td>\n",
       "      <td>0.0</td>\n",
       "      <td>2.0</td>\n",
       "      <td>10550.0</td>\n",
       "      <td>1000.0</td>\n",
       "      <td>1963</td>\n",
       "      <td>449.000000</td>\n",
       "      <td>3221</td>\n",
       "      <td>1</td>\n",
       "      <td>0</td>\n",
       "      <td>119</td>\n",
       "      <td>23</td>\n",
       "      <td>449000.0</td>\n",
       "    </tr>\n",
       "    <tr>\n",
       "      <th>7724</th>\n",
       "      <td>1.0</td>\n",
       "      <td>2.0</td>\n",
       "      <td>0.0</td>\n",
       "      <td>2.0</td>\n",
       "      <td>10550.0</td>\n",
       "      <td>826.0</td>\n",
       "      <td>1987</td>\n",
       "      <td>1180.387409</td>\n",
       "      <td>6793</td>\n",
       "      <td>0</td>\n",
       "      <td>0</td>\n",
       "      <td>679</td>\n",
       "      <td>30</td>\n",
       "      <td>975000.0</td>\n",
       "    </tr>\n",
       "    <tr>\n",
       "      <th>7725</th>\n",
       "      <td>3.0</td>\n",
       "      <td>3.0</td>\n",
       "      <td>1.0</td>\n",
       "      <td>2.0</td>\n",
       "      <td>7475.0</td>\n",
       "      <td>2100.0</td>\n",
       "      <td>2022</td>\n",
       "      <td>328.095238</td>\n",
       "      <td>2893</td>\n",
       "      <td>4</td>\n",
       "      <td>0</td>\n",
       "      <td>316</td>\n",
       "      <td>59</td>\n",
       "      <td>689000.0</td>\n",
       "    </tr>\n",
       "    <tr>\n",
       "      <th>7726</th>\n",
       "      <td>5.0</td>\n",
       "      <td>4.0</td>\n",
       "      <td>1.0</td>\n",
       "      <td>2.0</td>\n",
       "      <td>4920.0</td>\n",
       "      <td>2750.0</td>\n",
       "      <td>1955</td>\n",
       "      <td>677.272727</td>\n",
       "      <td>1496</td>\n",
       "      <td>4</td>\n",
       "      <td>0</td>\n",
       "      <td>1058</td>\n",
       "      <td>40</td>\n",
       "      <td>1862500.0</td>\n",
       "    </tr>\n",
       "    <tr>\n",
       "      <th>7727</th>\n",
       "      <td>1.0</td>\n",
       "      <td>1.0</td>\n",
       "      <td>0.0</td>\n",
       "      <td>1.0</td>\n",
       "      <td>10550.0</td>\n",
       "      <td>600.0</td>\n",
       "      <td>2021</td>\n",
       "      <td>708.333333</td>\n",
       "      <td>4090</td>\n",
       "      <td>0</td>\n",
       "      <td>0</td>\n",
       "      <td>279</td>\n",
       "      <td>40</td>\n",
       "      <td>425000.0</td>\n",
       "    </tr>\n",
       "  </tbody>\n",
       "</table>\n",
       "<p>7728 rows × 14 columns</p>\n",
       "</div>"
      ],
      "text/plain": [
       "      beds  baths  garage  stories  lot_sqft    sqft  year_built  \\\n",
       "0      3.0    2.0     2.0      2.0   74052.0   996.0        2011   \n",
       "1      3.0    2.0     1.0      2.0   30056.0  1224.0        1973   \n",
       "2      4.0    2.0     2.0      2.0  223898.0  1608.0        1900   \n",
       "3      4.0    2.0     0.0      2.0    7307.0  1827.0        1858   \n",
       "4      3.0    2.0     1.0      2.0    8712.0  1589.0        1960   \n",
       "...    ...    ...     ...      ...       ...     ...         ...   \n",
       "7723   2.0    1.0     0.0      2.0   10550.0  1000.0        1963   \n",
       "7724   1.0    2.0     0.0      2.0   10550.0   826.0        1987   \n",
       "7725   3.0    3.0     1.0      2.0    7475.0  2100.0        2022   \n",
       "7726   5.0    4.0     1.0      2.0    4920.0  2750.0        1955   \n",
       "7727   1.0    1.0     0.0      1.0   10550.0   600.0        2021   \n",
       "\n",
       "      price_per_sqft  address  house_type  state  city  county      price  \n",
       "0         296.084337     1883           4      0   945       5   294900.0  \n",
       "1         183.823529     4636           4      0   686      54   225000.0  \n",
       "2          92.661692     6949           4      0   933      53   149000.0  \n",
       "3         328.406678     6007           4      0   742      29   599999.0  \n",
       "4         188.735053     4911           4      0    83       0   299900.0  \n",
       "...              ...      ...         ...    ...   ...     ...        ...  \n",
       "7723      449.000000     3221           1      0   119      23   449000.0  \n",
       "7724     1180.387409     6793           0      0   679      30   975000.0  \n",
       "7725      328.095238     2893           4      0   316      59   689000.0  \n",
       "7726      677.272727     1496           4      0  1058      40  1862500.0  \n",
       "7727      708.333333     4090           0      0   279      40   425000.0  \n",
       "\n",
       "[7728 rows x 14 columns]"
      ]
     },
     "execution_count": 4,
     "metadata": {},
     "output_type": "execute_result"
    }
   ],
   "source": [
    "forsale_df_ml = forsale_df.copy()\n",
    "forsale_df_ml.drop([\"address\",\"house_type\",\"state\",\"city\",\"county\"], axis=1, inplace=True)\n",
    "forsale_df_ml['address'] = LabelEncoder().fit_transform(forsale_df['address'])\n",
    "forsale_df_ml['house_type'] = LabelEncoder().fit_transform(forsale_df['house_type'])\n",
    "forsale_df_ml['state'] = LabelEncoder().fit_transform(forsale_df['state'])\n",
    "forsale_df_ml['city'] = LabelEncoder().fit_transform(forsale_df['city'])\n",
    "forsale_df_ml['county'] = LabelEncoder().fit_transform(forsale_df['county'])\n",
    "repc=forsale_df_ml.pop('price')\n",
    "forsale_df_ml['price']=repc\n",
    "forsale_df_ml"
   ]
  },
  {
   "cell_type": "code",
   "execution_count": 5,
   "id": "f35e5a3c",
   "metadata": {},
   "outputs": [],
   "source": [
    "Xlin = forsale_df_ml.iloc[:,:-1]\n",
    "ylin = forsale_df_ml.iloc[:,-1]"
   ]
  },
  {
   "cell_type": "markdown",
   "id": "908facbf",
   "metadata": {},
   "source": [
    "### Modeling and scores"
   ]
  },
  {
   "cell_type": "code",
   "execution_count": 6,
   "id": "f71de5a7",
   "metadata": {},
   "outputs": [],
   "source": [
    "Xlin_train, Xlin_test, ylin_train, ylin_test = train_test_split(Xlin, ylin,random_state=0 , test_size=0.4)"
   ]
  },
  {
   "cell_type": "code",
   "execution_count": 7,
   "id": "5f93533e",
   "metadata": {},
   "outputs": [
    {
     "data": {
      "text/plain": [
       "array([  19342.98301713, 1264522.41433167, 1415511.10219062, ...,\n",
       "        652883.41015392,   83648.15523203,   45423.95975931])"
      ]
     },
     "execution_count": 7,
     "metadata": {},
     "output_type": "execute_result"
    }
   ],
   "source": [
    "linear_model = LinearRegression(fit_intercept=False)\n",
    "\n",
    "linear_model.fit(Xlin_train,ylin_train)\n",
    "\n",
    "ylin_pred = linear_model.predict(Xlin_test)\n",
    "ylin_train_pred = linear_model.predict(Xlin_train)\n",
    "ylin_pred"
   ]
  },
  {
   "cell_type": "code",
   "execution_count": 8,
   "id": "3d5ade3b",
   "metadata": {},
   "outputs": [
    {
     "name": "stdout",
     "output_type": "stream",
     "text": [
      "r2 score with LinearRegression model\n",
      "Accuracy on training data:  0.8246892160595706\n",
      "Accuracy on test data:  0.8042198286917305\n"
     ]
    }
   ],
   "source": [
    "print(\"r2 score with LinearRegression model\")\n",
    "print(\"Accuracy on training data: \" , r2_score(ylin_train, ylin_train_pred))\n",
    "print(\"Accuracy on test data: \", r2_score(ylin_test, ylin_pred))"
   ]
  },
  {
   "cell_type": "markdown",
   "id": "f6f60166",
   "metadata": {},
   "source": [
    "## Lasso model"
   ]
  },
  {
   "cell_type": "code",
   "execution_count": 9,
   "id": "7fef7c52",
   "metadata": {},
   "outputs": [
    {
     "name": "stdout",
     "output_type": "stream",
     "text": [
      "['price', 'beds', 'baths', 'garage', 'stories', 'house_type', 'lot_sqft', 'sqft', 'year_built', 'address', 'state', 'city', 'county', 'price_per_sqft']\n"
     ]
    }
   ],
   "source": [
    "print (forsale_df.columns.tolist())"
   ]
  },
  {
   "cell_type": "code",
   "execution_count": 10,
   "id": "c14f7426",
   "metadata": {},
   "outputs": [],
   "source": [
    "forsale_cp_df_ml=forsale_df.copy()\n",
    "featurs =forsale_cp_df_ml.drop([\"price\",\"county\",\"address\",\"state\"],axis=1)"
   ]
  },
  {
   "cell_type": "markdown",
   "id": "7c4af1f6",
   "metadata": {},
   "source": [
    "create dummies and combine"
   ]
  },
  {
   "cell_type": "code",
   "execution_count": 11,
   "id": "286f79a0",
   "metadata": {
    "scrolled": true
   },
   "outputs": [],
   "source": [
    "combine_dummies = pd.get_dummies(featurs)\n",
    "result = combine_dummies.values"
   ]
  },
  {
   "cell_type": "code",
   "execution_count": 12,
   "id": "71f18914",
   "metadata": {},
   "outputs": [],
   "source": [
    "scaler = StandardScaler()\n",
    "result = scaler.fit_transform(result)"
   ]
  },
  {
   "cell_type": "code",
   "execution_count": 13,
   "id": "d6666406",
   "metadata": {},
   "outputs": [],
   "source": [
    "Xlas= result[:forsale_cp_df_ml.shape[0]]\n",
    "ylas=forsale_cp_df_ml['price'].values"
   ]
  },
  {
   "cell_type": "markdown",
   "id": "5d95c238",
   "metadata": {},
   "source": [
    "### Modeling and scores"
   ]
  },
  {
   "cell_type": "code",
   "execution_count": 14,
   "id": "fd83941a",
   "metadata": {},
   "outputs": [],
   "source": [
    "Xlas_train, Xlas_test, ylas_train, ylas_test = train_test_split(Xlas, ylas, random_state=42, test_size=0.4)"
   ]
  },
  {
   "cell_type": "code",
   "execution_count": 15,
   "id": "08c539f7",
   "metadata": {
    "scrolled": true
   },
   "outputs": [
    {
     "data": {
      "text/plain": [
       "array([ 158210.85054795,  773248.28753809,  204106.35984996, ...,\n",
       "        545702.27412501,  278655.31995597, 1015569.46360946])"
      ]
     },
     "execution_count": 15,
     "metadata": {},
     "output_type": "execute_result"
    }
   ],
   "source": [
    "lasso_model= Lasso()\n",
    "\n",
    "lasso_model.fit(Xlas_train, ylas_train)\n",
    "\n",
    "ylas_pred = lasso_model.predict(Xlas_test)\n",
    "ylas_train_pred = lasso_model.predict(Xlas_train)\n",
    "ylas_pred"
   ]
  },
  {
   "cell_type": "code",
   "execution_count": 16,
   "id": "e4db9fd7",
   "metadata": {},
   "outputs": [
    {
     "name": "stdout",
     "output_type": "stream",
     "text": [
      "r2 score with Lasso model\n",
      "Accuracy on training data:  0.8596987055644911\n",
      "Accuracy on test data:  0.8074682093893724\n"
     ]
    }
   ],
   "source": [
    "print(\"r2 score with Lasso model\")\n",
    "print(\"Accuracy on training data: \" , r2_score(ylas_train, ylas_train_pred))\n",
    "print(\"Accuracy on test data: \", r2_score(ylas_test, ylas_pred))"
   ]
  },
  {
   "cell_type": "markdown",
   "id": "5dc11919",
   "metadata": {},
   "source": [
    "## BayesianRidge Model"
   ]
  },
  {
   "cell_type": "code",
   "execution_count": 17,
   "id": "d4b2396f",
   "metadata": {},
   "outputs": [
    {
     "name": "stdout",
     "output_type": "stream",
     "text": [
      "['price', 'beds', 'baths', 'garage', 'stories', 'house_type', 'lot_sqft', 'sqft', 'year_built', 'address', 'state', 'city', 'county', 'price_per_sqft']\n"
     ]
    }
   ],
   "source": [
    "print (forsale_df.columns.tolist())"
   ]
  },
  {
   "cell_type": "code",
   "execution_count": 18,
   "id": "26d02e3c",
   "metadata": {},
   "outputs": [],
   "source": [
    "forsale_cp2_df_ml=forsale_df.copy()\n",
    "featurs =forsale_cp2_df_ml.drop([\"price\",\"county\",\"address\",\"state\"],axis=1)"
   ]
  },
  {
   "cell_type": "code",
   "execution_count": 19,
   "id": "99e7f818",
   "metadata": {},
   "outputs": [],
   "source": [
    "Xbay= result[:forsale_cp2_df_ml.shape[0]]\n",
    "ybay=forsale_cp2_df_ml['price'].values"
   ]
  },
  {
   "cell_type": "markdown",
   "id": "3412b60c",
   "metadata": {},
   "source": [
    "### Modeling and scores"
   ]
  },
  {
   "cell_type": "code",
   "execution_count": 20,
   "id": "41af104c",
   "metadata": {},
   "outputs": [],
   "source": [
    "Xbay_train, Xbay_test, ybay_train, ybay_test = train_test_split(Xbay, ybay, random_state=42, test_size=0.4)"
   ]
  },
  {
   "cell_type": "code",
   "execution_count": 21,
   "id": "79171a1c",
   "metadata": {},
   "outputs": [],
   "source": [
    "bayesian = BayesianRidge()\n",
    "bayesian.fit(Xbay_train, ybay_train)\n",
    "ybay_pred = bayesian.predict(Xbay_test)\n",
    "ybay_train_pred = bayesian.predict(Xbay_train)"
   ]
  },
  {
   "cell_type": "code",
   "execution_count": 22,
   "id": "07bbc0b8",
   "metadata": {},
   "outputs": [
    {
     "name": "stdout",
     "output_type": "stream",
     "text": [
      "r2 score with BayesianRidge model\n",
      "Accuracy on training data:  0.8558451612918336\n",
      "Accuracy on test data:  0.7998087860944406\n"
     ]
    }
   ],
   "source": [
    "print(\"r2 score with BayesianRidge model\")\n",
    "print(\"Accuracy on training data: \" , r2_score(ybay_train, ybay_train_pred))\n",
    "print(\"Accuracy on test data: \", r2_score(ybay_test, ybay_pred))"
   ]
  },
  {
   "cell_type": "markdown",
   "id": "b28e24cc",
   "metadata": {},
   "source": [
    "### Add BEST predicted prices to original data frame"
   ]
  },
  {
   "cell_type": "code",
   "execution_count": 23,
   "id": "3a725318",
   "metadata": {},
   "outputs": [],
   "source": [
    "final_labels = lasso_model.predict(Xlas)\n",
    "final_result = pd.DataFrame({'price': final_labels})"
   ]
  },
  {
   "cell_type": "code",
   "execution_count": 24,
   "id": "9b453534",
   "metadata": {},
   "outputs": [],
   "source": [
    "forsale_df_ml[\"predicted price\"] = final_result['price']"
   ]
  },
  {
   "cell_type": "code",
   "execution_count": 25,
   "id": "77a54ae5",
   "metadata": {},
   "outputs": [
    {
     "name": "stdout",
     "output_type": "stream",
     "text": [
      "True prices average: 663308.42\n",
      "Predicted prices average: 662135.04\n"
     ]
    }
   ],
   "source": [
    "price_avg=forsale_df_ml[\"price\"].mean()\n",
    "pred_price_avg=forsale_df_ml[\"predicted price\"].mean()\n",
    "\n",
    "print(\"True prices average:\",round(price_avg,2))\n",
    "print(\"Predicted prices average:\",round(pred_price_avg,2))"
   ]
  },
  {
   "cell_type": "markdown",
   "id": "c0a534e0",
   "metadata": {},
   "source": [
    "### Conclusions:\n",
    "\n",
    "    1. We found which parameters influent the most the sell price of the asset.\n",
    "    2. After deploying our predictive models we saw that the \"before and after\" feature engineering is crutial\n"
   ]
  },
  {
   "cell_type": "code",
   "execution_count": null,
   "id": "9c9950f4",
   "metadata": {},
   "outputs": [],
   "source": []
  }
 ],
 "metadata": {
  "kernelspec": {
   "display_name": "Python 3 (ipykernel)",
   "language": "python",
   "name": "python3"
  },
  "language_info": {
   "codemirror_mode": {
    "name": "ipython",
    "version": 3
   },
   "file_extension": ".py",
   "mimetype": "text/x-python",
   "name": "python",
   "nbconvert_exporter": "python",
   "pygments_lexer": "ipython3",
   "version": "3.9.7"
  }
 },
 "nbformat": 4,
 "nbformat_minor": 5
}
