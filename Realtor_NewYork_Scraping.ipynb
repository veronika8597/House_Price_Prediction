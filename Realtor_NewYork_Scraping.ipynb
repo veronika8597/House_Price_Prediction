{
 "cells": [
  {
   "cell_type": "markdown",
   "id": "972947d6",
   "metadata": {},
   "source": [
    "## Setup"
   ]
  },
  {
   "cell_type": "code",
   "execution_count": 1,
   "id": "218edd70",
   "metadata": {},
   "outputs": [],
   "source": [
    "import requests \n",
    "import json \n",
    "import pandas as pd\n",
    "import numpy as np"
   ]
  },
  {
   "cell_type": "code",
   "execution_count": 2,
   "id": "ba1efbff",
   "metadata": {},
   "outputs": [],
   "source": [
    "def send_request(page_number: int, offset_parameter: int):\n",
    "    url = \"https://www.realtor.com/api/v1/hulk?client_id=rdc-x&schema=vesta\"\n",
    "    headers = {\"content-type\": \"application/json\"}\n",
    "\n",
    "    body = r'{\"query\":\"\\n\\nquery ConsumerSearchMainQuery($query: HomeSearchCriteria!, $limit: Int, $offset: Int, $sort: [SearchAPISort], $sort_type: SearchSortType, $client_data: JSON, $geoSupportedSlug: String!, $bucket: SearchAPIBucket, $by_prop_type: [String])\\n{\\n  home_search: home_search(query: $query,\\n    sort: $sort,\\n    limit: $limit,\\n    offset: $offset,\\n    sort_type: $sort_type,\\n    client_data: $client_data,\\n    bucket: $bucket,\\n  ){\\n    count\\n    total\\n    results {\\n      property_id\\n      list_price\\n      primary_photo (https: true){\\n        href\\n      }\\n      source {\\n        id\\n        agents{\\n          office_name\\n        }\\n        type\\n        spec_id\\n        plan_id\\n      }\\n      community {\\n        property_id\\n        description {\\n          name\\n        }\\n        advertisers{\\n          office{\\n            hours\\n            phones {\\n              type\\n              number\\n            }\\n          }\\n          builder {\\n            fulfillment_id\\n          }\\n        }\\n      }\\n      products {\\n        brand_name\\n        products\\n      }\\n      listing_id\\n      matterport\\n      virtual_tours{\\n        href\\n        type\\n      }\\n      status\\n      permalink\\n      price_reduced_amount\\n      other_listings{rdc {\\n      listing_id\\n      status\\n      listing_key\\n      primary\\n    }}\\n      description{\\n        beds\\n        baths\\n        baths_full\\n        baths_half\\n        baths_1qtr\\n        baths_3qtr\\n        garage\\n        stories\\n        type\\n        sub_type\\n        lot_sqft\\n        sqft\\n        year_built\\n        sold_price\\n        sold_date\\n        name\\n      }\\n      location{\\n        street_view_url\\n        address{\\n          line\\n          postal_code\\n          state\\n          state_code\\n          city\\n          coordinate {\\n            lat\\n            lon\\n          }\\n        }\\n        county {\\n          name\\n          fips_code\\n        }\\n      }\\n      tax_record {\\n        public_record_id\\n      }\\n      lead_attributes {\\n        show_contact_an_agent\\n        opcity_lead_attributes {\\n          cashback_enabled\\n          flip_the_market_enabled\\n        }\\n        lead_type\\n      }\\n      open_houses {\\n        start_date\\n        end_date\\n        description\\n        methods\\n        time_zone\\n        dst\\n      }\\n      flags{\\n        is_coming_soon\\n        is_pending\\n        is_foreclosure\\n        is_contingent\\n        is_new_construction\\n        is_new_listing (days: 14)\\n        is_price_reduced (days: 30)\\n        is_plan\\n        is_subdivision\\n      }\\n      list_date\\n      last_update_date\\n      coming_soon_date\\n      photos(limit: 2, https: true){\\n        href\\n      }\\n      tags\\n      branding {\\n        type\\n        photo\\n        name\\n      }\\n    }\\n  }\\n  geo(slug_id: $geoSupportedSlug) {\\n    parents {\\n      geo_type\\n      slug_id\\n      name\\n    }\\n    geo_statistics(group_by: property_type) {\\n      housing_market {\\n        by_prop_type(type: $by_prop_type){\\n          type\\n           attributes{\\n            median_listing_price\\n            median_lot_size\\n            median_sold_price\\n            median_price_per_sqft\\n            median_days_on_market\\n          }\\n        }\\n        listing_count\\n        median_listing_price\\n        median_rent_price\\n        median_price_per_sqft\\n        median_days_on_market\\n        median_sold_price\\n        month_to_month {\\n          active_listing_count_percent_change\\n          median_days_on_market_percent_change\\n          median_listing_price_percent_change\\n          median_listing_price_sqft_percent_change\\n        }\\n      }\\n    }\\n    recommended_cities: recommended(query: {geo_search_type: city, limit: 20}) {\\n      geos {\\n        ... on City {\\n          city\\n          state_code\\n          geo_type\\n          slug_id\\n        }\\n        geo_statistics(group_by: property_type) {\\n          housing_market {\\n            by_prop_type(type: [\\\"home\\\"]) {\\n              type\\n              attributes {\\n                median_listing_price\\n              }\\n            }\\n            median_listing_price\\n          }\\n        }\\n      }\\n    }\\n    recommended_neighborhoods: recommended(query: {geo_search_type: neighborhood, limit: 20}) {\\n      geos {\\n        ... on Neighborhood {\\n          neighborhood\\n          city\\n          state_code\\n          geo_type\\n          slug_id\\n        }\\n        geo_statistics(group_by: property_type) {\\n          housing_market {\\n            by_prop_type(type: [\\\"home\\\"]) {\\n              type\\n              attributes {\\n                median_listing_price\\n              }\\n            }\\n            median_listing_price\\n          }\\n        }\\n      }\\n    }\\n    recommended_counties: recommended(query: {geo_search_type: county, limit: 20}) {\\n      geos {\\n        ... on HomeCounty {\\n          county\\n          state_code\\n          geo_type\\n          slug_id\\n        }\\n        geo_statistics(group_by: property_type) {\\n          housing_market {\\n            by_prop_type(type: [\\\"home\\\"]) {\\n              type\\n              attributes {\\n                median_listing_price\\n              }\\n            }\\n            median_listing_price\\n          }\\n        }\\n      }\\n    }\\n    recommended_zips: recommended(query: {geo_search_type: postal_code, limit: 20}) {\\n      geos {\\n        ... on PostalCode {\\n          postal_code\\n          geo_type\\n          slug_id\\n        }\\n        geo_statistics(group_by: property_type) {\\n          housing_market {\\n            by_prop_type(type: [\\\"home\\\"]) {\\n              type\\n              attributes {\\n                median_listing_price\\n              }\\n            }\\n            median_listing_price\\n          }\\n        }\\n      }\\n    }\\n  }\\n}\",\"variables\":{\"query\":{\"status\":[\"for_sale\",\"ready_to_build\"],\"primary\":true,\"state_code\":\"NY\"},\"client_data\":{\"device_data\":{\"device_type\":\"web\"},\"user_data\":{\"last_view_timestamp\":-1}},\"limit\":42,\"offset\":42,\"zohoQuery\":{\"silo\":\"search_result_page\",\"location\":\"New York\",\"property_status\":\"for_sale\",\"filters\":{},\"page_index\":\"2\"},\"sort_type\":\"relevant\",\"geoSupportedSlug\":\"\",\"by_prop_type\":[\"home\"]},\"operationName\":\"ConsumerSearchMainQuery\",\"callfrom\":\"SRP\",\"nrQueryType\":\"MAIN_SRP\",\"visitor_id\":\"eff16470-ceb5-4926-8c0b-6d1779772842\",\"isClient\":true,\"seoPayload\":{\"asPath\":\"/realestateandhomes-search/New-York/pg-2\",\"pageType\":{\"silo\":\"search_result_page\",\"status\":\"for_sale\"},\"county_needed_for_uniq\":false}}'\n",
    "    json_body = json.loads(body)\n",
    "    \n",
    "    json_body[\"variables\"][\"page_index\"] = page_number\n",
    "    json_body[\"seoPayload\"] = page_number\n",
    "    json_body[\"variables\"][\"offset\"] = offset_parameter\n",
    "\n",
    "\n",
    "    r = requests.post(url=url, json=json_body, headers=headers)\n",
    "    json_data = r.json()\n",
    "    return json_data"
   ]
  },
  {
   "cell_type": "code",
   "execution_count": null,
   "id": "95d3727a",
   "metadata": {},
   "outputs": [],
   "source": [
    "offset_parameter = 0\n",
    "\n",
    "json_data_list = []\n",
    "\n",
    "for page_number in range(1, 207):\n",
    "    json_data = send_request(page_number, offset_parameter=offset_parameter)\n",
    "    json_data_list.append(json_data)\n",
    "    offset_parameter +=42"
   ]
  },
  {
   "cell_type": "code",
   "execution_count": null,
   "id": "017e99c8",
   "metadata": {},
   "outputs": [],
   "source": [
    "def extract_features(entry: dict):\n",
    "    feature_dict = {\n",
    "        \"price\": entry[\"list_price\"],\n",
    "        \"beds\": entry[\"description\"][\"beds\"],\n",
    "        \"baths\": entry[\"description\"][\"baths\"],\n",
    "        \"garage\": entry[\"description\"][\"garage\"],\n",
    "        \"stories\": entry[\"description\"][\"stories\"],\n",
    "        \"house_type\": entry[\"description\"][\"type\"],\n",
    "        \"lot_sqft\": entry[\"description\"][\"lot_sqft\"],\n",
    "        \"sqft\": entry[\"description\"][\"sqft\"],\n",
    "        \"year_built\": entry[\"description\"][\"year_built\"],\n",
    "        \"address\": entry[\"location\"][\"address\"][\"line\"],\n",
    "        \"state\": entry[\"location\"][\"address\"][\"state_code\"],\n",
    "        \"city\": entry[\"location\"][\"address\"][\"city\"],\n",
    "    }\n",
    "    \n",
    "    if entry[\"location\"][\"address\"][\"coordinate\"]:\n",
    "        feature_dict.update({\"lat\": entry[\"location\"][\"address\"][\"coordinate\"][\"lat\"]})\n",
    "        feature_dict.update({\"lon\": entry[\"location\"][\"address\"][\"coordinate\"][\"lon\"]})\n",
    "    if entry[\"location\"][\"county\"]:\n",
    "        feature_dict.update({\"county\": entry[\"location\"][\"county\"][\"name\"]})\n",
    "    \n",
    "    return feature_dict"
   ]
  },
  {
   "cell_type": "code",
   "execution_count": null,
   "id": "adc24261",
   "metadata": {},
   "outputs": [],
   "source": [
    "feature_dict_list = []\n",
    "\n",
    "for data in json_data_list:\n",
    "    for entry in data[\"data\"][\"home_search\"][\"results\"]:\n",
    "        feature_dict = extract_features(entry=entry)\n",
    "        feature_dict_list.append(feature_dict)\n",
    "\n",
    "df = pd.DataFrame(feature_dict_list)\n",
    "df\n"
   ]
  },
  {
   "cell_type": "markdown",
   "id": "70b2df7a",
   "metadata": {},
   "source": [
    "### Saving to csv file"
   ]
  },
  {
   "cell_type": "code",
   "execution_count": null,
   "id": "fb740e3c",
   "metadata": {},
   "outputs": [],
   "source": [
    "df.to_csv('RealEstateNewYork.csv', index=False)"
   ]
  },
  {
   "cell_type": "code",
   "execution_count": null,
   "id": "d56f7ccd",
   "metadata": {},
   "outputs": [],
   "source": []
  }
 ],
 "metadata": {
  "kernelspec": {
   "display_name": "Python 3 (ipykernel)",
   "language": "python",
   "name": "python3"
  },
  "language_info": {
   "codemirror_mode": {
    "name": "ipython",
    "version": 3
   },
   "file_extension": ".py",
   "mimetype": "text/x-python",
   "name": "python",
   "nbconvert_exporter": "python",
   "pygments_lexer": "ipython3",
   "version": "3.9.7"
  }
 },
 "nbformat": 4,
 "nbformat_minor": 5
}
