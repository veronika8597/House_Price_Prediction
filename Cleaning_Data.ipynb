{
 "cells": [
  {
   "cell_type": "markdown",
   "id": "80b33320",
   "metadata": {},
   "source": [
    "# Cleaning house listings for sale"
   ]
  },
  {
   "cell_type": "code",
   "execution_count": 1,
   "id": "8a6ab338",
   "metadata": {},
   "outputs": [],
   "source": [
    "import pandas as pd\n",
    "import numpy as np\n",
    "import re\n",
    "import warnings\n",
    "warnings.filterwarnings('ignore')\n",
    "#!pip install pydotplus\n",
    "\n",
    "from IPython.display import Image, display #for tree plot \n",
    "import pydotplus \n",
    "from scipy import misc\n",
    "\n",
    "import plotly.express as px\n",
    "\n",
    "import seaborn as sns\n",
    "import matplotlib as mpl\n",
    "from matplotlib import pyplot as plt\n",
    "%matplotlib inline\n",
    "plt.rcParams['figure.figsize'] = (10, 6)\n"
   ]
  },
  {
   "cell_type": "markdown",
   "id": "cec97150",
   "metadata": {},
   "source": [
    "## Import the data"
   ]
  },
  {
   "cell_type": "code",
   "execution_count": 2,
   "id": "ded7c5e5",
   "metadata": {},
   "outputs": [],
   "source": [
    "df=pd.read_csv('RealEstateNewYork.csv',sep=',',low_memory=False)"
   ]
  },
  {
   "cell_type": "code",
   "execution_count": 3,
   "id": "2b2bf4c5",
   "metadata": {},
   "outputs": [
    {
     "data": {
      "text/plain": [
       "(8652, 15)"
      ]
     },
     "execution_count": 3,
     "metadata": {},
     "output_type": "execute_result"
    }
   ],
   "source": [
    "df.shape"
   ]
  },
  {
   "cell_type": "code",
   "execution_count": 4,
   "id": "1056a8f1",
   "metadata": {},
   "outputs": [],
   "source": [
    "df_clean=df.copy()"
   ]
  },
  {
   "cell_type": "markdown",
   "id": "befa45e0",
   "metadata": {},
   "source": [
    "## Acquaintance with the data"
   ]
  },
  {
   "cell_type": "code",
   "execution_count": 5,
   "id": "60b9564f",
   "metadata": {},
   "outputs": [
    {
     "data": {
      "text/html": [
       "<div>\n",
       "<style scoped>\n",
       "    .dataframe tbody tr th:only-of-type {\n",
       "        vertical-align: middle;\n",
       "    }\n",
       "\n",
       "    .dataframe tbody tr th {\n",
       "        vertical-align: top;\n",
       "    }\n",
       "\n",
       "    .dataframe thead th {\n",
       "        text-align: right;\n",
       "    }\n",
       "</style>\n",
       "<table border=\"1\" class=\"dataframe\">\n",
       "  <thead>\n",
       "    <tr style=\"text-align: right;\">\n",
       "      <th></th>\n",
       "      <th>price</th>\n",
       "      <th>beds</th>\n",
       "      <th>baths</th>\n",
       "      <th>garage</th>\n",
       "      <th>stories</th>\n",
       "      <th>house_type</th>\n",
       "      <th>lot_sqft</th>\n",
       "      <th>sqft</th>\n",
       "      <th>year_built</th>\n",
       "      <th>address</th>\n",
       "      <th>state</th>\n",
       "      <th>city</th>\n",
       "      <th>lat</th>\n",
       "      <th>lon</th>\n",
       "      <th>county</th>\n",
       "    </tr>\n",
       "  </thead>\n",
       "  <tbody>\n",
       "    <tr>\n",
       "      <th>count</th>\n",
       "      <td>8.652000e+03</td>\n",
       "      <td>8652.000000</td>\n",
       "      <td>8652.000000</td>\n",
       "      <td>4738.000000</td>\n",
       "      <td>6799.000000</td>\n",
       "      <td>8652</td>\n",
       "      <td>7210.000000</td>\n",
       "      <td>5150.000000</td>\n",
       "      <td>8652.000000</td>\n",
       "      <td>8652</td>\n",
       "      <td>8652</td>\n",
       "      <td>8652</td>\n",
       "      <td>8446.000000</td>\n",
       "      <td>8446.000000</td>\n",
       "      <td>8652</td>\n",
       "    </tr>\n",
       "    <tr>\n",
       "      <th>unique</th>\n",
       "      <td>NaN</td>\n",
       "      <td>NaN</td>\n",
       "      <td>NaN</td>\n",
       "      <td>NaN</td>\n",
       "      <td>NaN</td>\n",
       "      <td>6</td>\n",
       "      <td>NaN</td>\n",
       "      <td>NaN</td>\n",
       "      <td>NaN</td>\n",
       "      <td>43</td>\n",
       "      <td>1</td>\n",
       "      <td>39</td>\n",
       "      <td>NaN</td>\n",
       "      <td>NaN</td>\n",
       "      <td>13</td>\n",
       "    </tr>\n",
       "    <tr>\n",
       "      <th>top</th>\n",
       "      <td>NaN</td>\n",
       "      <td>NaN</td>\n",
       "      <td>NaN</td>\n",
       "      <td>NaN</td>\n",
       "      <td>NaN</td>\n",
       "      <td>single_family</td>\n",
       "      <td>NaN</td>\n",
       "      <td>NaN</td>\n",
       "      <td>NaN</td>\n",
       "      <td>87-40 Woodhaven Blvd</td>\n",
       "      <td>NY</td>\n",
       "      <td>New York</td>\n",
       "      <td>NaN</td>\n",
       "      <td>NaN</td>\n",
       "      <td>Suffolk</td>\n",
       "    </tr>\n",
       "    <tr>\n",
       "      <th>freq</th>\n",
       "      <td>NaN</td>\n",
       "      <td>NaN</td>\n",
       "      <td>NaN</td>\n",
       "      <td>NaN</td>\n",
       "      <td>NaN</td>\n",
       "      <td>5562</td>\n",
       "      <td>NaN</td>\n",
       "      <td>NaN</td>\n",
       "      <td>NaN</td>\n",
       "      <td>206</td>\n",
       "      <td>8652</td>\n",
       "      <td>618</td>\n",
       "      <td>NaN</td>\n",
       "      <td>NaN</td>\n",
       "      <td>2060</td>\n",
       "    </tr>\n",
       "    <tr>\n",
       "      <th>mean</th>\n",
       "      <td>1.359977e+06</td>\n",
       "      <td>3.833102</td>\n",
       "      <td>2.761674</td>\n",
       "      <td>1.738919</td>\n",
       "      <td>6.635682</td>\n",
       "      <td>NaN</td>\n",
       "      <td>26553.953398</td>\n",
       "      <td>2016.984466</td>\n",
       "      <td>1957.470527</td>\n",
       "      <td>NaN</td>\n",
       "      <td>NaN</td>\n",
       "      <td>NaN</td>\n",
       "      <td>41.014540</td>\n",
       "      <td>-73.869649</td>\n",
       "      <td>NaN</td>\n",
       "    </tr>\n",
       "    <tr>\n",
       "      <th>std</th>\n",
       "      <td>1.833997e+06</td>\n",
       "      <td>1.572397</td>\n",
       "      <td>1.359476</td>\n",
       "      <td>0.605729</td>\n",
       "      <td>14.358759</td>\n",
       "      <td>NaN</td>\n",
       "      <td>42065.077568</td>\n",
       "      <td>753.165533</td>\n",
       "      <td>40.538009</td>\n",
       "      <td>NaN</td>\n",
       "      <td>NaN</td>\n",
       "      <td>NaN</td>\n",
       "      <td>0.563367</td>\n",
       "      <td>1.006523</td>\n",
       "      <td>NaN</td>\n",
       "    </tr>\n",
       "    <tr>\n",
       "      <th>min</th>\n",
       "      <td>9.991300e+04</td>\n",
       "      <td>1.000000</td>\n",
       "      <td>1.000000</td>\n",
       "      <td>1.000000</td>\n",
       "      <td>1.000000</td>\n",
       "      <td>NaN</td>\n",
       "      <td>1600.000000</td>\n",
       "      <td>700.000000</td>\n",
       "      <td>1860.000000</td>\n",
       "      <td>NaN</td>\n",
       "      <td>NaN</td>\n",
       "      <td>NaN</td>\n",
       "      <td>40.631451</td>\n",
       "      <td>-78.391600</td>\n",
       "      <td>NaN</td>\n",
       "    </tr>\n",
       "    <tr>\n",
       "      <th>25%</th>\n",
       "      <td>5.499000e+05</td>\n",
       "      <td>3.000000</td>\n",
       "      <td>2.000000</td>\n",
       "      <td>1.000000</td>\n",
       "      <td>2.000000</td>\n",
       "      <td>NaN</td>\n",
       "      <td>4000.000000</td>\n",
       "      <td>1440.000000</td>\n",
       "      <td>1930.000000</td>\n",
       "      <td>NaN</td>\n",
       "      <td>NaN</td>\n",
       "      <td>NaN</td>\n",
       "      <td>40.728737</td>\n",
       "      <td>-73.901971</td>\n",
       "      <td>NaN</td>\n",
       "    </tr>\n",
       "    <tr>\n",
       "      <th>50%</th>\n",
       "      <td>7.895000e+05</td>\n",
       "      <td>4.000000</td>\n",
       "      <td>3.000000</td>\n",
       "      <td>2.000000</td>\n",
       "      <td>2.000000</td>\n",
       "      <td>NaN</td>\n",
       "      <td>8640.000000</td>\n",
       "      <td>1840.000000</td>\n",
       "      <td>1955.000000</td>\n",
       "      <td>NaN</td>\n",
       "      <td>NaN</td>\n",
       "      <td>NaN</td>\n",
       "      <td>40.776836</td>\n",
       "      <td>-73.753398</td>\n",
       "      <td>NaN</td>\n",
       "    </tr>\n",
       "    <tr>\n",
       "      <th>75%</th>\n",
       "      <td>1.199000e+06</td>\n",
       "      <td>5.000000</td>\n",
       "      <td>3.000000</td>\n",
       "      <td>2.000000</td>\n",
       "      <td>3.000000</td>\n",
       "      <td>NaN</td>\n",
       "      <td>23958.000000</td>\n",
       "      <td>2556.000000</td>\n",
       "      <td>1986.000000</td>\n",
       "      <td>NaN</td>\n",
       "      <td>NaN</td>\n",
       "      <td>NaN</td>\n",
       "      <td>40.955878</td>\n",
       "      <td>-73.468086</td>\n",
       "      <td>NaN</td>\n",
       "    </tr>\n",
       "    <tr>\n",
       "      <th>max</th>\n",
       "      <td>7.975000e+06</td>\n",
       "      <td>8.000000</td>\n",
       "      <td>7.000000</td>\n",
       "      <td>3.000000</td>\n",
       "      <td>52.000000</td>\n",
       "      <td>NaN</td>\n",
       "      <td>180338.000000</td>\n",
       "      <td>4000.000000</td>\n",
       "      <td>2022.000000</td>\n",
       "      <td>NaN</td>\n",
       "      <td>NaN</td>\n",
       "      <td>NaN</td>\n",
       "      <td>43.208041</td>\n",
       "      <td>-72.443379</td>\n",
       "      <td>NaN</td>\n",
       "    </tr>\n",
       "  </tbody>\n",
       "</table>\n",
       "</div>"
      ],
      "text/plain": [
       "               price         beds        baths       garage      stories  \\\n",
       "count   8.652000e+03  8652.000000  8652.000000  4738.000000  6799.000000   \n",
       "unique           NaN          NaN          NaN          NaN          NaN   \n",
       "top              NaN          NaN          NaN          NaN          NaN   \n",
       "freq             NaN          NaN          NaN          NaN          NaN   \n",
       "mean    1.359977e+06     3.833102     2.761674     1.738919     6.635682   \n",
       "std     1.833997e+06     1.572397     1.359476     0.605729    14.358759   \n",
       "min     9.991300e+04     1.000000     1.000000     1.000000     1.000000   \n",
       "25%     5.499000e+05     3.000000     2.000000     1.000000     2.000000   \n",
       "50%     7.895000e+05     4.000000     3.000000     2.000000     2.000000   \n",
       "75%     1.199000e+06     5.000000     3.000000     2.000000     3.000000   \n",
       "max     7.975000e+06     8.000000     7.000000     3.000000    52.000000   \n",
       "\n",
       "           house_type       lot_sqft         sqft   year_built  \\\n",
       "count            8652    7210.000000  5150.000000  8652.000000   \n",
       "unique              6            NaN          NaN          NaN   \n",
       "top     single_family            NaN          NaN          NaN   \n",
       "freq             5562            NaN          NaN          NaN   \n",
       "mean              NaN   26553.953398  2016.984466  1957.470527   \n",
       "std               NaN   42065.077568   753.165533    40.538009   \n",
       "min               NaN    1600.000000   700.000000  1860.000000   \n",
       "25%               NaN    4000.000000  1440.000000  1930.000000   \n",
       "50%               NaN    8640.000000  1840.000000  1955.000000   \n",
       "75%               NaN   23958.000000  2556.000000  1986.000000   \n",
       "max               NaN  180338.000000  4000.000000  2022.000000   \n",
       "\n",
       "                     address state      city          lat          lon  \\\n",
       "count                   8652  8652      8652  8446.000000  8446.000000   \n",
       "unique                    43     1        39          NaN          NaN   \n",
       "top     87-40 Woodhaven Blvd    NY  New York          NaN          NaN   \n",
       "freq                     206  8652       618          NaN          NaN   \n",
       "mean                     NaN   NaN       NaN    41.014540   -73.869649   \n",
       "std                      NaN   NaN       NaN     0.563367     1.006523   \n",
       "min                      NaN   NaN       NaN    40.631451   -78.391600   \n",
       "25%                      NaN   NaN       NaN    40.728737   -73.901971   \n",
       "50%                      NaN   NaN       NaN    40.776836   -73.753398   \n",
       "75%                      NaN   NaN       NaN    40.955878   -73.468086   \n",
       "max                      NaN   NaN       NaN    43.208041   -72.443379   \n",
       "\n",
       "         county  \n",
       "count      8652  \n",
       "unique       13  \n",
       "top     Suffolk  \n",
       "freq       2060  \n",
       "mean        NaN  \n",
       "std         NaN  \n",
       "min         NaN  \n",
       "25%         NaN  \n",
       "50%         NaN  \n",
       "75%         NaN  \n",
       "max         NaN  "
      ]
     },
     "execution_count": 5,
     "metadata": {},
     "output_type": "execute_result"
    }
   ],
   "source": [
    "df_clean.describe(include='all')"
   ]
  },
  {
   "cell_type": "code",
   "execution_count": 6,
   "id": "72bbe7da",
   "metadata": {},
   "outputs": [
    {
     "data": {
      "text/plain": [
       "11123"
      ]
     },
     "execution_count": 6,
     "metadata": {},
     "output_type": "execute_result"
    }
   ],
   "source": [
    "df_clean.isnull().sum().sum()"
   ]
  },
  {
   "cell_type": "code",
   "execution_count": 7,
   "id": "9469dcc2",
   "metadata": {},
   "outputs": [
    {
     "data": {
      "text/plain": [
       "price            0\n",
       "beds             0\n",
       "baths            0\n",
       "garage        3914\n",
       "stories       1853\n",
       "house_type       0\n",
       "lot_sqft      1442\n",
       "sqft          3502\n",
       "year_built       0\n",
       "address          0\n",
       "state            0\n",
       "city             0\n",
       "lat            206\n",
       "lon            206\n",
       "county           0\n",
       "dtype: int64"
      ]
     },
     "execution_count": 7,
     "metadata": {},
     "output_type": "execute_result"
    }
   ],
   "source": [
    "df_clean.isnull().sum()"
   ]
  },
  {
   "cell_type": "markdown",
   "id": "b1790ac5",
   "metadata": {},
   "source": [
    "## Deal with missing data"
   ]
  },
  {
   "cell_type": "markdown",
   "id": "8ca56a62",
   "metadata": {},
   "source": [
    "### 1. Delete missing values:"
   ]
  },
  {
   "cell_type": "code",
   "execution_count": 8,
   "id": "9d4f475d",
   "metadata": {},
   "outputs": [
    {
     "data": {
      "text/html": [
       "<div>\n",
       "<style scoped>\n",
       "    .dataframe tbody tr th:only-of-type {\n",
       "        vertical-align: middle;\n",
       "    }\n",
       "\n",
       "    .dataframe tbody tr th {\n",
       "        vertical-align: top;\n",
       "    }\n",
       "\n",
       "    .dataframe thead th {\n",
       "        text-align: right;\n",
       "    }\n",
       "</style>\n",
       "<table border=\"1\" class=\"dataframe\">\n",
       "  <thead>\n",
       "    <tr style=\"text-align: right;\">\n",
       "      <th></th>\n",
       "      <th>price</th>\n",
       "      <th>beds</th>\n",
       "      <th>baths</th>\n",
       "      <th>garage</th>\n",
       "      <th>stories</th>\n",
       "      <th>house_type</th>\n",
       "      <th>lot_sqft</th>\n",
       "      <th>sqft</th>\n",
       "      <th>year_built</th>\n",
       "      <th>address</th>\n",
       "      <th>state</th>\n",
       "      <th>city</th>\n",
       "      <th>lat</th>\n",
       "      <th>lon</th>\n",
       "      <th>county</th>\n",
       "    </tr>\n",
       "  </thead>\n",
       "  <tbody>\n",
       "    <tr>\n",
       "      <th>0</th>\n",
       "      <td>585000</td>\n",
       "      <td>5</td>\n",
       "      <td>4</td>\n",
       "      <td>2.0</td>\n",
       "      <td>NaN</td>\n",
       "      <td>single_family</td>\n",
       "      <td>135036.0</td>\n",
       "      <td>2560.0</td>\n",
       "      <td>1979</td>\n",
       "      <td>18 Arbor Rd</td>\n",
       "      <td>NY</td>\n",
       "      <td>Campbell Hall</td>\n",
       "      <td>41.449837</td>\n",
       "      <td>-74.231302</td>\n",
       "      <td>Orange</td>\n",
       "    </tr>\n",
       "    <tr>\n",
       "      <th>1</th>\n",
       "      <td>735000</td>\n",
       "      <td>3</td>\n",
       "      <td>2</td>\n",
       "      <td>NaN</td>\n",
       "      <td>2.0</td>\n",
       "      <td>single_family</td>\n",
       "      <td>NaN</td>\n",
       "      <td>2556.0</td>\n",
       "      <td>2022</td>\n",
       "      <td>10 Kolb Rd</td>\n",
       "      <td>NY</td>\n",
       "      <td>Boiceville</td>\n",
       "      <td>42.000346</td>\n",
       "      <td>-74.284836</td>\n",
       "      <td>Ulster</td>\n",
       "    </tr>\n",
       "    <tr>\n",
       "      <th>2</th>\n",
       "      <td>139900</td>\n",
       "      <td>2</td>\n",
       "      <td>1</td>\n",
       "      <td>2.0</td>\n",
       "      <td>1.0</td>\n",
       "      <td>single_family</td>\n",
       "      <td>180338.0</td>\n",
       "      <td>1210.0</td>\n",
       "      <td>1960</td>\n",
       "      <td>1524 Hardy Corners Rd</td>\n",
       "      <td>NY</td>\n",
       "      <td>Franklinville</td>\n",
       "      <td>42.364357</td>\n",
       "      <td>-78.391600</td>\n",
       "      <td>Cattaraugus</td>\n",
       "    </tr>\n",
       "    <tr>\n",
       "      <th>3</th>\n",
       "      <td>540000</td>\n",
       "      <td>2</td>\n",
       "      <td>2</td>\n",
       "      <td>NaN</td>\n",
       "      <td>NaN</td>\n",
       "      <td>single_family</td>\n",
       "      <td>69696.0</td>\n",
       "      <td>1320.0</td>\n",
       "      <td>1980</td>\n",
       "      <td>50 Van Deusen Rd</td>\n",
       "      <td>NY</td>\n",
       "      <td>Hudson</td>\n",
       "      <td>42.214365</td>\n",
       "      <td>-73.752362</td>\n",
       "      <td>Columbia</td>\n",
       "    </tr>\n",
       "    <tr>\n",
       "      <th>4</th>\n",
       "      <td>369000</td>\n",
       "      <td>5</td>\n",
       "      <td>3</td>\n",
       "      <td>3.0</td>\n",
       "      <td>2.0</td>\n",
       "      <td>multi_family</td>\n",
       "      <td>14810.0</td>\n",
       "      <td>2751.0</td>\n",
       "      <td>1860</td>\n",
       "      <td>6 Hudson St</td>\n",
       "      <td>NY</td>\n",
       "      <td>Port Jervis</td>\n",
       "      <td>41.379343</td>\n",
       "      <td>-74.690333</td>\n",
       "      <td>Orange</td>\n",
       "    </tr>\n",
       "    <tr>\n",
       "      <th>...</th>\n",
       "      <td>...</td>\n",
       "      <td>...</td>\n",
       "      <td>...</td>\n",
       "      <td>...</td>\n",
       "      <td>...</td>\n",
       "      <td>...</td>\n",
       "      <td>...</td>\n",
       "      <td>...</td>\n",
       "      <td>...</td>\n",
       "      <td>...</td>\n",
       "      <td>...</td>\n",
       "      <td>...</td>\n",
       "      <td>...</td>\n",
       "      <td>...</td>\n",
       "      <td>...</td>\n",
       "    </tr>\n",
       "    <tr>\n",
       "      <th>8647</th>\n",
       "      <td>1200000</td>\n",
       "      <td>5</td>\n",
       "      <td>2</td>\n",
       "      <td>NaN</td>\n",
       "      <td>2.0</td>\n",
       "      <td>multi_family</td>\n",
       "      <td>2000.0</td>\n",
       "      <td>NaN</td>\n",
       "      <td>1900</td>\n",
       "      <td>72-27 66th Pl</td>\n",
       "      <td>NY</td>\n",
       "      <td>Glendale</td>\n",
       "      <td>40.700590</td>\n",
       "      <td>-73.886594</td>\n",
       "      <td>Queens</td>\n",
       "    </tr>\n",
       "    <tr>\n",
       "      <th>8648</th>\n",
       "      <td>518000</td>\n",
       "      <td>1</td>\n",
       "      <td>1</td>\n",
       "      <td>1.0</td>\n",
       "      <td>1.0</td>\n",
       "      <td>condos</td>\n",
       "      <td>NaN</td>\n",
       "      <td>NaN</td>\n",
       "      <td>2005</td>\n",
       "      <td>40-53 62nd St Unit 3F</td>\n",
       "      <td>NY</td>\n",
       "      <td>Woodside</td>\n",
       "      <td>40.744014</td>\n",
       "      <td>-73.901971</td>\n",
       "      <td>Queens</td>\n",
       "    </tr>\n",
       "    <tr>\n",
       "      <th>8649</th>\n",
       "      <td>7975000</td>\n",
       "      <td>5</td>\n",
       "      <td>6</td>\n",
       "      <td>NaN</td>\n",
       "      <td>52.0</td>\n",
       "      <td>condos</td>\n",
       "      <td>NaN</td>\n",
       "      <td>3429.0</td>\n",
       "      <td>2021</td>\n",
       "      <td>200 Amsterdam Ave Unit 3A</td>\n",
       "      <td>NY</td>\n",
       "      <td>New York</td>\n",
       "      <td>40.776836</td>\n",
       "      <td>-73.983100</td>\n",
       "      <td>New York</td>\n",
       "    </tr>\n",
       "    <tr>\n",
       "      <th>8650</th>\n",
       "      <td>7360000</td>\n",
       "      <td>3</td>\n",
       "      <td>4</td>\n",
       "      <td>NaN</td>\n",
       "      <td>52.0</td>\n",
       "      <td>condos</td>\n",
       "      <td>NaN</td>\n",
       "      <td>2221.0</td>\n",
       "      <td>2021</td>\n",
       "      <td>200 Amsterdam Ave Unit 25B</td>\n",
       "      <td>NY</td>\n",
       "      <td>New York</td>\n",
       "      <td>40.776836</td>\n",
       "      <td>-73.983100</td>\n",
       "      <td>New York</td>\n",
       "    </tr>\n",
       "    <tr>\n",
       "      <th>8651</th>\n",
       "      <td>6780000</td>\n",
       "      <td>3</td>\n",
       "      <td>4</td>\n",
       "      <td>NaN</td>\n",
       "      <td>52.0</td>\n",
       "      <td>condos</td>\n",
       "      <td>NaN</td>\n",
       "      <td>2221.0</td>\n",
       "      <td>2021</td>\n",
       "      <td>200 Amsterdam Ave Unit 26B</td>\n",
       "      <td>NY</td>\n",
       "      <td>New York</td>\n",
       "      <td>40.776836</td>\n",
       "      <td>-73.983100</td>\n",
       "      <td>New York</td>\n",
       "    </tr>\n",
       "  </tbody>\n",
       "</table>\n",
       "<p>8652 rows × 15 columns</p>\n",
       "</div>"
      ],
      "text/plain": [
       "        price  beds  baths  garage  stories     house_type  lot_sqft    sqft  \\\n",
       "0      585000     5      4     2.0      NaN  single_family  135036.0  2560.0   \n",
       "1      735000     3      2     NaN      2.0  single_family       NaN  2556.0   \n",
       "2      139900     2      1     2.0      1.0  single_family  180338.0  1210.0   \n",
       "3      540000     2      2     NaN      NaN  single_family   69696.0  1320.0   \n",
       "4      369000     5      3     3.0      2.0   multi_family   14810.0  2751.0   \n",
       "...       ...   ...    ...     ...      ...            ...       ...     ...   \n",
       "8647  1200000     5      2     NaN      2.0   multi_family    2000.0     NaN   \n",
       "8648   518000     1      1     1.0      1.0         condos       NaN     NaN   \n",
       "8649  7975000     5      6     NaN     52.0         condos       NaN  3429.0   \n",
       "8650  7360000     3      4     NaN     52.0         condos       NaN  2221.0   \n",
       "8651  6780000     3      4     NaN     52.0         condos       NaN  2221.0   \n",
       "\n",
       "      year_built                     address state           city        lat  \\\n",
       "0           1979                 18 Arbor Rd    NY  Campbell Hall  41.449837   \n",
       "1           2022                  10 Kolb Rd    NY     Boiceville  42.000346   \n",
       "2           1960       1524 Hardy Corners Rd    NY  Franklinville  42.364357   \n",
       "3           1980            50 Van Deusen Rd    NY         Hudson  42.214365   \n",
       "4           1860                 6 Hudson St    NY    Port Jervis  41.379343   \n",
       "...          ...                         ...   ...            ...        ...   \n",
       "8647        1900               72-27 66th Pl    NY       Glendale  40.700590   \n",
       "8648        2005       40-53 62nd St Unit 3F    NY       Woodside  40.744014   \n",
       "8649        2021   200 Amsterdam Ave Unit 3A    NY       New York  40.776836   \n",
       "8650        2021  200 Amsterdam Ave Unit 25B    NY       New York  40.776836   \n",
       "8651        2021  200 Amsterdam Ave Unit 26B    NY       New York  40.776836   \n",
       "\n",
       "            lon       county  \n",
       "0    -74.231302       Orange  \n",
       "1    -74.284836       Ulster  \n",
       "2    -78.391600  Cattaraugus  \n",
       "3    -73.752362     Columbia  \n",
       "4    -74.690333       Orange  \n",
       "...         ...          ...  \n",
       "8647 -73.886594       Queens  \n",
       "8648 -73.901971       Queens  \n",
       "8649 -73.983100     New York  \n",
       "8650 -73.983100     New York  \n",
       "8651 -73.983100     New York  \n",
       "\n",
       "[8652 rows x 15 columns]"
      ]
     },
     "execution_count": 8,
     "metadata": {},
     "output_type": "execute_result"
    }
   ],
   "source": [
    "df_clean = df_clean.dropna(subset=['city','county']).reset_index(drop=True)\n",
    "df_clean"
   ]
  },
  {
   "cell_type": "code",
   "execution_count": 9,
   "id": "1c8c10e8",
   "metadata": {},
   "outputs": [
    {
     "data": {
      "text/plain": [
       "price            0\n",
       "beds             0\n",
       "baths            0\n",
       "garage        3914\n",
       "stories       1853\n",
       "house_type       0\n",
       "lot_sqft      1442\n",
       "sqft          3502\n",
       "year_built       0\n",
       "address          0\n",
       "state            0\n",
       "city             0\n",
       "lat            206\n",
       "lon            206\n",
       "county           0\n",
       "dtype: int64"
      ]
     },
     "execution_count": 9,
     "metadata": {},
     "output_type": "execute_result"
    }
   ],
   "source": [
    "df_clean.isnull().sum()"
   ]
  },
  {
   "cell_type": "markdown",
   "id": "78b93caf",
   "metadata": {},
   "source": [
    "### 2. Fill NaNs :"
   ]
  },
  {
   "cell_type": "code",
   "execution_count": 10,
   "id": "c0a4588e",
   "metadata": {},
   "outputs": [],
   "source": [
    "df_clean.year_built = df_clean.year_built.fillna(df_clean.year_built.median())\n",
    "df_clean.beds = df_clean.beds.fillna(df_clean.beds.median())\n",
    "df_clean.baths = df_clean.baths.fillna(df_clean.baths.median())\n",
    "df_clean.garage =df_clean.garage.fillna(0, inplace = False)\n",
    "df_clean.stories = df_clean.stories.fillna(df_clean.stories.median())\n",
    "df_clean.sqft = df_clean.sqft.fillna(df_clean.sqft.median())\n",
    "df_clean.lot_sqft = df_clean.lot_sqft.fillna(df_clean.lot_sqft.median())\n",
    "df_clean.address = df_clean.address.fillna('Not Specified')"
   ]
  },
  {
   "cell_type": "code",
   "execution_count": 11,
   "id": "d71e37dd",
   "metadata": {},
   "outputs": [
    {
     "data": {
      "text/plain": [
       "price           0\n",
       "beds            0\n",
       "baths           0\n",
       "garage          0\n",
       "stories         0\n",
       "house_type      0\n",
       "lot_sqft        0\n",
       "sqft            0\n",
       "year_built      0\n",
       "address         0\n",
       "state           0\n",
       "city            0\n",
       "lat           206\n",
       "lon           206\n",
       "county          0\n",
       "dtype: int64"
      ]
     },
     "execution_count": 11,
     "metadata": {},
     "output_type": "execute_result"
    }
   ],
   "source": [
    "df_clean.isnull().sum()"
   ]
  },
  {
   "cell_type": "markdown",
   "id": "c63c80b1",
   "metadata": {},
   "source": [
    "## Drop the unnecessary columns"
   ]
  },
  {
   "cell_type": "code",
   "execution_count": 12,
   "id": "0b9dbb92",
   "metadata": {},
   "outputs": [],
   "source": [
    "df_clean = df_clean.drop(columns=(['lon', 'lat']))"
   ]
  },
  {
   "cell_type": "markdown",
   "id": "6a4d783f",
   "metadata": {},
   "source": [
    "## Drop the unnecessary rows"
   ]
  },
  {
   "cell_type": "code",
   "execution_count": 13,
   "id": "252084df",
   "metadata": {},
   "outputs": [],
   "source": [
    "df_clean = df_clean[df_clean[\"house_type\"].str.contains(\"mobile\") == False]\n",
    "df_clean = df_clean[df_clean[\"house_type\"].str.contains(\"condo_townhome_rowhome_coop\") == False]\n",
    "df_clean = df_clean[df_clean[\"house_type\"].str.contains(\"condop\") == False]\n",
    "df_clean = df_clean[df_clean[\"house_type\"].str.contains(\"farm\") == False]"
   ]
  },
  {
   "cell_type": "markdown",
   "id": "03eee75a",
   "metadata": {},
   "source": [
    "## Remove duplicates"
   ]
  },
  {
   "cell_type": "code",
   "execution_count": 14,
   "id": "bb2472bf",
   "metadata": {},
   "outputs": [
    {
     "data": {
      "text/html": [
       "<div>\n",
       "<style scoped>\n",
       "    .dataframe tbody tr th:only-of-type {\n",
       "        vertical-align: middle;\n",
       "    }\n",
       "\n",
       "    .dataframe tbody tr th {\n",
       "        vertical-align: top;\n",
       "    }\n",
       "\n",
       "    .dataframe thead th {\n",
       "        text-align: right;\n",
       "    }\n",
       "</style>\n",
       "<table border=\"1\" class=\"dataframe\">\n",
       "  <thead>\n",
       "    <tr style=\"text-align: right;\">\n",
       "      <th></th>\n",
       "      <th>price</th>\n",
       "      <th>beds</th>\n",
       "      <th>baths</th>\n",
       "      <th>garage</th>\n",
       "      <th>stories</th>\n",
       "      <th>house_type</th>\n",
       "      <th>lot_sqft</th>\n",
       "      <th>sqft</th>\n",
       "      <th>year_built</th>\n",
       "      <th>address</th>\n",
       "      <th>state</th>\n",
       "      <th>city</th>\n",
       "      <th>county</th>\n",
       "    </tr>\n",
       "  </thead>\n",
       "  <tbody>\n",
       "    <tr>\n",
       "      <th>0</th>\n",
       "      <td>585000</td>\n",
       "      <td>5</td>\n",
       "      <td>4</td>\n",
       "      <td>2.0</td>\n",
       "      <td>2.0</td>\n",
       "      <td>single_family</td>\n",
       "      <td>135036.0</td>\n",
       "      <td>2560.0</td>\n",
       "      <td>1979</td>\n",
       "      <td>18 Arbor Rd</td>\n",
       "      <td>NY</td>\n",
       "      <td>Campbell Hall</td>\n",
       "      <td>Orange</td>\n",
       "    </tr>\n",
       "    <tr>\n",
       "      <th>1</th>\n",
       "      <td>735000</td>\n",
       "      <td>3</td>\n",
       "      <td>2</td>\n",
       "      <td>0.0</td>\n",
       "      <td>2.0</td>\n",
       "      <td>single_family</td>\n",
       "      <td>8640.0</td>\n",
       "      <td>2556.0</td>\n",
       "      <td>2022</td>\n",
       "      <td>10 Kolb Rd</td>\n",
       "      <td>NY</td>\n",
       "      <td>Boiceville</td>\n",
       "      <td>Ulster</td>\n",
       "    </tr>\n",
       "    <tr>\n",
       "      <th>2</th>\n",
       "      <td>139900</td>\n",
       "      <td>2</td>\n",
       "      <td>1</td>\n",
       "      <td>2.0</td>\n",
       "      <td>1.0</td>\n",
       "      <td>single_family</td>\n",
       "      <td>180338.0</td>\n",
       "      <td>1210.0</td>\n",
       "      <td>1960</td>\n",
       "      <td>1524 Hardy Corners Rd</td>\n",
       "      <td>NY</td>\n",
       "      <td>Franklinville</td>\n",
       "      <td>Cattaraugus</td>\n",
       "    </tr>\n",
       "    <tr>\n",
       "      <th>3</th>\n",
       "      <td>540000</td>\n",
       "      <td>2</td>\n",
       "      <td>2</td>\n",
       "      <td>0.0</td>\n",
       "      <td>2.0</td>\n",
       "      <td>single_family</td>\n",
       "      <td>69696.0</td>\n",
       "      <td>1320.0</td>\n",
       "      <td>1980</td>\n",
       "      <td>50 Van Deusen Rd</td>\n",
       "      <td>NY</td>\n",
       "      <td>Hudson</td>\n",
       "      <td>Columbia</td>\n",
       "    </tr>\n",
       "    <tr>\n",
       "      <th>4</th>\n",
       "      <td>369000</td>\n",
       "      <td>5</td>\n",
       "      <td>3</td>\n",
       "      <td>3.0</td>\n",
       "      <td>2.0</td>\n",
       "      <td>multi_family</td>\n",
       "      <td>14810.0</td>\n",
       "      <td>2751.0</td>\n",
       "      <td>1860</td>\n",
       "      <td>6 Hudson St</td>\n",
       "      <td>NY</td>\n",
       "      <td>Port Jervis</td>\n",
       "      <td>Orange</td>\n",
       "    </tr>\n",
       "    <tr>\n",
       "      <th>5</th>\n",
       "      <td>549900</td>\n",
       "      <td>7</td>\n",
       "      <td>3</td>\n",
       "      <td>0.0</td>\n",
       "      <td>2.0</td>\n",
       "      <td>single_family</td>\n",
       "      <td>4792.0</td>\n",
       "      <td>2990.0</td>\n",
       "      <td>1880</td>\n",
       "      <td>206 Main St</td>\n",
       "      <td>NY</td>\n",
       "      <td>Catskill</td>\n",
       "      <td>Greene</td>\n",
       "    </tr>\n",
       "    <tr>\n",
       "      <th>6</th>\n",
       "      <td>339900</td>\n",
       "      <td>3</td>\n",
       "      <td>3</td>\n",
       "      <td>2.0</td>\n",
       "      <td>2.0</td>\n",
       "      <td>single_family</td>\n",
       "      <td>17860.0</td>\n",
       "      <td>2026.0</td>\n",
       "      <td>2004</td>\n",
       "      <td>888 Lothario Cir</td>\n",
       "      <td>NY</td>\n",
       "      <td>Webster</td>\n",
       "      <td>Monroe</td>\n",
       "    </tr>\n",
       "    <tr>\n",
       "      <th>7</th>\n",
       "      <td>539000</td>\n",
       "      <td>3</td>\n",
       "      <td>2</td>\n",
       "      <td>2.0</td>\n",
       "      <td>2.0</td>\n",
       "      <td>single_family</td>\n",
       "      <td>13068.0</td>\n",
       "      <td>1700.0</td>\n",
       "      <td>1976</td>\n",
       "      <td>285 Sunrise Dr</td>\n",
       "      <td>NY</td>\n",
       "      <td>Sayville</td>\n",
       "      <td>Suffolk</td>\n",
       "    </tr>\n",
       "    <tr>\n",
       "      <th>8</th>\n",
       "      <td>949000</td>\n",
       "      <td>5</td>\n",
       "      <td>4</td>\n",
       "      <td>2.0</td>\n",
       "      <td>2.0</td>\n",
       "      <td>single_family</td>\n",
       "      <td>23958.0</td>\n",
       "      <td>4000.0</td>\n",
       "      <td>2005</td>\n",
       "      <td>114 Alden Dr</td>\n",
       "      <td>NY</td>\n",
       "      <td>Port Jefferson</td>\n",
       "      <td>Suffolk</td>\n",
       "    </tr>\n",
       "    <tr>\n",
       "      <th>9</th>\n",
       "      <td>499000</td>\n",
       "      <td>4</td>\n",
       "      <td>1</td>\n",
       "      <td>0.0</td>\n",
       "      <td>3.0</td>\n",
       "      <td>single_family</td>\n",
       "      <td>7000.0</td>\n",
       "      <td>1498.0</td>\n",
       "      <td>1960</td>\n",
       "      <td>5 Bergen Dr</td>\n",
       "      <td>NY</td>\n",
       "      <td>Deer Park</td>\n",
       "      <td>Suffolk</td>\n",
       "    </tr>\n",
       "    <tr>\n",
       "      <th>10</th>\n",
       "      <td>570000</td>\n",
       "      <td>4</td>\n",
       "      <td>1</td>\n",
       "      <td>1.0</td>\n",
       "      <td>2.0</td>\n",
       "      <td>single_family</td>\n",
       "      <td>4000.0</td>\n",
       "      <td>1215.0</td>\n",
       "      <td>1946</td>\n",
       "      <td>73 Carl Ave</td>\n",
       "      <td>NY</td>\n",
       "      <td>Franklin Square</td>\n",
       "      <td>Nassau</td>\n",
       "    </tr>\n",
       "    <tr>\n",
       "      <th>11</th>\n",
       "      <td>1650000</td>\n",
       "      <td>3</td>\n",
       "      <td>2</td>\n",
       "      <td>0.0</td>\n",
       "      <td>2.0</td>\n",
       "      <td>single_family</td>\n",
       "      <td>28750.0</td>\n",
       "      <td>1840.0</td>\n",
       "      <td>1927</td>\n",
       "      <td>3075 Lighthouse Rd</td>\n",
       "      <td>NY</td>\n",
       "      <td>Southold</td>\n",
       "      <td>Suffolk</td>\n",
       "    </tr>\n",
       "    <tr>\n",
       "      <th>12</th>\n",
       "      <td>699990</td>\n",
       "      <td>4</td>\n",
       "      <td>2</td>\n",
       "      <td>2.0</td>\n",
       "      <td>3.0</td>\n",
       "      <td>single_family</td>\n",
       "      <td>8640.0</td>\n",
       "      <td>1840.0</td>\n",
       "      <td>1953</td>\n",
       "      <td>7 Parkview Cir N</td>\n",
       "      <td>NY</td>\n",
       "      <td>Bethpage</td>\n",
       "      <td>Nassau</td>\n",
       "    </tr>\n",
       "    <tr>\n",
       "      <th>13</th>\n",
       "      <td>675000</td>\n",
       "      <td>3</td>\n",
       "      <td>2</td>\n",
       "      <td>1.0</td>\n",
       "      <td>2.0</td>\n",
       "      <td>single_family</td>\n",
       "      <td>5000.0</td>\n",
       "      <td>1840.0</td>\n",
       "      <td>1949</td>\n",
       "      <td>93 Silver St</td>\n",
       "      <td>NY</td>\n",
       "      <td>Elmont</td>\n",
       "      <td>Nassau</td>\n",
       "    </tr>\n",
       "    <tr>\n",
       "      <th>14</th>\n",
       "      <td>725000</td>\n",
       "      <td>3</td>\n",
       "      <td>2</td>\n",
       "      <td>1.0</td>\n",
       "      <td>2.0</td>\n",
       "      <td>single_family</td>\n",
       "      <td>13068.0</td>\n",
       "      <td>1670.0</td>\n",
       "      <td>1953</td>\n",
       "      <td>83 Bayne Pl</td>\n",
       "      <td>NY</td>\n",
       "      <td>White Plains</td>\n",
       "      <td>Westchester</td>\n",
       "    </tr>\n",
       "    <tr>\n",
       "      <th>15</th>\n",
       "      <td>165000</td>\n",
       "      <td>1</td>\n",
       "      <td>1</td>\n",
       "      <td>0.0</td>\n",
       "      <td>1.0</td>\n",
       "      <td>coop</td>\n",
       "      <td>8640.0</td>\n",
       "      <td>700.0</td>\n",
       "      <td>1970</td>\n",
       "      <td>5 Bailey Ct Unit 5</td>\n",
       "      <td>NY</td>\n",
       "      <td>Middle Island</td>\n",
       "      <td>Suffolk</td>\n",
       "    </tr>\n",
       "    <tr>\n",
       "      <th>16</th>\n",
       "      <td>899990</td>\n",
       "      <td>3</td>\n",
       "      <td>4</td>\n",
       "      <td>0.0</td>\n",
       "      <td>2.0</td>\n",
       "      <td>single_family</td>\n",
       "      <td>30056.0</td>\n",
       "      <td>1840.0</td>\n",
       "      <td>1955</td>\n",
       "      <td>95 Dyke Rd</td>\n",
       "      <td>NY</td>\n",
       "      <td>Setauket</td>\n",
       "      <td>Suffolk</td>\n",
       "    </tr>\n",
       "    <tr>\n",
       "      <th>17</th>\n",
       "      <td>978000</td>\n",
       "      <td>3</td>\n",
       "      <td>2</td>\n",
       "      <td>0.0</td>\n",
       "      <td>2.0</td>\n",
       "      <td>single_family</td>\n",
       "      <td>15682.0</td>\n",
       "      <td>1900.0</td>\n",
       "      <td>1888</td>\n",
       "      <td>282 Woodbury Rd</td>\n",
       "      <td>NY</td>\n",
       "      <td>Woodbury</td>\n",
       "      <td>Nassau</td>\n",
       "    </tr>\n",
       "    <tr>\n",
       "      <th>18</th>\n",
       "      <td>649999</td>\n",
       "      <td>4</td>\n",
       "      <td>3</td>\n",
       "      <td>2.0</td>\n",
       "      <td>2.0</td>\n",
       "      <td>single_family</td>\n",
       "      <td>10019.0</td>\n",
       "      <td>1840.0</td>\n",
       "      <td>1962</td>\n",
       "      <td>19 Heather Cres</td>\n",
       "      <td>NY</td>\n",
       "      <td>Commack</td>\n",
       "      <td>Suffolk</td>\n",
       "    </tr>\n",
       "    <tr>\n",
       "      <th>19</th>\n",
       "      <td>499000</td>\n",
       "      <td>2</td>\n",
       "      <td>3</td>\n",
       "      <td>2.0</td>\n",
       "      <td>3.0</td>\n",
       "      <td>townhomes</td>\n",
       "      <td>121532.0</td>\n",
       "      <td>1840.0</td>\n",
       "      <td>1986</td>\n",
       "      <td>1790 Front St Apt 14</td>\n",
       "      <td>NY</td>\n",
       "      <td>East Meadow</td>\n",
       "      <td>Nassau</td>\n",
       "    </tr>\n",
       "    <tr>\n",
       "      <th>20</th>\n",
       "      <td>799000</td>\n",
       "      <td>3</td>\n",
       "      <td>3</td>\n",
       "      <td>0.0</td>\n",
       "      <td>2.0</td>\n",
       "      <td>single_family</td>\n",
       "      <td>2416.0</td>\n",
       "      <td>1248.0</td>\n",
       "      <td>1910</td>\n",
       "      <td>87-40 Woodhaven Blvd</td>\n",
       "      <td>NY</td>\n",
       "      <td>Woodhaven</td>\n",
       "      <td>Queens</td>\n",
       "    </tr>\n",
       "    <tr>\n",
       "      <th>21</th>\n",
       "      <td>859000</td>\n",
       "      <td>4</td>\n",
       "      <td>3</td>\n",
       "      <td>2.0</td>\n",
       "      <td>2.0</td>\n",
       "      <td>single_family</td>\n",
       "      <td>7520.0</td>\n",
       "      <td>2474.0</td>\n",
       "      <td>1978</td>\n",
       "      <td>337 Parkway Dr S</td>\n",
       "      <td>NY</td>\n",
       "      <td>Westbury</td>\n",
       "      <td>Nassau</td>\n",
       "    </tr>\n",
       "    <tr>\n",
       "      <th>22</th>\n",
       "      <td>659000</td>\n",
       "      <td>4</td>\n",
       "      <td>2</td>\n",
       "      <td>1.0</td>\n",
       "      <td>3.0</td>\n",
       "      <td>single_family</td>\n",
       "      <td>6000.0</td>\n",
       "      <td>1840.0</td>\n",
       "      <td>1951</td>\n",
       "      <td>119 Avoca Ave</td>\n",
       "      <td>NY</td>\n",
       "      <td>Massapequa Park</td>\n",
       "      <td>Nassau</td>\n",
       "    </tr>\n",
       "    <tr>\n",
       "      <th>23</th>\n",
       "      <td>1349000</td>\n",
       "      <td>6</td>\n",
       "      <td>3</td>\n",
       "      <td>2.0</td>\n",
       "      <td>3.0</td>\n",
       "      <td>single_family</td>\n",
       "      <td>60548.0</td>\n",
       "      <td>1840.0</td>\n",
       "      <td>1968</td>\n",
       "      <td>7 Buckingham Dr</td>\n",
       "      <td>NY</td>\n",
       "      <td>Dix Hills</td>\n",
       "      <td>Suffolk</td>\n",
       "    </tr>\n",
       "    <tr>\n",
       "      <th>24</th>\n",
       "      <td>848000</td>\n",
       "      <td>4</td>\n",
       "      <td>4</td>\n",
       "      <td>2.0</td>\n",
       "      <td>2.0</td>\n",
       "      <td>single_family</td>\n",
       "      <td>11761.0</td>\n",
       "      <td>1792.0</td>\n",
       "      <td>1912</td>\n",
       "      <td>57 Field Ave</td>\n",
       "      <td>NY</td>\n",
       "      <td>Hicksville</td>\n",
       "      <td>Nassau</td>\n",
       "    </tr>\n",
       "    <tr>\n",
       "      <th>25</th>\n",
       "      <td>649000</td>\n",
       "      <td>3</td>\n",
       "      <td>2</td>\n",
       "      <td>0.0</td>\n",
       "      <td>2.0</td>\n",
       "      <td>single_family</td>\n",
       "      <td>1600.0</td>\n",
       "      <td>1840.0</td>\n",
       "      <td>1910</td>\n",
       "      <td>9605 Avenue N</td>\n",
       "      <td>NY</td>\n",
       "      <td>Brooklyn</td>\n",
       "      <td>Kings</td>\n",
       "    </tr>\n",
       "    <tr>\n",
       "      <th>26</th>\n",
       "      <td>950000</td>\n",
       "      <td>5</td>\n",
       "      <td>3</td>\n",
       "      <td>0.0</td>\n",
       "      <td>2.0</td>\n",
       "      <td>multi_family</td>\n",
       "      <td>3600.0</td>\n",
       "      <td>1620.0</td>\n",
       "      <td>1930</td>\n",
       "      <td>131-24 161st St</td>\n",
       "      <td>NY</td>\n",
       "      <td>Jamaica</td>\n",
       "      <td>Queens</td>\n",
       "    </tr>\n",
       "    <tr>\n",
       "      <th>27</th>\n",
       "      <td>5180000</td>\n",
       "      <td>7</td>\n",
       "      <td>7</td>\n",
       "      <td>3.0</td>\n",
       "      <td>3.0</td>\n",
       "      <td>single_family</td>\n",
       "      <td>91476.0</td>\n",
       "      <td>1840.0</td>\n",
       "      <td>2015</td>\n",
       "      <td>22 Rolling Hill Rd</td>\n",
       "      <td>NY</td>\n",
       "      <td>Old Westbury</td>\n",
       "      <td>Nassau</td>\n",
       "    </tr>\n",
       "    <tr>\n",
       "      <th>28</th>\n",
       "      <td>780000</td>\n",
       "      <td>3</td>\n",
       "      <td>1</td>\n",
       "      <td>1.0</td>\n",
       "      <td>2.0</td>\n",
       "      <td>single_family</td>\n",
       "      <td>4000.0</td>\n",
       "      <td>1430.0</td>\n",
       "      <td>1935</td>\n",
       "      <td>85-30 251st St</td>\n",
       "      <td>NY</td>\n",
       "      <td>Bellerose</td>\n",
       "      <td>Queens</td>\n",
       "    </tr>\n",
       "    <tr>\n",
       "      <th>29</th>\n",
       "      <td>1350000</td>\n",
       "      <td>7</td>\n",
       "      <td>5</td>\n",
       "      <td>0.0</td>\n",
       "      <td>3.0</td>\n",
       "      <td>single_family</td>\n",
       "      <td>13939.0</td>\n",
       "      <td>2619.0</td>\n",
       "      <td>1956</td>\n",
       "      <td>18 Hilltop Ln</td>\n",
       "      <td>NY</td>\n",
       "      <td>Monsey</td>\n",
       "      <td>Rockland</td>\n",
       "    </tr>\n",
       "    <tr>\n",
       "      <th>30</th>\n",
       "      <td>1199000</td>\n",
       "      <td>5</td>\n",
       "      <td>3</td>\n",
       "      <td>2.0</td>\n",
       "      <td>3.0</td>\n",
       "      <td>multi_family</td>\n",
       "      <td>2500.0</td>\n",
       "      <td>1440.0</td>\n",
       "      <td>1940</td>\n",
       "      <td>67-04 54th Ave</td>\n",
       "      <td>NY</td>\n",
       "      <td>Maspeth</td>\n",
       "      <td>Queens</td>\n",
       "    </tr>\n",
       "    <tr>\n",
       "      <th>31</th>\n",
       "      <td>1420000</td>\n",
       "      <td>2</td>\n",
       "      <td>2</td>\n",
       "      <td>2.0</td>\n",
       "      <td>1.0</td>\n",
       "      <td>condos</td>\n",
       "      <td>2903.0</td>\n",
       "      <td>1840.0</td>\n",
       "      <td>2003</td>\n",
       "      <td>178 Altessa Blvd Unit 178</td>\n",
       "      <td>NY</td>\n",
       "      <td>Melville</td>\n",
       "      <td>Suffolk</td>\n",
       "    </tr>\n",
       "    <tr>\n",
       "      <th>32</th>\n",
       "      <td>999900</td>\n",
       "      <td>4</td>\n",
       "      <td>3</td>\n",
       "      <td>0.0</td>\n",
       "      <td>2.0</td>\n",
       "      <td>multi_family</td>\n",
       "      <td>4190.0</td>\n",
       "      <td>1840.0</td>\n",
       "      <td>1925</td>\n",
       "      <td>83-13 31st Ave</td>\n",
       "      <td>NY</td>\n",
       "      <td>East Elmhurst</td>\n",
       "      <td>Queens</td>\n",
       "    </tr>\n",
       "    <tr>\n",
       "      <th>33</th>\n",
       "      <td>888000</td>\n",
       "      <td>4</td>\n",
       "      <td>3</td>\n",
       "      <td>0.0</td>\n",
       "      <td>2.0</td>\n",
       "      <td>multi_family</td>\n",
       "      <td>2150.0</td>\n",
       "      <td>1840.0</td>\n",
       "      <td>1940</td>\n",
       "      <td>1233 E 83rd St</td>\n",
       "      <td>NY</td>\n",
       "      <td>Brooklyn</td>\n",
       "      <td>Kings</td>\n",
       "    </tr>\n",
       "    <tr>\n",
       "      <th>34</th>\n",
       "      <td>1199000</td>\n",
       "      <td>4</td>\n",
       "      <td>2</td>\n",
       "      <td>1.0</td>\n",
       "      <td>2.0</td>\n",
       "      <td>single_family</td>\n",
       "      <td>5000.0</td>\n",
       "      <td>1840.0</td>\n",
       "      <td>1939</td>\n",
       "      <td>79-47 214th St</td>\n",
       "      <td>NY</td>\n",
       "      <td>Hollis Hills</td>\n",
       "      <td>Queens</td>\n",
       "    </tr>\n",
       "    <tr>\n",
       "      <th>35</th>\n",
       "      <td>1299000</td>\n",
       "      <td>8</td>\n",
       "      <td>5</td>\n",
       "      <td>1.0</td>\n",
       "      <td>2.0</td>\n",
       "      <td>multi_family</td>\n",
       "      <td>5100.0</td>\n",
       "      <td>1840.0</td>\n",
       "      <td>1920</td>\n",
       "      <td>192-43 Hollis Ave</td>\n",
       "      <td>NY</td>\n",
       "      <td>Jamaica</td>\n",
       "      <td>Queens</td>\n",
       "    </tr>\n",
       "    <tr>\n",
       "      <th>36</th>\n",
       "      <td>1200000</td>\n",
       "      <td>5</td>\n",
       "      <td>2</td>\n",
       "      <td>0.0</td>\n",
       "      <td>2.0</td>\n",
       "      <td>multi_family</td>\n",
       "      <td>2000.0</td>\n",
       "      <td>1840.0</td>\n",
       "      <td>1900</td>\n",
       "      <td>72-27 66th Pl</td>\n",
       "      <td>NY</td>\n",
       "      <td>Glendale</td>\n",
       "      <td>Queens</td>\n",
       "    </tr>\n",
       "    <tr>\n",
       "      <th>37</th>\n",
       "      <td>518000</td>\n",
       "      <td>1</td>\n",
       "      <td>1</td>\n",
       "      <td>1.0</td>\n",
       "      <td>1.0</td>\n",
       "      <td>condos</td>\n",
       "      <td>8640.0</td>\n",
       "      <td>1840.0</td>\n",
       "      <td>2005</td>\n",
       "      <td>40-53 62nd St Unit 3F</td>\n",
       "      <td>NY</td>\n",
       "      <td>Woodside</td>\n",
       "      <td>Queens</td>\n",
       "    </tr>\n",
       "    <tr>\n",
       "      <th>38</th>\n",
       "      <td>7975000</td>\n",
       "      <td>5</td>\n",
       "      <td>6</td>\n",
       "      <td>0.0</td>\n",
       "      <td>52.0</td>\n",
       "      <td>condos</td>\n",
       "      <td>8640.0</td>\n",
       "      <td>3429.0</td>\n",
       "      <td>2021</td>\n",
       "      <td>200 Amsterdam Ave Unit 3A</td>\n",
       "      <td>NY</td>\n",
       "      <td>New York</td>\n",
       "      <td>New York</td>\n",
       "    </tr>\n",
       "    <tr>\n",
       "      <th>39</th>\n",
       "      <td>7360000</td>\n",
       "      <td>3</td>\n",
       "      <td>4</td>\n",
       "      <td>0.0</td>\n",
       "      <td>52.0</td>\n",
       "      <td>condos</td>\n",
       "      <td>8640.0</td>\n",
       "      <td>2221.0</td>\n",
       "      <td>2021</td>\n",
       "      <td>200 Amsterdam Ave Unit 25B</td>\n",
       "      <td>NY</td>\n",
       "      <td>New York</td>\n",
       "      <td>New York</td>\n",
       "    </tr>\n",
       "    <tr>\n",
       "      <th>40</th>\n",
       "      <td>6780000</td>\n",
       "      <td>3</td>\n",
       "      <td>4</td>\n",
       "      <td>0.0</td>\n",
       "      <td>52.0</td>\n",
       "      <td>condos</td>\n",
       "      <td>8640.0</td>\n",
       "      <td>2221.0</td>\n",
       "      <td>2021</td>\n",
       "      <td>200 Amsterdam Ave Unit 26B</td>\n",
       "      <td>NY</td>\n",
       "      <td>New York</td>\n",
       "      <td>New York</td>\n",
       "    </tr>\n",
       "    <tr>\n",
       "      <th>41</th>\n",
       "      <td>699000</td>\n",
       "      <td>3</td>\n",
       "      <td>2</td>\n",
       "      <td>1.0</td>\n",
       "      <td>2.0</td>\n",
       "      <td>single_family</td>\n",
       "      <td>7392.0</td>\n",
       "      <td>1450.0</td>\n",
       "      <td>1930</td>\n",
       "      <td>70 Sunset Dr</td>\n",
       "      <td>NY</td>\n",
       "      <td>Croton On Hudson</td>\n",
       "      <td>Westchester</td>\n",
       "    </tr>\n",
       "  </tbody>\n",
       "</table>\n",
       "</div>"
      ],
      "text/plain": [
       "      price  beds  baths  garage  stories     house_type  lot_sqft    sqft  \\\n",
       "0    585000     5      4     2.0      2.0  single_family  135036.0  2560.0   \n",
       "1    735000     3      2     0.0      2.0  single_family    8640.0  2556.0   \n",
       "2    139900     2      1     2.0      1.0  single_family  180338.0  1210.0   \n",
       "3    540000     2      2     0.0      2.0  single_family   69696.0  1320.0   \n",
       "4    369000     5      3     3.0      2.0   multi_family   14810.0  2751.0   \n",
       "5    549900     7      3     0.0      2.0  single_family    4792.0  2990.0   \n",
       "6    339900     3      3     2.0      2.0  single_family   17860.0  2026.0   \n",
       "7    539000     3      2     2.0      2.0  single_family   13068.0  1700.0   \n",
       "8    949000     5      4     2.0      2.0  single_family   23958.0  4000.0   \n",
       "9    499000     4      1     0.0      3.0  single_family    7000.0  1498.0   \n",
       "10   570000     4      1     1.0      2.0  single_family    4000.0  1215.0   \n",
       "11  1650000     3      2     0.0      2.0  single_family   28750.0  1840.0   \n",
       "12   699990     4      2     2.0      3.0  single_family    8640.0  1840.0   \n",
       "13   675000     3      2     1.0      2.0  single_family    5000.0  1840.0   \n",
       "14   725000     3      2     1.0      2.0  single_family   13068.0  1670.0   \n",
       "15   165000     1      1     0.0      1.0           coop    8640.0   700.0   \n",
       "16   899990     3      4     0.0      2.0  single_family   30056.0  1840.0   \n",
       "17   978000     3      2     0.0      2.0  single_family   15682.0  1900.0   \n",
       "18   649999     4      3     2.0      2.0  single_family   10019.0  1840.0   \n",
       "19   499000     2      3     2.0      3.0      townhomes  121532.0  1840.0   \n",
       "20   799000     3      3     0.0      2.0  single_family    2416.0  1248.0   \n",
       "21   859000     4      3     2.0      2.0  single_family    7520.0  2474.0   \n",
       "22   659000     4      2     1.0      3.0  single_family    6000.0  1840.0   \n",
       "23  1349000     6      3     2.0      3.0  single_family   60548.0  1840.0   \n",
       "24   848000     4      4     2.0      2.0  single_family   11761.0  1792.0   \n",
       "25   649000     3      2     0.0      2.0  single_family    1600.0  1840.0   \n",
       "26   950000     5      3     0.0      2.0   multi_family    3600.0  1620.0   \n",
       "27  5180000     7      7     3.0      3.0  single_family   91476.0  1840.0   \n",
       "28   780000     3      1     1.0      2.0  single_family    4000.0  1430.0   \n",
       "29  1350000     7      5     0.0      3.0  single_family   13939.0  2619.0   \n",
       "30  1199000     5      3     2.0      3.0   multi_family    2500.0  1440.0   \n",
       "31  1420000     2      2     2.0      1.0         condos    2903.0  1840.0   \n",
       "32   999900     4      3     0.0      2.0   multi_family    4190.0  1840.0   \n",
       "33   888000     4      3     0.0      2.0   multi_family    2150.0  1840.0   \n",
       "34  1199000     4      2     1.0      2.0  single_family    5000.0  1840.0   \n",
       "35  1299000     8      5     1.0      2.0   multi_family    5100.0  1840.0   \n",
       "36  1200000     5      2     0.0      2.0   multi_family    2000.0  1840.0   \n",
       "37   518000     1      1     1.0      1.0         condos    8640.0  1840.0   \n",
       "38  7975000     5      6     0.0     52.0         condos    8640.0  3429.0   \n",
       "39  7360000     3      4     0.0     52.0         condos    8640.0  2221.0   \n",
       "40  6780000     3      4     0.0     52.0         condos    8640.0  2221.0   \n",
       "41   699000     3      2     1.0      2.0  single_family    7392.0  1450.0   \n",
       "\n",
       "    year_built                     address state              city  \\\n",
       "0         1979                 18 Arbor Rd    NY     Campbell Hall   \n",
       "1         2022                  10 Kolb Rd    NY        Boiceville   \n",
       "2         1960       1524 Hardy Corners Rd    NY     Franklinville   \n",
       "3         1980            50 Van Deusen Rd    NY            Hudson   \n",
       "4         1860                 6 Hudson St    NY       Port Jervis   \n",
       "5         1880                 206 Main St    NY          Catskill   \n",
       "6         2004            888 Lothario Cir    NY           Webster   \n",
       "7         1976              285 Sunrise Dr    NY          Sayville   \n",
       "8         2005                114 Alden Dr    NY    Port Jefferson   \n",
       "9         1960                 5 Bergen Dr    NY         Deer Park   \n",
       "10        1946                 73 Carl Ave    NY   Franklin Square   \n",
       "11        1927          3075 Lighthouse Rd    NY          Southold   \n",
       "12        1953            7 Parkview Cir N    NY          Bethpage   \n",
       "13        1949                93 Silver St    NY            Elmont   \n",
       "14        1953                 83 Bayne Pl    NY      White Plains   \n",
       "15        1970          5 Bailey Ct Unit 5    NY     Middle Island   \n",
       "16        1955                  95 Dyke Rd    NY          Setauket   \n",
       "17        1888             282 Woodbury Rd    NY          Woodbury   \n",
       "18        1962             19 Heather Cres    NY           Commack   \n",
       "19        1986        1790 Front St Apt 14    NY       East Meadow   \n",
       "20        1910        87-40 Woodhaven Blvd    NY         Woodhaven   \n",
       "21        1978            337 Parkway Dr S    NY          Westbury   \n",
       "22        1951               119 Avoca Ave    NY   Massapequa Park   \n",
       "23        1968             7 Buckingham Dr    NY         Dix Hills   \n",
       "24        1912                57 Field Ave    NY        Hicksville   \n",
       "25        1910               9605 Avenue N    NY          Brooklyn   \n",
       "26        1930             131-24 161st St    NY           Jamaica   \n",
       "27        2015          22 Rolling Hill Rd    NY      Old Westbury   \n",
       "28        1935              85-30 251st St    NY         Bellerose   \n",
       "29        1956               18 Hilltop Ln    NY            Monsey   \n",
       "30        1940              67-04 54th Ave    NY           Maspeth   \n",
       "31        2003   178 Altessa Blvd Unit 178    NY          Melville   \n",
       "32        1925              83-13 31st Ave    NY     East Elmhurst   \n",
       "33        1940              1233 E 83rd St    NY          Brooklyn   \n",
       "34        1939              79-47 214th St    NY      Hollis Hills   \n",
       "35        1920           192-43 Hollis Ave    NY           Jamaica   \n",
       "36        1900               72-27 66th Pl    NY          Glendale   \n",
       "37        2005       40-53 62nd St Unit 3F    NY          Woodside   \n",
       "38        2021   200 Amsterdam Ave Unit 3A    NY          New York   \n",
       "39        2021  200 Amsterdam Ave Unit 25B    NY          New York   \n",
       "40        2021  200 Amsterdam Ave Unit 26B    NY          New York   \n",
       "41        1930                70 Sunset Dr    NY  Croton On Hudson   \n",
       "\n",
       "         county  \n",
       "0        Orange  \n",
       "1        Ulster  \n",
       "2   Cattaraugus  \n",
       "3      Columbia  \n",
       "4        Orange  \n",
       "5        Greene  \n",
       "6        Monroe  \n",
       "7       Suffolk  \n",
       "8       Suffolk  \n",
       "9       Suffolk  \n",
       "10       Nassau  \n",
       "11      Suffolk  \n",
       "12       Nassau  \n",
       "13       Nassau  \n",
       "14  Westchester  \n",
       "15      Suffolk  \n",
       "16      Suffolk  \n",
       "17       Nassau  \n",
       "18      Suffolk  \n",
       "19       Nassau  \n",
       "20       Queens  \n",
       "21       Nassau  \n",
       "22       Nassau  \n",
       "23      Suffolk  \n",
       "24       Nassau  \n",
       "25        Kings  \n",
       "26       Queens  \n",
       "27       Nassau  \n",
       "28       Queens  \n",
       "29     Rockland  \n",
       "30       Queens  \n",
       "31      Suffolk  \n",
       "32       Queens  \n",
       "33        Kings  \n",
       "34       Queens  \n",
       "35       Queens  \n",
       "36       Queens  \n",
       "37       Queens  \n",
       "38     New York  \n",
       "39     New York  \n",
       "40     New York  \n",
       "41  Westchester  "
      ]
     },
     "execution_count": 14,
     "metadata": {},
     "output_type": "execute_result"
    }
   ],
   "source": [
    "df_clean= df_clean.drop_duplicates().reset_index(drop=True)\n",
    "df_clean"
   ]
  },
  {
   "cell_type": "markdown",
   "id": "ef0a4e29",
   "metadata": {},
   "source": [
    "## Changing data types"
   ]
  },
  {
   "cell_type": "code",
   "execution_count": 15,
   "id": "a4178b92",
   "metadata": {},
   "outputs": [],
   "source": [
    "df_clean['year_built']=df_clean['year_built'].astype(np.int64)\n",
    "\n",
    "df_clean['beds']=df_clean['beds'].astype(np.float64)\n",
    "\n",
    "df_clean['baths']=df_clean['baths'].astype(np.float64)\n",
    "\n",
    "df_clean['stories']=df_clean['stories'].astype(np.int64)\n",
    "\n",
    "df_clean['lot_sqft']=df_clean['lot_sqft'].astype(np.int64)\n",
    "\n",
    "df_clean['sqft']=df_clean['sqft'].astype(np.int64)\n",
    "\n",
    "df_clean['garage']=df_clean['garage'].astype(np.int64)"
   ]
  },
  {
   "cell_type": "code",
   "execution_count": 16,
   "id": "4942fded",
   "metadata": {},
   "outputs": [
    {
     "data": {
      "text/plain": [
       "price           int64\n",
       "beds          float64\n",
       "baths         float64\n",
       "garage          int64\n",
       "stories         int64\n",
       "house_type     object\n",
       "lot_sqft        int64\n",
       "sqft            int64\n",
       "year_built      int64\n",
       "address        object\n",
       "state          object\n",
       "city           object\n",
       "county         object\n",
       "dtype: object"
      ]
     },
     "execution_count": 16,
     "metadata": {},
     "output_type": "execute_result"
    }
   ],
   "source": [
    "df_clean.dtypes"
   ]
  },
  {
   "cell_type": "markdown",
   "id": "50fe1476",
   "metadata": {},
   "source": [
    "## Using pandas describe() to find outliers\n"
   ]
  },
  {
   "cell_type": "code",
   "execution_count": 17,
   "id": "31309dd8",
   "metadata": {},
   "outputs": [
    {
     "data": {
      "text/html": [
       "<div>\n",
       "<style scoped>\n",
       "    .dataframe tbody tr th:only-of-type {\n",
       "        vertical-align: middle;\n",
       "    }\n",
       "\n",
       "    .dataframe tbody tr th {\n",
       "        vertical-align: top;\n",
       "    }\n",
       "\n",
       "    .dataframe thead th {\n",
       "        text-align: right;\n",
       "    }\n",
       "</style>\n",
       "<table border=\"1\" class=\"dataframe\">\n",
       "  <thead>\n",
       "    <tr style=\"text-align: right;\">\n",
       "      <th></th>\n",
       "      <th>price</th>\n",
       "      <th>beds</th>\n",
       "      <th>baths</th>\n",
       "      <th>garage</th>\n",
       "      <th>stories</th>\n",
       "      <th>house_type</th>\n",
       "      <th>lot_sqft</th>\n",
       "      <th>sqft</th>\n",
       "      <th>year_built</th>\n",
       "      <th>address</th>\n",
       "      <th>state</th>\n",
       "      <th>city</th>\n",
       "      <th>county</th>\n",
       "    </tr>\n",
       "  </thead>\n",
       "  <tbody>\n",
       "    <tr>\n",
       "      <th>count</th>\n",
       "      <td>4.200000e+01</td>\n",
       "      <td>42.000000</td>\n",
       "      <td>42.000000</td>\n",
       "      <td>42.000000</td>\n",
       "      <td>42.000000</td>\n",
       "      <td>42</td>\n",
       "      <td>42.000000</td>\n",
       "      <td>42.000000</td>\n",
       "      <td>42.000000</td>\n",
       "      <td>42</td>\n",
       "      <td>42</td>\n",
       "      <td>42</td>\n",
       "      <td>42</td>\n",
       "    </tr>\n",
       "    <tr>\n",
       "      <th>unique</th>\n",
       "      <td>NaN</td>\n",
       "      <td>NaN</td>\n",
       "      <td>NaN</td>\n",
       "      <td>NaN</td>\n",
       "      <td>NaN</td>\n",
       "      <td>5</td>\n",
       "      <td>NaN</td>\n",
       "      <td>NaN</td>\n",
       "      <td>NaN</td>\n",
       "      <td>42</td>\n",
       "      <td>1</td>\n",
       "      <td>38</td>\n",
       "      <td>13</td>\n",
       "    </tr>\n",
       "    <tr>\n",
       "      <th>top</th>\n",
       "      <td>NaN</td>\n",
       "      <td>NaN</td>\n",
       "      <td>NaN</td>\n",
       "      <td>NaN</td>\n",
       "      <td>NaN</td>\n",
       "      <td>single_family</td>\n",
       "      <td>NaN</td>\n",
       "      <td>NaN</td>\n",
       "      <td>NaN</td>\n",
       "      <td>18 Arbor Rd</td>\n",
       "      <td>NY</td>\n",
       "      <td>New York</td>\n",
       "      <td>Suffolk</td>\n",
       "    </tr>\n",
       "    <tr>\n",
       "      <th>freq</th>\n",
       "      <td>NaN</td>\n",
       "      <td>NaN</td>\n",
       "      <td>NaN</td>\n",
       "      <td>NaN</td>\n",
       "      <td>NaN</td>\n",
       "      <td>28</td>\n",
       "      <td>NaN</td>\n",
       "      <td>NaN</td>\n",
       "      <td>NaN</td>\n",
       "      <td>1</td>\n",
       "      <td>42</td>\n",
       "      <td>3</td>\n",
       "      <td>9</td>\n",
       "    </tr>\n",
       "    <tr>\n",
       "      <th>mean</th>\n",
       "      <td>1.374228e+06</td>\n",
       "      <td>3.857143</td>\n",
       "      <td>2.785714</td>\n",
       "      <td>0.976190</td>\n",
       "      <td>5.666667</td>\n",
       "      <td>NaN</td>\n",
       "      <td>23553.333333</td>\n",
       "      <td>1936.190476</td>\n",
       "      <td>1955.833333</td>\n",
       "      <td>NaN</td>\n",
       "      <td>NaN</td>\n",
       "      <td>NaN</td>\n",
       "      <td>NaN</td>\n",
       "    </tr>\n",
       "    <tr>\n",
       "      <th>std</th>\n",
       "      <td>1.848492e+06</td>\n",
       "      <td>1.570636</td>\n",
       "      <td>1.353148</td>\n",
       "      <td>0.975007</td>\n",
       "      <td>13.017187</td>\n",
       "      <td>NaN</td>\n",
       "      <td>39476.054694</td>\n",
       "      <td>599.330124</td>\n",
       "      <td>40.703519</td>\n",
       "      <td>NaN</td>\n",
       "      <td>NaN</td>\n",
       "      <td>NaN</td>\n",
       "      <td>NaN</td>\n",
       "    </tr>\n",
       "    <tr>\n",
       "      <th>min</th>\n",
       "      <td>1.399000e+05</td>\n",
       "      <td>1.000000</td>\n",
       "      <td>1.000000</td>\n",
       "      <td>0.000000</td>\n",
       "      <td>1.000000</td>\n",
       "      <td>NaN</td>\n",
       "      <td>1600.000000</td>\n",
       "      <td>700.000000</td>\n",
       "      <td>1860.000000</td>\n",
       "      <td>NaN</td>\n",
       "      <td>NaN</td>\n",
       "      <td>NaN</td>\n",
       "      <td>NaN</td>\n",
       "    </tr>\n",
       "    <tr>\n",
       "      <th>25%</th>\n",
       "      <td>5.737500e+05</td>\n",
       "      <td>3.000000</td>\n",
       "      <td>2.000000</td>\n",
       "      <td>0.000000</td>\n",
       "      <td>2.000000</td>\n",
       "      <td>NaN</td>\n",
       "      <td>4844.000000</td>\n",
       "      <td>1677.500000</td>\n",
       "      <td>1930.000000</td>\n",
       "      <td>NaN</td>\n",
       "      <td>NaN</td>\n",
       "      <td>NaN</td>\n",
       "      <td>NaN</td>\n",
       "    </tr>\n",
       "    <tr>\n",
       "      <th>50%</th>\n",
       "      <td>7.895000e+05</td>\n",
       "      <td>4.000000</td>\n",
       "      <td>3.000000</td>\n",
       "      <td>1.000000</td>\n",
       "      <td>2.000000</td>\n",
       "      <td>NaN</td>\n",
       "      <td>8640.000000</td>\n",
       "      <td>1840.000000</td>\n",
       "      <td>1954.000000</td>\n",
       "      <td>NaN</td>\n",
       "      <td>NaN</td>\n",
       "      <td>NaN</td>\n",
       "      <td>NaN</td>\n",
       "    </tr>\n",
       "    <tr>\n",
       "      <th>75%</th>\n",
       "      <td>1.199000e+06</td>\n",
       "      <td>5.000000</td>\n",
       "      <td>3.000000</td>\n",
       "      <td>2.000000</td>\n",
       "      <td>2.750000</td>\n",
       "      <td>NaN</td>\n",
       "      <td>15464.000000</td>\n",
       "      <td>1994.500000</td>\n",
       "      <td>1979.750000</td>\n",
       "      <td>NaN</td>\n",
       "      <td>NaN</td>\n",
       "      <td>NaN</td>\n",
       "      <td>NaN</td>\n",
       "    </tr>\n",
       "    <tr>\n",
       "      <th>max</th>\n",
       "      <td>7.975000e+06</td>\n",
       "      <td>8.000000</td>\n",
       "      <td>7.000000</td>\n",
       "      <td>3.000000</td>\n",
       "      <td>52.000000</td>\n",
       "      <td>NaN</td>\n",
       "      <td>180338.000000</td>\n",
       "      <td>4000.000000</td>\n",
       "      <td>2022.000000</td>\n",
       "      <td>NaN</td>\n",
       "      <td>NaN</td>\n",
       "      <td>NaN</td>\n",
       "      <td>NaN</td>\n",
       "    </tr>\n",
       "  </tbody>\n",
       "</table>\n",
       "</div>"
      ],
      "text/plain": [
       "               price       beds      baths     garage    stories  \\\n",
       "count   4.200000e+01  42.000000  42.000000  42.000000  42.000000   \n",
       "unique           NaN        NaN        NaN        NaN        NaN   \n",
       "top              NaN        NaN        NaN        NaN        NaN   \n",
       "freq             NaN        NaN        NaN        NaN        NaN   \n",
       "mean    1.374228e+06   3.857143   2.785714   0.976190   5.666667   \n",
       "std     1.848492e+06   1.570636   1.353148   0.975007  13.017187   \n",
       "min     1.399000e+05   1.000000   1.000000   0.000000   1.000000   \n",
       "25%     5.737500e+05   3.000000   2.000000   0.000000   2.000000   \n",
       "50%     7.895000e+05   4.000000   3.000000   1.000000   2.000000   \n",
       "75%     1.199000e+06   5.000000   3.000000   2.000000   2.750000   \n",
       "max     7.975000e+06   8.000000   7.000000   3.000000  52.000000   \n",
       "\n",
       "           house_type       lot_sqft         sqft   year_built      address  \\\n",
       "count              42      42.000000    42.000000    42.000000           42   \n",
       "unique              5            NaN          NaN          NaN           42   \n",
       "top     single_family            NaN          NaN          NaN  18 Arbor Rd   \n",
       "freq               28            NaN          NaN          NaN            1   \n",
       "mean              NaN   23553.333333  1936.190476  1955.833333          NaN   \n",
       "std               NaN   39476.054694   599.330124    40.703519          NaN   \n",
       "min               NaN    1600.000000   700.000000  1860.000000          NaN   \n",
       "25%               NaN    4844.000000  1677.500000  1930.000000          NaN   \n",
       "50%               NaN    8640.000000  1840.000000  1954.000000          NaN   \n",
       "75%               NaN   15464.000000  1994.500000  1979.750000          NaN   \n",
       "max               NaN  180338.000000  4000.000000  2022.000000          NaN   \n",
       "\n",
       "       state      city   county  \n",
       "count     42        42       42  \n",
       "unique     1        38       13  \n",
       "top       NY  New York  Suffolk  \n",
       "freq      42         3        9  \n",
       "mean     NaN       NaN      NaN  \n",
       "std      NaN       NaN      NaN  \n",
       "min      NaN       NaN      NaN  \n",
       "25%      NaN       NaN      NaN  \n",
       "50%      NaN       NaN      NaN  \n",
       "75%      NaN       NaN      NaN  \n",
       "max      NaN       NaN      NaN  "
      ]
     },
     "execution_count": 17,
     "metadata": {},
     "output_type": "execute_result"
    }
   ],
   "source": [
    "df_clean.describe(include='all')"
   ]
  },
  {
   "cell_type": "markdown",
   "id": "0da39fe3",
   "metadata": {},
   "source": [
    "## Detecting & handling outliers"
   ]
  },
  {
   "cell_type": "markdown",
   "id": "326cb05d",
   "metadata": {},
   "source": [
    "### 1. Price outliers : "
   ]
  },
  {
   "cell_type": "code",
   "execution_count": 18,
   "id": "e4eb1666",
   "metadata": {},
   "outputs": [
    {
     "data": {
      "text/plain": [
       "count    4.200000e+01\n",
       "mean     1.374228e+06\n",
       "std      1.848492e+06\n",
       "min      1.399000e+05\n",
       "25%      5.737500e+05\n",
       "50%      7.895000e+05\n",
       "75%      1.199000e+06\n",
       "max      7.975000e+06\n",
       "Name: price, dtype: float64"
      ]
     },
     "execution_count": 18,
     "metadata": {},
     "output_type": "execute_result"
    }
   ],
   "source": [
    "df_clean['price'].describe()"
   ]
  },
  {
   "cell_type": "code",
   "execution_count": 19,
   "id": "60ea5bfd",
   "metadata": {},
   "outputs": [],
   "source": [
    "z_score = (df_clean['price'] - df_clean['price'].mean())/df_clean['price'].std()"
   ]
  },
  {
   "cell_type": "code",
   "execution_count": 20,
   "id": "5a422733",
   "metadata": {},
   "outputs": [
    {
     "data": {
      "text/plain": [
       "2"
      ]
     },
     "execution_count": 20,
     "metadata": {},
     "output_type": "execute_result"
    }
   ],
   "source": [
    "price_outliers = abs(z_score)>3\n",
    "sum(price_outliers)"
   ]
  },
  {
   "cell_type": "code",
   "execution_count": 21,
   "id": "054e5e61",
   "metadata": {},
   "outputs": [
    {
     "data": {
      "text/plain": [
       "7360000"
      ]
     },
     "execution_count": 21,
     "metadata": {},
     "output_type": "execute_result"
    }
   ],
   "source": [
    "min(df_clean.price[price_outliers])"
   ]
  },
  {
   "cell_type": "code",
   "execution_count": 22,
   "id": "d310475f",
   "metadata": {},
   "outputs": [
    {
     "data": {
      "text/plain": [
       "7975000"
      ]
     },
     "execution_count": 22,
     "metadata": {},
     "output_type": "execute_result"
    }
   ],
   "source": [
    "max(df_clean.price[price_outliers])"
   ]
  },
  {
   "cell_type": "code",
   "execution_count": 23,
   "id": "1d95a467",
   "metadata": {},
   "outputs": [
    {
     "data": {
      "text/html": [
       "<div>\n",
       "<style scoped>\n",
       "    .dataframe tbody tr th:only-of-type {\n",
       "        vertical-align: middle;\n",
       "    }\n",
       "\n",
       "    .dataframe tbody tr th {\n",
       "        vertical-align: top;\n",
       "    }\n",
       "\n",
       "    .dataframe thead th {\n",
       "        text-align: right;\n",
       "    }\n",
       "</style>\n",
       "<table border=\"1\" class=\"dataframe\">\n",
       "  <thead>\n",
       "    <tr style=\"text-align: right;\">\n",
       "      <th></th>\n",
       "      <th>price</th>\n",
       "      <th>beds</th>\n",
       "      <th>baths</th>\n",
       "      <th>garage</th>\n",
       "      <th>stories</th>\n",
       "      <th>house_type</th>\n",
       "      <th>lot_sqft</th>\n",
       "      <th>sqft</th>\n",
       "      <th>year_built</th>\n",
       "      <th>address</th>\n",
       "      <th>state</th>\n",
       "      <th>city</th>\n",
       "      <th>county</th>\n",
       "    </tr>\n",
       "  </thead>\n",
       "  <tbody>\n",
       "    <tr>\n",
       "      <th>38</th>\n",
       "      <td>7975000</td>\n",
       "      <td>5.0</td>\n",
       "      <td>6.0</td>\n",
       "      <td>0</td>\n",
       "      <td>52</td>\n",
       "      <td>condos</td>\n",
       "      <td>8640</td>\n",
       "      <td>3429</td>\n",
       "      <td>2021</td>\n",
       "      <td>200 Amsterdam Ave Unit 3A</td>\n",
       "      <td>NY</td>\n",
       "      <td>New York</td>\n",
       "      <td>New York</td>\n",
       "    </tr>\n",
       "    <tr>\n",
       "      <th>39</th>\n",
       "      <td>7360000</td>\n",
       "      <td>3.0</td>\n",
       "      <td>4.0</td>\n",
       "      <td>0</td>\n",
       "      <td>52</td>\n",
       "      <td>condos</td>\n",
       "      <td>8640</td>\n",
       "      <td>2221</td>\n",
       "      <td>2021</td>\n",
       "      <td>200 Amsterdam Ave Unit 25B</td>\n",
       "      <td>NY</td>\n",
       "      <td>New York</td>\n",
       "      <td>New York</td>\n",
       "    </tr>\n",
       "  </tbody>\n",
       "</table>\n",
       "</div>"
      ],
      "text/plain": [
       "      price  beds  baths  garage  stories house_type  lot_sqft  sqft  \\\n",
       "38  7975000   5.0    6.0       0       52     condos      8640  3429   \n",
       "39  7360000   3.0    4.0       0       52     condos      8640  2221   \n",
       "\n",
       "    year_built                     address state      city    county  \n",
       "38        2021   200 Amsterdam Ave Unit 3A    NY  New York  New York  \n",
       "39        2021  200 Amsterdam Ave Unit 25B    NY  New York  New York  "
      ]
     },
     "execution_count": 23,
     "metadata": {},
     "output_type": "execute_result"
    }
   ],
   "source": [
    "df_clean[(df_clean['price'] < 100000) | (df_clean['price'] > 6890000)]"
   ]
  },
  {
   "cell_type": "markdown",
   "id": "992084e4",
   "metadata": {},
   "source": [
    "### 1.1 Handling price outliers :"
   ]
  },
  {
   "cell_type": "code",
   "execution_count": 24,
   "id": "d8f9c2c8",
   "metadata": {},
   "outputs": [
    {
     "data": {
      "text/plain": [
       "price         2\n",
       "beds          0\n",
       "baths         0\n",
       "garage        0\n",
       "stories       0\n",
       "house_type    0\n",
       "lot_sqft      0\n",
       "sqft          0\n",
       "year_built    0\n",
       "address       0\n",
       "state         0\n",
       "city          0\n",
       "county        0\n",
       "dtype: int64"
      ]
     },
     "execution_count": 24,
     "metadata": {},
     "output_type": "execute_result"
    }
   ],
   "source": [
    "df_clean['price'] = np.where((df_clean.price<100000),np.nan,df_clean.price)\n",
    "df_clean['price'] = np.where((df_clean.price>6890000),np.nan,df_clean.price)\n",
    "df_clean.isnull().sum()"
   ]
  },
  {
   "cell_type": "code",
   "execution_count": 25,
   "id": "9c77b978",
   "metadata": {},
   "outputs": [
    {
     "data": {
      "text/plain": [
       "price         0\n",
       "beds          0\n",
       "baths         0\n",
       "garage        0\n",
       "stories       0\n",
       "house_type    0\n",
       "lot_sqft      0\n",
       "sqft          0\n",
       "year_built    0\n",
       "address       0\n",
       "state         0\n",
       "city          0\n",
       "county        0\n",
       "dtype: int64"
      ]
     },
     "execution_count": 25,
     "metadata": {},
     "output_type": "execute_result"
    }
   ],
   "source": [
    "df_clean.price = df_clean.price.fillna(df_clean.price.median())\n",
    "df_clean.isnull().sum()"
   ]
  },
  {
   "cell_type": "markdown",
   "id": "e0e86f95",
   "metadata": {},
   "source": [
    "### 2. Bed outliers : "
   ]
  },
  {
   "cell_type": "code",
   "execution_count": 26,
   "id": "a1539a12",
   "metadata": {},
   "outputs": [
    {
     "data": {
      "text/plain": [
       "count    42.000000\n",
       "mean      3.857143\n",
       "std       1.570636\n",
       "min       1.000000\n",
       "25%       3.000000\n",
       "50%       4.000000\n",
       "75%       5.000000\n",
       "max       8.000000\n",
       "Name: beds, dtype: float64"
      ]
     },
     "execution_count": 26,
     "metadata": {},
     "output_type": "execute_result"
    }
   ],
   "source": [
    "df_clean['beds'].describe()"
   ]
  },
  {
   "cell_type": "code",
   "execution_count": 27,
   "id": "7965ffdf",
   "metadata": {},
   "outputs": [],
   "source": [
    "z_score = (df_clean['beds'] - df_clean['beds'].mean())/df_clean['beds'].std()"
   ]
  },
  {
   "cell_type": "code",
   "execution_count": 28,
   "id": "0669f33d",
   "metadata": {},
   "outputs": [
    {
     "data": {
      "text/plain": [
       "0"
      ]
     },
     "execution_count": 28,
     "metadata": {},
     "output_type": "execute_result"
    }
   ],
   "source": [
    "beds_outliers = abs(z_score)>3\n",
    "sum(beds_outliers)"
   ]
  },
  {
   "cell_type": "code",
   "execution_count": 29,
   "id": "a1bbd659",
   "metadata": {},
   "outputs": [
    {
     "ename": "ValueError",
     "evalue": "min() arg is an empty sequence",
     "output_type": "error",
     "traceback": [
      "\u001b[1;31m---------------------------------------------------------------------------\u001b[0m",
      "\u001b[1;31mValueError\u001b[0m                                Traceback (most recent call last)",
      "\u001b[1;32m~\\AppData\\Local\\Temp/ipykernel_20000/1263626375.py\u001b[0m in \u001b[0;36m<module>\u001b[1;34m\u001b[0m\n\u001b[1;32m----> 1\u001b[1;33m \u001b[0mmin\u001b[0m\u001b[1;33m(\u001b[0m\u001b[0mdf_clean\u001b[0m\u001b[1;33m.\u001b[0m\u001b[0mbeds\u001b[0m\u001b[1;33m[\u001b[0m\u001b[0mbeds_outliers\u001b[0m\u001b[1;33m]\u001b[0m\u001b[1;33m)\u001b[0m\u001b[1;33m\u001b[0m\u001b[1;33m\u001b[0m\u001b[0m\n\u001b[0m",
      "\u001b[1;31mValueError\u001b[0m: min() arg is an empty sequence"
     ]
    }
   ],
   "source": [
    "min(df_clean.beds[beds_outliers])"
   ]
  },
  {
   "cell_type": "code",
   "execution_count": null,
   "id": "c4877853",
   "metadata": {},
   "outputs": [],
   "source": [
    "max(df_clean.beds[beds_outliers])"
   ]
  },
  {
   "cell_type": "code",
   "execution_count": null,
   "id": "56c49036",
   "metadata": {},
   "outputs": [],
   "source": [
    "df_clean[df_clean['beds']>=9].reset_index(drop=True)"
   ]
  },
  {
   "cell_type": "markdown",
   "id": "da4c0d23",
   "metadata": {},
   "source": [
    "### 2.1 Handling bed outliers :"
   ]
  },
  {
   "cell_type": "code",
   "execution_count": null,
   "id": "d5601b05",
   "metadata": {},
   "outputs": [],
   "source": [
    "df_clean['beds'] = np.where((df_clean.beds>=9),np.nan,df_clean.beds)\n",
    "df_clean.isnull().sum()\n"
   ]
  },
  {
   "cell_type": "code",
   "execution_count": null,
   "id": "abadd426",
   "metadata": {},
   "outputs": [],
   "source": [
    "df_clean=df_clean.dropna(subset=['beds'])\n",
    "df_clean.isnull().sum()"
   ]
  },
  {
   "cell_type": "markdown",
   "id": "900f8736",
   "metadata": {},
   "source": [
    "### 3. Bath outliers : "
   ]
  },
  {
   "cell_type": "code",
   "execution_count": null,
   "id": "9bedcfcf",
   "metadata": {},
   "outputs": [],
   "source": [
    "df_clean['baths'].describe()"
   ]
  },
  {
   "cell_type": "code",
   "execution_count": null,
   "id": "a93dfc05",
   "metadata": {
    "scrolled": true
   },
   "outputs": [],
   "source": [
    "z_score = (df_clean['baths'] - df_clean['baths'].mean())/df_clean['baths'].std()"
   ]
  },
  {
   "cell_type": "code",
   "execution_count": null,
   "id": "fee61a82",
   "metadata": {},
   "outputs": [],
   "source": [
    "baths_outliers = abs(z_score)>3\n",
    "sum(baths_outliers)"
   ]
  },
  {
   "cell_type": "code",
   "execution_count": null,
   "id": "ba57c9fc",
   "metadata": {},
   "outputs": [],
   "source": [
    "min(df_clean.baths[baths_outliers])"
   ]
  },
  {
   "cell_type": "code",
   "execution_count": null,
   "id": "4a2adbbd",
   "metadata": {},
   "outputs": [],
   "source": [
    "max(df_clean.baths[baths_outliers])\n"
   ]
  },
  {
   "cell_type": "code",
   "execution_count": null,
   "id": "c1e75d52",
   "metadata": {},
   "outputs": [],
   "source": [
    "df_clean[df_clean['baths']>=7].reset_index(drop=True)"
   ]
  },
  {
   "cell_type": "markdown",
   "id": "80fade1a",
   "metadata": {},
   "source": [
    "### 3.1 Handling bath outliers :"
   ]
  },
  {
   "cell_type": "code",
   "execution_count": null,
   "id": "3559a490",
   "metadata": {},
   "outputs": [],
   "source": [
    "df_clean['baths'] = np.where((df_clean.baths>=7),np.nan,df_clean.baths)\n",
    "df_clean.isnull().sum()"
   ]
  },
  {
   "cell_type": "code",
   "execution_count": null,
   "id": "cb0ad801",
   "metadata": {},
   "outputs": [],
   "source": [
    "df_clean=df_clean.dropna(subset=['baths'])\n",
    "df_clean.isnull().sum()"
   ]
  },
  {
   "cell_type": "markdown",
   "id": "d14e58a1",
   "metadata": {},
   "source": [
    "### 4. Garage outliers : "
   ]
  },
  {
   "cell_type": "code",
   "execution_count": null,
   "id": "5f96b3f7",
   "metadata": {},
   "outputs": [],
   "source": [
    "df_clean['garage'].describe()"
   ]
  },
  {
   "cell_type": "code",
   "execution_count": null,
   "id": "4692ee51",
   "metadata": {},
   "outputs": [],
   "source": [
    "z_score = (df_clean['garage'] - df_clean['garage'].mean())/df_clean['garage'].std()"
   ]
  },
  {
   "cell_type": "code",
   "execution_count": null,
   "id": "bc8d69c1",
   "metadata": {},
   "outputs": [],
   "source": [
    "garage_outliers = abs(z_score)>3\n",
    "sum(garage_outliers)"
   ]
  },
  {
   "cell_type": "code",
   "execution_count": null,
   "id": "9abcf27c",
   "metadata": {},
   "outputs": [],
   "source": [
    "min(df_clean.garage[garage_outliers])"
   ]
  },
  {
   "cell_type": "code",
   "execution_count": null,
   "id": "f7f4be0f",
   "metadata": {},
   "outputs": [],
   "source": [
    "max(df_clean.garage[garage_outliers])"
   ]
  },
  {
   "cell_type": "code",
   "execution_count": null,
   "id": "9a33ecd5",
   "metadata": {},
   "outputs": [],
   "source": [
    "df_clean[df_clean['garage']>=7].reset_index(drop=True)"
   ]
  },
  {
   "cell_type": "markdown",
   "id": "ba972243",
   "metadata": {},
   "source": [
    "### 4.1 Handling garage outliers :"
   ]
  },
  {
   "cell_type": "code",
   "execution_count": null,
   "id": "c1008234",
   "metadata": {},
   "outputs": [],
   "source": [
    "df_clean['garage'] = np.where((df_clean.garage>=7),np.nan,df_clean.garage)\n",
    "df_clean.isnull().sum()"
   ]
  },
  {
   "cell_type": "code",
   "execution_count": null,
   "id": "eb68b4cb",
   "metadata": {},
   "outputs": [],
   "source": [
    "df_clean.garage = df_clean.garage.fillna(df_clean.garage.median())\n",
    "df_clean.isnull().sum()"
   ]
  },
  {
   "cell_type": "markdown",
   "id": "463e96c6",
   "metadata": {},
   "source": [
    "### 5. Sqft outliers : "
   ]
  },
  {
   "cell_type": "code",
   "execution_count": null,
   "id": "1faf0aad",
   "metadata": {},
   "outputs": [],
   "source": [
    "df_clean['sqft'].describe()"
   ]
  },
  {
   "cell_type": "code",
   "execution_count": null,
   "id": "10c28597",
   "metadata": {},
   "outputs": [],
   "source": [
    "z_score = (df_clean['sqft'] - df_clean['sqft'].mean())/df_clean['sqft'].std()"
   ]
  },
  {
   "cell_type": "code",
   "execution_count": null,
   "id": "f502aecd",
   "metadata": {},
   "outputs": [],
   "source": [
    "sqft_outliers = abs(z_score)>3\n",
    "sum(sqft_outliers)"
   ]
  },
  {
   "cell_type": "code",
   "execution_count": null,
   "id": "c62770d7",
   "metadata": {},
   "outputs": [],
   "source": [
    "min(df_clean.sqft[sqft_outliers])"
   ]
  },
  {
   "cell_type": "code",
   "execution_count": null,
   "id": "3c7f6084",
   "metadata": {},
   "outputs": [],
   "source": [
    "max(df_clean.sqft[sqft_outliers])"
   ]
  },
  {
   "cell_type": "code",
   "execution_count": null,
   "id": "b0c853d8",
   "metadata": {},
   "outputs": [],
   "source": [
    "df_clean[df_clean['sqft']<320].reset_index(drop=True)"
   ]
  },
  {
   "cell_type": "code",
   "execution_count": null,
   "id": "d1e74d4d",
   "metadata": {},
   "outputs": [],
   "source": [
    "df_clean[df_clean['sqft']>=36590].reset_index(drop=True)"
   ]
  },
  {
   "cell_type": "markdown",
   "id": "7be655c4",
   "metadata": {},
   "source": [
    "### 5.1 Handling sqft outliers :"
   ]
  },
  {
   "cell_type": "code",
   "execution_count": null,
   "id": "00733545",
   "metadata": {},
   "outputs": [],
   "source": [
    "df_clean['sqft'] = np.where((df_clean.sqft>=36590),np.nan,df_clean.sqft)\n",
    "df_clean['sqft'] = np.where((df_clean.sqft<=300),np.nan,df_clean.sqft)\n",
    "df_clean.isnull().sum()"
   ]
  },
  {
   "cell_type": "code",
   "execution_count": null,
   "id": "d72fbb37",
   "metadata": {},
   "outputs": [],
   "source": [
    "df_clean.sqft = df_clean.sqft.fillna(df_clean.sqft.median())\n",
    "df_clean.isnull().sum()"
   ]
  },
  {
   "cell_type": "markdown",
   "id": "2a23d5ba",
   "metadata": {},
   "source": [
    "### 6. Lot Sqft outliers :"
   ]
  },
  {
   "cell_type": "markdown",
   "id": "ca1d72f1",
   "metadata": {},
   "source": [
    "###          6.1 Removing values of \"Lot Sqft\" that are smaller then \"Sqft\" :"
   ]
  },
  {
   "cell_type": "code",
   "execution_count": null,
   "id": "1ac8ed9f",
   "metadata": {},
   "outputs": [],
   "source": [
    "df_clean"
   ]
  },
  {
   "cell_type": "code",
   "execution_count": null,
   "id": "f768ff3c",
   "metadata": {},
   "outputs": [],
   "source": [
    "count=0\n",
    "\n",
    "for i, j in df_clean.iterrows():\n",
    "    if((df_clean['lot_sqft'][i]) < (df_clean['sqft'][i])):\n",
    "        count+=1\n",
    "        df_clean.drop([i], axis=0, inplace=True)\n",
    "\n",
    "print(count)\n",
    "print()\n",
    "\n",
    "df_clean = df_clean.reset_index(drop=True)\n",
    "df_clean"
   ]
  },
  {
   "cell_type": "markdown",
   "id": "cb9d9310",
   "metadata": {},
   "source": [
    "### 6.2 The Outliers : "
   ]
  },
  {
   "cell_type": "code",
   "execution_count": null,
   "id": "cc4a3f88",
   "metadata": {},
   "outputs": [],
   "source": [
    "df_clean['lot_sqft'].describe()"
   ]
  },
  {
   "cell_type": "code",
   "execution_count": null,
   "id": "1f7e5c97",
   "metadata": {},
   "outputs": [],
   "source": [
    "z_score = (df_clean['lot_sqft'] - df_clean['lot_sqft'].mean())/df_clean['lot_sqft'].std()"
   ]
  },
  {
   "cell_type": "code",
   "execution_count": null,
   "id": "2ab72904",
   "metadata": {},
   "outputs": [],
   "source": [
    "lot_sqft_outliers = abs(z_score)>3\n",
    "sum(lot_sqft_outliers)"
   ]
  },
  {
   "cell_type": "code",
   "execution_count": null,
   "id": "554ece85",
   "metadata": {},
   "outputs": [],
   "source": [
    "min(df_clean.lot_sqft[lot_sqft_outliers])"
   ]
  },
  {
   "cell_type": "code",
   "execution_count": null,
   "id": "d65c2d07",
   "metadata": {},
   "outputs": [],
   "source": [
    "max(df_clean.lot_sqft[lot_sqft_outliers])"
   ]
  },
  {
   "cell_type": "code",
   "execution_count": null,
   "id": "94ab1271",
   "metadata": {},
   "outputs": [],
   "source": [
    "df_clean[df_clean['lot_sqft']>=18360540].reset_index(drop=True)"
   ]
  },
  {
   "cell_type": "markdown",
   "id": "652d7afb",
   "metadata": {},
   "source": [
    "### 6.2.1 Handling Lot Sqft outliers "
   ]
  },
  {
   "cell_type": "code",
   "execution_count": null,
   "id": "f9a46fd0",
   "metadata": {},
   "outputs": [],
   "source": [
    "df_clean['lot_sqft'] = np.where((df_clean.lot_sqft>=18360540),np.nan,df_clean.lot_sqft)\n",
    "df_clean.isnull().sum()"
   ]
  },
  {
   "cell_type": "code",
   "execution_count": null,
   "id": "6285c56b",
   "metadata": {},
   "outputs": [],
   "source": [
    "df_clean=df_clean.dropna(subset=['lot_sqft'])\n",
    "df_clean.isnull().sum()\n"
   ]
  },
  {
   "cell_type": "code",
   "execution_count": null,
   "id": "4abee04a",
   "metadata": {},
   "outputs": [],
   "source": [
    "df_clean"
   ]
  },
  {
   "cell_type": "markdown",
   "id": "dc0bf0f3",
   "metadata": {},
   "source": [
    "### 7. Stories outliers :"
   ]
  },
  {
   "cell_type": "code",
   "execution_count": null,
   "id": "5db42e8c",
   "metadata": {},
   "outputs": [],
   "source": [
    "df_clean['stories'].describe()"
   ]
  },
  {
   "cell_type": "code",
   "execution_count": null,
   "id": "480e6e0b",
   "metadata": {},
   "outputs": [],
   "source": [
    "z_score = (df_clean['stories'] - df_clean['stories'].mean())/df_clean['stories'].std()"
   ]
  },
  {
   "cell_type": "code",
   "execution_count": null,
   "id": "a04945ad",
   "metadata": {},
   "outputs": [],
   "source": [
    "stories_outliers = abs(z_score)>3\n",
    "sum(stories_outliers)"
   ]
  },
  {
   "cell_type": "code",
   "execution_count": null,
   "id": "60273b45",
   "metadata": {},
   "outputs": [],
   "source": [
    "min(df_clean.stories[stories_outliers])"
   ]
  },
  {
   "cell_type": "code",
   "execution_count": null,
   "id": "bfce36de",
   "metadata": {},
   "outputs": [],
   "source": [
    "max(df_clean.stories[stories_outliers])"
   ]
  },
  {
   "cell_type": "code",
   "execution_count": null,
   "id": "040c924a",
   "metadata": {},
   "outputs": [],
   "source": [
    "df_clean[df_clean['stories']>=20].reset_index(drop=True)"
   ]
  },
  {
   "cell_type": "markdown",
   "id": "6e1581cb",
   "metadata": {},
   "source": [
    "### 7.1 Handling sqft outliers :"
   ]
  },
  {
   "cell_type": "code",
   "execution_count": null,
   "id": "fba16f99",
   "metadata": {},
   "outputs": [],
   "source": [
    "df_clean['stories'] = np.where((df_clean.stories>=20),np.nan,df_clean.stories)\n",
    "df_clean.isnull().sum()"
   ]
  },
  {
   "cell_type": "code",
   "execution_count": null,
   "id": "b96701cc",
   "metadata": {},
   "outputs": [],
   "source": [
    "df_clean=df_clean.dropna(subset=['stories'])\n",
    "df_clean.isnull().sum()"
   ]
  },
  {
   "cell_type": "code",
   "execution_count": null,
   "id": "f5c9ba82",
   "metadata": {},
   "outputs": [],
   "source": [
    "df_clean = df_clean.reset_index(drop=True)\n",
    "df_clean"
   ]
  },
  {
   "cell_type": "markdown",
   "id": "a3321a7b",
   "metadata": {},
   "source": [
    "## Feature Engineering"
   ]
  },
  {
   "cell_type": "code",
   "execution_count": null,
   "id": "c3dc3b20",
   "metadata": {},
   "outputs": [],
   "source": [
    "df_clean['price_per_sqft'] = df_clean.apply(lambda row: row.price / row.sqft, axis=1)\n",
    "df_clean\n"
   ]
  },
  {
   "cell_type": "markdown",
   "id": "0212ee48",
   "metadata": {},
   "source": [
    "### price_per_sqft outliers :"
   ]
  },
  {
   "cell_type": "code",
   "execution_count": null,
   "id": "862641c7",
   "metadata": {},
   "outputs": [],
   "source": [
    "df_clean['price_per_sqft'].describe()"
   ]
  },
  {
   "cell_type": "code",
   "execution_count": null,
   "id": "129246b8",
   "metadata": {},
   "outputs": [],
   "source": [
    "z_score = (df_clean['price_per_sqft'] - df_clean['price_per_sqft'].mean())/df_clean['price_per_sqft'].std()"
   ]
  },
  {
   "cell_type": "code",
   "execution_count": null,
   "id": "cfc41431",
   "metadata": {},
   "outputs": [],
   "source": [
    "price_per_sqft_outliers = abs(z_score)>3\n",
    "sum(price_per_sqft_outliers)"
   ]
  },
  {
   "cell_type": "code",
   "execution_count": null,
   "id": "6a4a5009",
   "metadata": {},
   "outputs": [],
   "source": [
    "min(df_clean.price_per_sqft[price_per_sqft_outliers])"
   ]
  },
  {
   "cell_type": "code",
   "execution_count": null,
   "id": "aa88c710",
   "metadata": {},
   "outputs": [],
   "source": [
    "max(df_clean.price_per_sqft[price_per_sqft_outliers])"
   ]
  },
  {
   "cell_type": "code",
   "execution_count": null,
   "id": "8ec0f357",
   "metadata": {},
   "outputs": [],
   "source": [
    "df_clean[df_clean['price_per_sqft']<50].reset_index(drop=True)"
   ]
  },
  {
   "cell_type": "code",
   "execution_count": null,
   "id": "76f0d8ed",
   "metadata": {},
   "outputs": [],
   "source": [
    "df_clean[df_clean['price_per_sqft']>2500].reset_index(drop=True)"
   ]
  },
  {
   "cell_type": "markdown",
   "id": "45e7cfb8",
   "metadata": {},
   "source": [
    "### Handling sqft outliers :"
   ]
  },
  {
   "cell_type": "code",
   "execution_count": null,
   "id": "c9702a6a",
   "metadata": {},
   "outputs": [],
   "source": [
    "df_clean['price_per_sqft'] = np.where((df_clean.price_per_sqft<50),np.nan,df_clean.price_per_sqft)\n"
   ]
  },
  {
   "cell_type": "code",
   "execution_count": null,
   "id": "f3ab90b4",
   "metadata": {},
   "outputs": [],
   "source": [
    "df_clean['price_per_sqft'] = np.where((df_clean.price_per_sqft>2500),np.nan,df_clean.price_per_sqft)\n",
    "df_clean.isnull().sum()"
   ]
  },
  {
   "cell_type": "code",
   "execution_count": null,
   "id": "2ad01fd4",
   "metadata": {},
   "outputs": [],
   "source": [
    "df_clean=df_clean.dropna(subset=['price_per_sqft'])\n",
    "df_clean.isnull().sum()"
   ]
  },
  {
   "cell_type": "code",
   "execution_count": null,
   "id": "2eb43204",
   "metadata": {},
   "outputs": [],
   "source": [
    "df_clean = df_clean.reset_index(drop=True)\n",
    "df_clean"
   ]
  },
  {
   "cell_type": "markdown",
   "id": "b196b662",
   "metadata": {},
   "source": [
    "## Counting categorical features"
   ]
  },
  {
   "cell_type": "code",
   "execution_count": null,
   "id": "bfae09d4",
   "metadata": {
    "scrolled": true
   },
   "outputs": [],
   "source": [
    "df_clean['house_type'].value_counts()"
   ]
  },
  {
   "cell_type": "code",
   "execution_count": null,
   "id": "68c883ae",
   "metadata": {},
   "outputs": [],
   "source": [
    "df_clean[\"house_type\"].replace({\"apartment\": \"condos\"}, inplace=True)"
   ]
  },
  {
   "cell_type": "code",
   "execution_count": null,
   "id": "eaee035f",
   "metadata": {},
   "outputs": [],
   "source": [
    "df_clean['house_type'].value_counts()"
   ]
  },
  {
   "cell_type": "code",
   "execution_count": null,
   "id": "f58fb643",
   "metadata": {},
   "outputs": [],
   "source": [
    "df_clean['city'].value_counts()"
   ]
  },
  {
   "cell_type": "code",
   "execution_count": null,
   "id": "208a6628",
   "metadata": {},
   "outputs": [],
   "source": [
    "df_clean[\"city\"].replace({\"New York\": \"New York City\"}, inplace=True)"
   ]
  },
  {
   "cell_type": "code",
   "execution_count": null,
   "id": "278fdaae",
   "metadata": {},
   "outputs": [],
   "source": [
    "df_clean['city'].value_counts()"
   ]
  },
  {
   "cell_type": "code",
   "execution_count": null,
   "id": "3af8a6b5",
   "metadata": {},
   "outputs": [],
   "source": [
    "df_clean.to_csv('RealEstateNewYork_Clean2.csv')"
   ]
  },
  {
   "cell_type": "code",
   "execution_count": null,
   "id": "17f7f408",
   "metadata": {},
   "outputs": [],
   "source": []
  }
 ],
 "metadata": {
  "kernelspec": {
   "display_name": "Python 3 (ipykernel)",
   "language": "python",
   "name": "python3"
  },
  "language_info": {
   "codemirror_mode": {
    "name": "ipython",
    "version": 3
   },
   "file_extension": ".py",
   "mimetype": "text/x-python",
   "name": "python",
   "nbconvert_exporter": "python",
   "pygments_lexer": "ipython3",
   "version": "3.9.7"
  }
 },
 "nbformat": 4,
 "nbformat_minor": 5
}
