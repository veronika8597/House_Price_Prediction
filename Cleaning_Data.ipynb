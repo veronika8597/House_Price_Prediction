{
 "cells": [
  {
   "cell_type": "markdown",
   "id": "80b33320",
   "metadata": {},
   "source": [
    "# Cleaning house listings for sale"
   ]
  },
  {
   "cell_type": "code",
   "execution_count": 220,
   "id": "8a6ab338",
   "metadata": {},
   "outputs": [],
   "source": [
    "import pandas as pd\n",
    "import numpy as np\n",
    "import re\n",
    "import warnings\n",
    "\n",
    "#!pip install pydotplus\n",
    "\n",
    "from IPython.display import Image, display #for tree plot \n",
    "import pydotplus \n",
    "from scipy import misc\n",
    "\n",
    "import plotly.express as px\n",
    "\n",
    "import seaborn as sns\n",
    "import matplotlib as mpl\n",
    "from matplotlib import pyplot as plt\n",
    "%matplotlib inline\n",
    "plt.rcParams['figure.figsize'] = (10, 6)\n"
   ]
  },
  {
   "cell_type": "markdown",
   "id": "cec97150",
   "metadata": {},
   "source": [
    "## Import the data"
   ]
  },
  {
   "cell_type": "code",
   "execution_count": 221,
   "id": "ded7c5e5",
   "metadata": {},
   "outputs": [],
   "source": [
    "df=pd.read_csv('RealEstateNewYork.csv',sep=',',low_memory=False)"
   ]
  },
  {
   "cell_type": "code",
   "execution_count": 222,
   "id": "2b2bf4c5",
   "metadata": {},
   "outputs": [
    {
     "data": {
      "text/plain": [
       "(8652, 15)"
      ]
     },
     "execution_count": 222,
     "metadata": {},
     "output_type": "execute_result"
    }
   ],
   "source": [
    "df.shape"
   ]
  },
  {
   "cell_type": "code",
   "execution_count": 223,
   "id": "b161a014",
   "metadata": {},
   "outputs": [],
   "source": [
    "df_clean=df.copy()"
   ]
  },
  {
   "cell_type": "markdown",
   "id": "29c162c0",
   "metadata": {},
   "source": [
    "## Acquaintance with the data"
   ]
  },
  {
   "cell_type": "code",
   "execution_count": 224,
   "id": "4613305f",
   "metadata": {},
   "outputs": [
    {
     "data": {
      "text/html": [
       "<div>\n",
       "<style scoped>\n",
       "    .dataframe tbody tr th:only-of-type {\n",
       "        vertical-align: middle;\n",
       "    }\n",
       "\n",
       "    .dataframe tbody tr th {\n",
       "        vertical-align: top;\n",
       "    }\n",
       "\n",
       "    .dataframe thead th {\n",
       "        text-align: right;\n",
       "    }\n",
       "</style>\n",
       "<table border=\"1\" class=\"dataframe\">\n",
       "  <thead>\n",
       "    <tr style=\"text-align: right;\">\n",
       "      <th></th>\n",
       "      <th>price</th>\n",
       "      <th>beds</th>\n",
       "      <th>baths</th>\n",
       "      <th>garage</th>\n",
       "      <th>stories</th>\n",
       "      <th>house_type</th>\n",
       "      <th>lot_sqft</th>\n",
       "      <th>sqft</th>\n",
       "      <th>year_built</th>\n",
       "      <th>address</th>\n",
       "      <th>state</th>\n",
       "      <th>city</th>\n",
       "      <th>lat</th>\n",
       "      <th>lon</th>\n",
       "      <th>county</th>\n",
       "    </tr>\n",
       "  </thead>\n",
       "  <tbody>\n",
       "    <tr>\n",
       "      <th>count</th>\n",
       "      <td>8.652000e+03</td>\n",
       "      <td>8446.000000</td>\n",
       "      <td>8555.000000</td>\n",
       "      <td>4448.000000</td>\n",
       "      <td>5727.000000</td>\n",
       "      <td>8652</td>\n",
       "      <td>6.823000e+03</td>\n",
       "      <td>6685.000000</td>\n",
       "      <td>8304.000000</td>\n",
       "      <td>8632</td>\n",
       "      <td>8652</td>\n",
       "      <td>8649</td>\n",
       "      <td>8305.000000</td>\n",
       "      <td>8305.000000</td>\n",
       "      <td>8637</td>\n",
       "    </tr>\n",
       "    <tr>\n",
       "      <th>unique</th>\n",
       "      <td>NaN</td>\n",
       "      <td>NaN</td>\n",
       "      <td>NaN</td>\n",
       "      <td>NaN</td>\n",
       "      <td>NaN</td>\n",
       "      <td>11</td>\n",
       "      <td>NaN</td>\n",
       "      <td>NaN</td>\n",
       "      <td>NaN</td>\n",
       "      <td>8574</td>\n",
       "      <td>1</td>\n",
       "      <td>1126</td>\n",
       "      <td>NaN</td>\n",
       "      <td>NaN</td>\n",
       "      <td>63</td>\n",
       "    </tr>\n",
       "    <tr>\n",
       "      <th>top</th>\n",
       "      <td>NaN</td>\n",
       "      <td>NaN</td>\n",
       "      <td>NaN</td>\n",
       "      <td>NaN</td>\n",
       "      <td>NaN</td>\n",
       "      <td>single_family</td>\n",
       "      <td>NaN</td>\n",
       "      <td>NaN</td>\n",
       "      <td>NaN</td>\n",
       "      <td>378 Ohayo Mountain Rd</td>\n",
       "      <td>NY</td>\n",
       "      <td>New York City</td>\n",
       "      <td>NaN</td>\n",
       "      <td>NaN</td>\n",
       "      <td>Suffolk</td>\n",
       "    </tr>\n",
       "    <tr>\n",
       "      <th>freq</th>\n",
       "      <td>NaN</td>\n",
       "      <td>NaN</td>\n",
       "      <td>NaN</td>\n",
       "      <td>NaN</td>\n",
       "      <td>NaN</td>\n",
       "      <td>5360</td>\n",
       "      <td>NaN</td>\n",
       "      <td>NaN</td>\n",
       "      <td>NaN</td>\n",
       "      <td>4</td>\n",
       "      <td>8652</td>\n",
       "      <td>618</td>\n",
       "      <td>NaN</td>\n",
       "      <td>NaN</td>\n",
       "      <td>945</td>\n",
       "    </tr>\n",
       "    <tr>\n",
       "      <th>mean</th>\n",
       "      <td>8.860852e+05</td>\n",
       "      <td>3.278830</td>\n",
       "      <td>2.326943</td>\n",
       "      <td>1.809128</td>\n",
       "      <td>3.451545</td>\n",
       "      <td>NaN</td>\n",
       "      <td>2.272177e+05</td>\n",
       "      <td>2213.703665</td>\n",
       "      <td>1954.759634</td>\n",
       "      <td>NaN</td>\n",
       "      <td>NaN</td>\n",
       "      <td>NaN</td>\n",
       "      <td>41.627811</td>\n",
       "      <td>-74.663843</td>\n",
       "      <td>NaN</td>\n",
       "    </tr>\n",
       "    <tr>\n",
       "      <th>std</th>\n",
       "      <td>1.962067e+06</td>\n",
       "      <td>1.699035</td>\n",
       "      <td>1.391906</td>\n",
       "      <td>2.429346</td>\n",
       "      <td>6.443206</td>\n",
       "      <td>NaN</td>\n",
       "      <td>6.082248e+06</td>\n",
       "      <td>8857.273151</td>\n",
       "      <td>39.266962</td>\n",
       "      <td>NaN</td>\n",
       "      <td>NaN</td>\n",
       "      <td>NaN</td>\n",
       "      <td>1.060644</td>\n",
       "      <td>1.705469</td>\n",
       "      <td>NaN</td>\n",
       "    </tr>\n",
       "    <tr>\n",
       "      <th>min</th>\n",
       "      <td>4.990000e+02</td>\n",
       "      <td>0.000000</td>\n",
       "      <td>0.000000</td>\n",
       "      <td>1.000000</td>\n",
       "      <td>1.000000</td>\n",
       "      <td>NaN</td>\n",
       "      <td>6.500000e+01</td>\n",
       "      <td>0.000000</td>\n",
       "      <td>1720.000000</td>\n",
       "      <td>NaN</td>\n",
       "      <td>NaN</td>\n",
       "      <td>NaN</td>\n",
       "      <td>34.603396</td>\n",
       "      <td>-79.756718</td>\n",
       "      <td>NaN</td>\n",
       "    </tr>\n",
       "    <tr>\n",
       "      <th>25%</th>\n",
       "      <td>2.500000e+05</td>\n",
       "      <td>2.000000</td>\n",
       "      <td>1.000000</td>\n",
       "      <td>1.000000</td>\n",
       "      <td>2.000000</td>\n",
       "      <td>NaN</td>\n",
       "      <td>5.000000e+03</td>\n",
       "      <td>1226.000000</td>\n",
       "      <td>1929.750000</td>\n",
       "      <td>NaN</td>\n",
       "      <td>NaN</td>\n",
       "      <td>NaN</td>\n",
       "      <td>40.749807</td>\n",
       "      <td>-74.993601</td>\n",
       "      <td>NaN</td>\n",
       "    </tr>\n",
       "    <tr>\n",
       "      <th>50%</th>\n",
       "      <td>5.000000e+05</td>\n",
       "      <td>3.000000</td>\n",
       "      <td>2.000000</td>\n",
       "      <td>2.000000</td>\n",
       "      <td>2.000000</td>\n",
       "      <td>NaN</td>\n",
       "      <td>1.045400e+04</td>\n",
       "      <td>1724.000000</td>\n",
       "      <td>1958.000000</td>\n",
       "      <td>NaN</td>\n",
       "      <td>NaN</td>\n",
       "      <td>NaN</td>\n",
       "      <td>41.011198</td>\n",
       "      <td>-73.952879</td>\n",
       "      <td>NaN</td>\n",
       "    </tr>\n",
       "    <tr>\n",
       "      <th>75%</th>\n",
       "      <td>8.500000e+05</td>\n",
       "      <td>4.000000</td>\n",
       "      <td>3.000000</td>\n",
       "      <td>2.000000</td>\n",
       "      <td>3.000000</td>\n",
       "      <td>NaN</td>\n",
       "      <td>3.142850e+04</td>\n",
       "      <td>2392.000000</td>\n",
       "      <td>1983.000000</td>\n",
       "      <td>NaN</td>\n",
       "      <td>NaN</td>\n",
       "      <td>NaN</td>\n",
       "      <td>42.721893</td>\n",
       "      <td>-73.738491</td>\n",
       "      <td>NaN</td>\n",
       "    </tr>\n",
       "    <tr>\n",
       "      <th>max</th>\n",
       "      <td>5.800000e+07</td>\n",
       "      <td>26.000000</td>\n",
       "      <td>20.000000</td>\n",
       "      <td>99.000000</td>\n",
       "      <td>96.000000</td>\n",
       "      <td>NaN</td>\n",
       "      <td>4.355564e+08</td>\n",
       "      <td>642284.000000</td>\n",
       "      <td>2023.000000</td>\n",
       "      <td>NaN</td>\n",
       "      <td>NaN</td>\n",
       "      <td>NaN</td>\n",
       "      <td>44.992181</td>\n",
       "      <td>-71.742205</td>\n",
       "      <td>NaN</td>\n",
       "    </tr>\n",
       "  </tbody>\n",
       "</table>\n",
       "</div>"
      ],
      "text/plain": [
       "               price         beds        baths       garage      stories  \\\n",
       "count   8.652000e+03  8446.000000  8555.000000  4448.000000  5727.000000   \n",
       "unique           NaN          NaN          NaN          NaN          NaN   \n",
       "top              NaN          NaN          NaN          NaN          NaN   \n",
       "freq             NaN          NaN          NaN          NaN          NaN   \n",
       "mean    8.860852e+05     3.278830     2.326943     1.809128     3.451545   \n",
       "std     1.962067e+06     1.699035     1.391906     2.429346     6.443206   \n",
       "min     4.990000e+02     0.000000     0.000000     1.000000     1.000000   \n",
       "25%     2.500000e+05     2.000000     1.000000     1.000000     2.000000   \n",
       "50%     5.000000e+05     3.000000     2.000000     2.000000     2.000000   \n",
       "75%     8.500000e+05     4.000000     3.000000     2.000000     3.000000   \n",
       "max     5.800000e+07    26.000000    20.000000    99.000000    96.000000   \n",
       "\n",
       "           house_type      lot_sqft           sqft   year_built  \\\n",
       "count            8652  6.823000e+03    6685.000000  8304.000000   \n",
       "unique             11           NaN            NaN          NaN   \n",
       "top     single_family           NaN            NaN          NaN   \n",
       "freq             5360           NaN            NaN          NaN   \n",
       "mean              NaN  2.272177e+05    2213.703665  1954.759634   \n",
       "std               NaN  6.082248e+06    8857.273151    39.266962   \n",
       "min               NaN  6.500000e+01       0.000000  1720.000000   \n",
       "25%               NaN  5.000000e+03    1226.000000  1929.750000   \n",
       "50%               NaN  1.045400e+04    1724.000000  1958.000000   \n",
       "75%               NaN  3.142850e+04    2392.000000  1983.000000   \n",
       "max               NaN  4.355564e+08  642284.000000  2023.000000   \n",
       "\n",
       "                      address state           city          lat          lon  \\\n",
       "count                    8632  8652           8649  8305.000000  8305.000000   \n",
       "unique                   8574     1           1126          NaN          NaN   \n",
       "top     378 Ohayo Mountain Rd    NY  New York City          NaN          NaN   \n",
       "freq                        4  8652            618          NaN          NaN   \n",
       "mean                      NaN   NaN            NaN    41.627811   -74.663843   \n",
       "std                       NaN   NaN            NaN     1.060644     1.705469   \n",
       "min                       NaN   NaN            NaN    34.603396   -79.756718   \n",
       "25%                       NaN   NaN            NaN    40.749807   -74.993601   \n",
       "50%                       NaN   NaN            NaN    41.011198   -73.952879   \n",
       "75%                       NaN   NaN            NaN    42.721893   -73.738491   \n",
       "max                       NaN   NaN            NaN    44.992181   -71.742205   \n",
       "\n",
       "         county  \n",
       "count      8637  \n",
       "unique       63  \n",
       "top     Suffolk  \n",
       "freq        945  \n",
       "mean        NaN  \n",
       "std         NaN  \n",
       "min         NaN  \n",
       "25%         NaN  \n",
       "50%         NaN  \n",
       "75%         NaN  \n",
       "max         NaN  "
      ]
     },
     "execution_count": 224,
     "metadata": {},
     "output_type": "execute_result"
    }
   ],
   "source": [
    "df_clean.describe(include='all')"
   ]
  },
  {
   "cell_type": "code",
   "execution_count": 225,
   "id": "cdaf5ac0",
   "metadata": {},
   "outputs": [
    {
     "data": {
      "text/plain": [
       "12308"
      ]
     },
     "execution_count": 225,
     "metadata": {},
     "output_type": "execute_result"
    }
   ],
   "source": [
    "df_clean.isnull().sum().sum()"
   ]
  },
  {
   "cell_type": "code",
   "execution_count": 226,
   "id": "a805623a",
   "metadata": {},
   "outputs": [
    {
     "data": {
      "text/plain": [
       "price            0\n",
       "beds           206\n",
       "baths           97\n",
       "garage        4204\n",
       "stories       2925\n",
       "house_type       0\n",
       "lot_sqft      1829\n",
       "sqft          1967\n",
       "year_built     348\n",
       "address         20\n",
       "state            0\n",
       "city             3\n",
       "lat            347\n",
       "lon            347\n",
       "county          15\n",
       "dtype: int64"
      ]
     },
     "execution_count": 226,
     "metadata": {},
     "output_type": "execute_result"
    }
   ],
   "source": [
    "df_clean.isnull().sum()"
   ]
  },
  {
   "cell_type": "markdown",
   "id": "23c37a98",
   "metadata": {},
   "source": [
    "## Deal with missing data"
   ]
  },
  {
   "cell_type": "markdown",
   "id": "0ef7658b",
   "metadata": {},
   "source": [
    "### 1. Delete missing values:"
   ]
  },
  {
   "cell_type": "code",
   "execution_count": 227,
   "id": "0e78a846",
   "metadata": {},
   "outputs": [
    {
     "data": {
      "text/html": [
       "<div>\n",
       "<style scoped>\n",
       "    .dataframe tbody tr th:only-of-type {\n",
       "        vertical-align: middle;\n",
       "    }\n",
       "\n",
       "    .dataframe tbody tr th {\n",
       "        vertical-align: top;\n",
       "    }\n",
       "\n",
       "    .dataframe thead th {\n",
       "        text-align: right;\n",
       "    }\n",
       "</style>\n",
       "<table border=\"1\" class=\"dataframe\">\n",
       "  <thead>\n",
       "    <tr style=\"text-align: right;\">\n",
       "      <th></th>\n",
       "      <th>price</th>\n",
       "      <th>beds</th>\n",
       "      <th>baths</th>\n",
       "      <th>garage</th>\n",
       "      <th>stories</th>\n",
       "      <th>house_type</th>\n",
       "      <th>lot_sqft</th>\n",
       "      <th>sqft</th>\n",
       "      <th>year_built</th>\n",
       "      <th>address</th>\n",
       "      <th>state</th>\n",
       "      <th>city</th>\n",
       "      <th>lat</th>\n",
       "      <th>lon</th>\n",
       "      <th>county</th>\n",
       "    </tr>\n",
       "  </thead>\n",
       "  <tbody>\n",
       "    <tr>\n",
       "      <th>0</th>\n",
       "      <td>139900</td>\n",
       "      <td>3.0</td>\n",
       "      <td>2.0</td>\n",
       "      <td>NaN</td>\n",
       "      <td>NaN</td>\n",
       "      <td>single_family</td>\n",
       "      <td>12632.0</td>\n",
       "      <td>1190.0</td>\n",
       "      <td>1920.0</td>\n",
       "      <td>154 Maple Ave</td>\n",
       "      <td>NY</td>\n",
       "      <td>Delanson</td>\n",
       "      <td>42.734360</td>\n",
       "      <td>-74.185005</td>\n",
       "      <td>Schenectady</td>\n",
       "    </tr>\n",
       "    <tr>\n",
       "      <th>1</th>\n",
       "      <td>395000</td>\n",
       "      <td>4.0</td>\n",
       "      <td>3.0</td>\n",
       "      <td>2.0</td>\n",
       "      <td>2.0</td>\n",
       "      <td>single_family</td>\n",
       "      <td>30056.0</td>\n",
       "      <td>2987.0</td>\n",
       "      <td>1982.0</td>\n",
       "      <td>1169 Hidden Valley Trl</td>\n",
       "      <td>NY</td>\n",
       "      <td>Webster</td>\n",
       "      <td>43.243062</td>\n",
       "      <td>-77.440707</td>\n",
       "      <td>Monroe</td>\n",
       "    </tr>\n",
       "    <tr>\n",
       "      <th>2</th>\n",
       "      <td>185000</td>\n",
       "      <td>4.0</td>\n",
       "      <td>2.0</td>\n",
       "      <td>1.0</td>\n",
       "      <td>1.0</td>\n",
       "      <td>single_family</td>\n",
       "      <td>7501.0</td>\n",
       "      <td>1863.0</td>\n",
       "      <td>1965.0</td>\n",
       "      <td>7869 Oneida Trl</td>\n",
       "      <td>NY</td>\n",
       "      <td>Bridgeport</td>\n",
       "      <td>43.163020</td>\n",
       "      <td>-75.982109</td>\n",
       "      <td>Onondaga</td>\n",
       "    </tr>\n",
       "    <tr>\n",
       "      <th>3</th>\n",
       "      <td>440000</td>\n",
       "      <td>4.0</td>\n",
       "      <td>3.0</td>\n",
       "      <td>2.0</td>\n",
       "      <td>2.0</td>\n",
       "      <td>single_family</td>\n",
       "      <td>17860.0</td>\n",
       "      <td>1940.0</td>\n",
       "      <td>1965.0</td>\n",
       "      <td>16 Brookland Farms Rd</td>\n",
       "      <td>NY</td>\n",
       "      <td>Poughkeepsie</td>\n",
       "      <td>41.635654</td>\n",
       "      <td>-73.910101</td>\n",
       "      <td>Dutchess</td>\n",
       "    </tr>\n",
       "    <tr>\n",
       "      <th>4</th>\n",
       "      <td>975700</td>\n",
       "      <td>5.0</td>\n",
       "      <td>6.0</td>\n",
       "      <td>3.0</td>\n",
       "      <td>2.0</td>\n",
       "      <td>single_family</td>\n",
       "      <td>25544.0</td>\n",
       "      <td>5660.0</td>\n",
       "      <td>1999.0</td>\n",
       "      <td>7534 Plum Hollow Cir</td>\n",
       "      <td>NY</td>\n",
       "      <td>Liverpool</td>\n",
       "      <td>43.146254</td>\n",
       "      <td>-76.169151</td>\n",
       "      <td>Onondaga</td>\n",
       "    </tr>\n",
       "    <tr>\n",
       "      <th>...</th>\n",
       "      <td>...</td>\n",
       "      <td>...</td>\n",
       "      <td>...</td>\n",
       "      <td>...</td>\n",
       "      <td>...</td>\n",
       "      <td>...</td>\n",
       "      <td>...</td>\n",
       "      <td>...</td>\n",
       "      <td>...</td>\n",
       "      <td>...</td>\n",
       "      <td>...</td>\n",
       "      <td>...</td>\n",
       "      <td>...</td>\n",
       "      <td>...</td>\n",
       "      <td>...</td>\n",
       "    </tr>\n",
       "    <tr>\n",
       "      <th>8630</th>\n",
       "      <td>1049000</td>\n",
       "      <td>6.0</td>\n",
       "      <td>2.0</td>\n",
       "      <td>1.0</td>\n",
       "      <td>NaN</td>\n",
       "      <td>multi_family</td>\n",
       "      <td>2896.0</td>\n",
       "      <td>NaN</td>\n",
       "      <td>1920.0</td>\n",
       "      <td>74-15 88th Ave</td>\n",
       "      <td>NY</td>\n",
       "      <td>Woodhaven</td>\n",
       "      <td>40.689428</td>\n",
       "      <td>-73.867066</td>\n",
       "      <td>Queens</td>\n",
       "    </tr>\n",
       "    <tr>\n",
       "      <th>8631</th>\n",
       "      <td>1495000</td>\n",
       "      <td>1.0</td>\n",
       "      <td>1.0</td>\n",
       "      <td>NaN</td>\n",
       "      <td>16.0</td>\n",
       "      <td>coop</td>\n",
       "      <td>NaN</td>\n",
       "      <td>NaN</td>\n",
       "      <td>1925.0</td>\n",
       "      <td>45 5th Ave Apt 17C</td>\n",
       "      <td>NY</td>\n",
       "      <td>New York City</td>\n",
       "      <td>40.734161</td>\n",
       "      <td>-73.994557</td>\n",
       "      <td>New York</td>\n",
       "    </tr>\n",
       "    <tr>\n",
       "      <th>8632</th>\n",
       "      <td>1395000</td>\n",
       "      <td>3.0</td>\n",
       "      <td>1.0</td>\n",
       "      <td>NaN</td>\n",
       "      <td>5.0</td>\n",
       "      <td>condos</td>\n",
       "      <td>NaN</td>\n",
       "      <td>NaN</td>\n",
       "      <td>1890.0</td>\n",
       "      <td>705 Carroll St Apt 4R</td>\n",
       "      <td>NY</td>\n",
       "      <td>New York City</td>\n",
       "      <td>40.673940</td>\n",
       "      <td>-73.977606</td>\n",
       "      <td>Kings</td>\n",
       "    </tr>\n",
       "    <tr>\n",
       "      <th>8633</th>\n",
       "      <td>4500000</td>\n",
       "      <td>6.0</td>\n",
       "      <td>4.0</td>\n",
       "      <td>NaN</td>\n",
       "      <td>4.0</td>\n",
       "      <td>townhomes</td>\n",
       "      <td>NaN</td>\n",
       "      <td>NaN</td>\n",
       "      <td>NaN</td>\n",
       "      <td>608 3rd St</td>\n",
       "      <td>NY</td>\n",
       "      <td>New York City</td>\n",
       "      <td>40.668649</td>\n",
       "      <td>-73.975270</td>\n",
       "      <td>Kings</td>\n",
       "    </tr>\n",
       "    <tr>\n",
       "      <th>8634</th>\n",
       "      <td>570000</td>\n",
       "      <td>1.0</td>\n",
       "      <td>1.0</td>\n",
       "      <td>NaN</td>\n",
       "      <td>17.0</td>\n",
       "      <td>coop</td>\n",
       "      <td>NaN</td>\n",
       "      <td>725.0</td>\n",
       "      <td>1927.0</td>\n",
       "      <td>127 W 96th St Apt 5E</td>\n",
       "      <td>NY</td>\n",
       "      <td>New York City</td>\n",
       "      <td>40.793792</td>\n",
       "      <td>-73.969013</td>\n",
       "      <td>New York</td>\n",
       "    </tr>\n",
       "  </tbody>\n",
       "</table>\n",
       "<p>8635 rows × 15 columns</p>\n",
       "</div>"
      ],
      "text/plain": [
       "        price  beds  baths  garage  stories     house_type  lot_sqft    sqft  \\\n",
       "0      139900   3.0    2.0     NaN      NaN  single_family   12632.0  1190.0   \n",
       "1      395000   4.0    3.0     2.0      2.0  single_family   30056.0  2987.0   \n",
       "2      185000   4.0    2.0     1.0      1.0  single_family    7501.0  1863.0   \n",
       "3      440000   4.0    3.0     2.0      2.0  single_family   17860.0  1940.0   \n",
       "4      975700   5.0    6.0     3.0      2.0  single_family   25544.0  5660.0   \n",
       "...       ...   ...    ...     ...      ...            ...       ...     ...   \n",
       "8630  1049000   6.0    2.0     1.0      NaN   multi_family    2896.0     NaN   \n",
       "8631  1495000   1.0    1.0     NaN     16.0           coop       NaN     NaN   \n",
       "8632  1395000   3.0    1.0     NaN      5.0         condos       NaN     NaN   \n",
       "8633  4500000   6.0    4.0     NaN      4.0      townhomes       NaN     NaN   \n",
       "8634   570000   1.0    1.0     NaN     17.0           coop       NaN   725.0   \n",
       "\n",
       "      year_built                 address state           city        lat  \\\n",
       "0         1920.0           154 Maple Ave    NY       Delanson  42.734360   \n",
       "1         1982.0  1169 Hidden Valley Trl    NY        Webster  43.243062   \n",
       "2         1965.0         7869 Oneida Trl    NY     Bridgeport  43.163020   \n",
       "3         1965.0   16 Brookland Farms Rd    NY   Poughkeepsie  41.635654   \n",
       "4         1999.0    7534 Plum Hollow Cir    NY      Liverpool  43.146254   \n",
       "...          ...                     ...   ...            ...        ...   \n",
       "8630      1920.0          74-15 88th Ave    NY      Woodhaven  40.689428   \n",
       "8631      1925.0      45 5th Ave Apt 17C    NY  New York City  40.734161   \n",
       "8632      1890.0   705 Carroll St Apt 4R    NY  New York City  40.673940   \n",
       "8633         NaN              608 3rd St    NY  New York City  40.668649   \n",
       "8634      1927.0    127 W 96th St Apt 5E    NY  New York City  40.793792   \n",
       "\n",
       "            lon       county  \n",
       "0    -74.185005  Schenectady  \n",
       "1    -77.440707       Monroe  \n",
       "2    -75.982109     Onondaga  \n",
       "3    -73.910101     Dutchess  \n",
       "4    -76.169151     Onondaga  \n",
       "...         ...          ...  \n",
       "8630 -73.867066       Queens  \n",
       "8631 -73.994557     New York  \n",
       "8632 -73.977606        Kings  \n",
       "8633 -73.975270        Kings  \n",
       "8634 -73.969013     New York  \n",
       "\n",
       "[8635 rows x 15 columns]"
      ]
     },
     "execution_count": 227,
     "metadata": {},
     "output_type": "execute_result"
    }
   ],
   "source": [
    "df_clean = df_clean.dropna(subset=['city','county']).reset_index(drop=True)\n",
    "df_clean"
   ]
  },
  {
   "cell_type": "code",
   "execution_count": 228,
   "id": "fb4024d8",
   "metadata": {},
   "outputs": [
    {
     "data": {
      "text/plain": [
       "price            0\n",
       "beds           205\n",
       "baths           96\n",
       "garage        4188\n",
       "stories       2921\n",
       "house_type       0\n",
       "lot_sqft      1817\n",
       "sqft          1960\n",
       "year_built     347\n",
       "address         20\n",
       "state            0\n",
       "city             0\n",
       "lat            333\n",
       "lon            333\n",
       "county           0\n",
       "dtype: int64"
      ]
     },
     "execution_count": 228,
     "metadata": {},
     "output_type": "execute_result"
    }
   ],
   "source": [
    "df_clean.isnull().sum()"
   ]
  },
  {
   "cell_type": "markdown",
   "id": "c90d8fc7",
   "metadata": {},
   "source": [
    "### 2. Fill NaNs :"
   ]
  },
  {
   "cell_type": "code",
   "execution_count": 229,
   "id": "3ab0354d",
   "metadata": {},
   "outputs": [],
   "source": [
    "df_clean.year_built = df_clean.year_built.fillna(df_clean.year_built.median())\n",
    "df_clean.beds = df_clean.beds.fillna(df_clean.beds.median())\n",
    "df_clean.baths = df_clean.baths.fillna(df_clean.baths.median())\n",
    "df_clean.garage = df_clean.garage.fillna(df_clean.garage.median())\n",
    "df_clean.stories = df_clean.stories.fillna(df_clean.stories.median())\n",
    "df_clean.sqft = df_clean.sqft.fillna(df_clean.sqft.median())\n",
    "df_clean.lot_sqft = df_clean.lot_sqft.fillna(df_clean.lot_sqft.median())\n",
    "df_clean.address = df_clean.address.fillna('Not Specified')"
   ]
  },
  {
   "cell_type": "markdown",
   "id": "0e4a9d1d",
   "metadata": {},
   "source": [
    "## Drop the unnecessary columns"
   ]
  },
  {
   "cell_type": "code",
   "execution_count": 230,
   "id": "90f02bc7",
   "metadata": {},
   "outputs": [],
   "source": [
    "df_clean = df_clean.drop(columns=(['lon', 'lat']))"
   ]
  },
  {
   "cell_type": "markdown",
   "id": "f7bce0ff",
   "metadata": {},
   "source": [
    "## Remove duplicates"
   ]
  },
  {
   "cell_type": "code",
   "execution_count": 231,
   "id": "dc1596ca",
   "metadata": {},
   "outputs": [
    {
     "data": {
      "text/html": [
       "<div>\n",
       "<style scoped>\n",
       "    .dataframe tbody tr th:only-of-type {\n",
       "        vertical-align: middle;\n",
       "    }\n",
       "\n",
       "    .dataframe tbody tr th {\n",
       "        vertical-align: top;\n",
       "    }\n",
       "\n",
       "    .dataframe thead th {\n",
       "        text-align: right;\n",
       "    }\n",
       "</style>\n",
       "<table border=\"1\" class=\"dataframe\">\n",
       "  <thead>\n",
       "    <tr style=\"text-align: right;\">\n",
       "      <th></th>\n",
       "      <th>price</th>\n",
       "      <th>beds</th>\n",
       "      <th>baths</th>\n",
       "      <th>garage</th>\n",
       "      <th>stories</th>\n",
       "      <th>house_type</th>\n",
       "      <th>lot_sqft</th>\n",
       "      <th>sqft</th>\n",
       "      <th>year_built</th>\n",
       "      <th>address</th>\n",
       "      <th>state</th>\n",
       "      <th>city</th>\n",
       "      <th>county</th>\n",
       "    </tr>\n",
       "  </thead>\n",
       "  <tbody>\n",
       "    <tr>\n",
       "      <th>0</th>\n",
       "      <td>139900</td>\n",
       "      <td>3.0</td>\n",
       "      <td>2.0</td>\n",
       "      <td>2.0</td>\n",
       "      <td>2.0</td>\n",
       "      <td>single_family</td>\n",
       "      <td>12632.0</td>\n",
       "      <td>1190.0</td>\n",
       "      <td>1920.0</td>\n",
       "      <td>154 Maple Ave</td>\n",
       "      <td>NY</td>\n",
       "      <td>Delanson</td>\n",
       "      <td>Schenectady</td>\n",
       "    </tr>\n",
       "    <tr>\n",
       "      <th>1</th>\n",
       "      <td>395000</td>\n",
       "      <td>4.0</td>\n",
       "      <td>3.0</td>\n",
       "      <td>2.0</td>\n",
       "      <td>2.0</td>\n",
       "      <td>single_family</td>\n",
       "      <td>30056.0</td>\n",
       "      <td>2987.0</td>\n",
       "      <td>1982.0</td>\n",
       "      <td>1169 Hidden Valley Trl</td>\n",
       "      <td>NY</td>\n",
       "      <td>Webster</td>\n",
       "      <td>Monroe</td>\n",
       "    </tr>\n",
       "    <tr>\n",
       "      <th>2</th>\n",
       "      <td>185000</td>\n",
       "      <td>4.0</td>\n",
       "      <td>2.0</td>\n",
       "      <td>1.0</td>\n",
       "      <td>1.0</td>\n",
       "      <td>single_family</td>\n",
       "      <td>7501.0</td>\n",
       "      <td>1863.0</td>\n",
       "      <td>1965.0</td>\n",
       "      <td>7869 Oneida Trl</td>\n",
       "      <td>NY</td>\n",
       "      <td>Bridgeport</td>\n",
       "      <td>Onondaga</td>\n",
       "    </tr>\n",
       "    <tr>\n",
       "      <th>3</th>\n",
       "      <td>440000</td>\n",
       "      <td>4.0</td>\n",
       "      <td>3.0</td>\n",
       "      <td>2.0</td>\n",
       "      <td>2.0</td>\n",
       "      <td>single_family</td>\n",
       "      <td>17860.0</td>\n",
       "      <td>1940.0</td>\n",
       "      <td>1965.0</td>\n",
       "      <td>16 Brookland Farms Rd</td>\n",
       "      <td>NY</td>\n",
       "      <td>Poughkeepsie</td>\n",
       "      <td>Dutchess</td>\n",
       "    </tr>\n",
       "    <tr>\n",
       "      <th>4</th>\n",
       "      <td>975700</td>\n",
       "      <td>5.0</td>\n",
       "      <td>6.0</td>\n",
       "      <td>3.0</td>\n",
       "      <td>2.0</td>\n",
       "      <td>single_family</td>\n",
       "      <td>25544.0</td>\n",
       "      <td>5660.0</td>\n",
       "      <td>1999.0</td>\n",
       "      <td>7534 Plum Hollow Cir</td>\n",
       "      <td>NY</td>\n",
       "      <td>Liverpool</td>\n",
       "      <td>Onondaga</td>\n",
       "    </tr>\n",
       "    <tr>\n",
       "      <th>...</th>\n",
       "      <td>...</td>\n",
       "      <td>...</td>\n",
       "      <td>...</td>\n",
       "      <td>...</td>\n",
       "      <td>...</td>\n",
       "      <td>...</td>\n",
       "      <td>...</td>\n",
       "      <td>...</td>\n",
       "      <td>...</td>\n",
       "      <td>...</td>\n",
       "      <td>...</td>\n",
       "      <td>...</td>\n",
       "      <td>...</td>\n",
       "    </tr>\n",
       "    <tr>\n",
       "      <th>8622</th>\n",
       "      <td>1049000</td>\n",
       "      <td>6.0</td>\n",
       "      <td>2.0</td>\n",
       "      <td>1.0</td>\n",
       "      <td>2.0</td>\n",
       "      <td>multi_family</td>\n",
       "      <td>2896.0</td>\n",
       "      <td>1725.0</td>\n",
       "      <td>1920.0</td>\n",
       "      <td>74-15 88th Ave</td>\n",
       "      <td>NY</td>\n",
       "      <td>Woodhaven</td>\n",
       "      <td>Queens</td>\n",
       "    </tr>\n",
       "    <tr>\n",
       "      <th>8623</th>\n",
       "      <td>1495000</td>\n",
       "      <td>1.0</td>\n",
       "      <td>1.0</td>\n",
       "      <td>2.0</td>\n",
       "      <td>16.0</td>\n",
       "      <td>coop</td>\n",
       "      <td>10454.0</td>\n",
       "      <td>1725.0</td>\n",
       "      <td>1925.0</td>\n",
       "      <td>45 5th Ave Apt 17C</td>\n",
       "      <td>NY</td>\n",
       "      <td>New York City</td>\n",
       "      <td>New York</td>\n",
       "    </tr>\n",
       "    <tr>\n",
       "      <th>8624</th>\n",
       "      <td>1395000</td>\n",
       "      <td>3.0</td>\n",
       "      <td>1.0</td>\n",
       "      <td>2.0</td>\n",
       "      <td>5.0</td>\n",
       "      <td>condos</td>\n",
       "      <td>10454.0</td>\n",
       "      <td>1725.0</td>\n",
       "      <td>1890.0</td>\n",
       "      <td>705 Carroll St Apt 4R</td>\n",
       "      <td>NY</td>\n",
       "      <td>New York City</td>\n",
       "      <td>Kings</td>\n",
       "    </tr>\n",
       "    <tr>\n",
       "      <th>8625</th>\n",
       "      <td>4500000</td>\n",
       "      <td>6.0</td>\n",
       "      <td>4.0</td>\n",
       "      <td>2.0</td>\n",
       "      <td>4.0</td>\n",
       "      <td>townhomes</td>\n",
       "      <td>10454.0</td>\n",
       "      <td>1725.0</td>\n",
       "      <td>1958.0</td>\n",
       "      <td>608 3rd St</td>\n",
       "      <td>NY</td>\n",
       "      <td>New York City</td>\n",
       "      <td>Kings</td>\n",
       "    </tr>\n",
       "    <tr>\n",
       "      <th>8626</th>\n",
       "      <td>570000</td>\n",
       "      <td>1.0</td>\n",
       "      <td>1.0</td>\n",
       "      <td>2.0</td>\n",
       "      <td>17.0</td>\n",
       "      <td>coop</td>\n",
       "      <td>10454.0</td>\n",
       "      <td>725.0</td>\n",
       "      <td>1927.0</td>\n",
       "      <td>127 W 96th St Apt 5E</td>\n",
       "      <td>NY</td>\n",
       "      <td>New York City</td>\n",
       "      <td>New York</td>\n",
       "    </tr>\n",
       "  </tbody>\n",
       "</table>\n",
       "<p>8627 rows × 13 columns</p>\n",
       "</div>"
      ],
      "text/plain": [
       "        price  beds  baths  garage  stories     house_type  lot_sqft    sqft  \\\n",
       "0      139900   3.0    2.0     2.0      2.0  single_family   12632.0  1190.0   \n",
       "1      395000   4.0    3.0     2.0      2.0  single_family   30056.0  2987.0   \n",
       "2      185000   4.0    2.0     1.0      1.0  single_family    7501.0  1863.0   \n",
       "3      440000   4.0    3.0     2.0      2.0  single_family   17860.0  1940.0   \n",
       "4      975700   5.0    6.0     3.0      2.0  single_family   25544.0  5660.0   \n",
       "...       ...   ...    ...     ...      ...            ...       ...     ...   \n",
       "8622  1049000   6.0    2.0     1.0      2.0   multi_family    2896.0  1725.0   \n",
       "8623  1495000   1.0    1.0     2.0     16.0           coop   10454.0  1725.0   \n",
       "8624  1395000   3.0    1.0     2.0      5.0         condos   10454.0  1725.0   \n",
       "8625  4500000   6.0    4.0     2.0      4.0      townhomes   10454.0  1725.0   \n",
       "8626   570000   1.0    1.0     2.0     17.0           coop   10454.0   725.0   \n",
       "\n",
       "      year_built                 address state           city       county  \n",
       "0         1920.0           154 Maple Ave    NY       Delanson  Schenectady  \n",
       "1         1982.0  1169 Hidden Valley Trl    NY        Webster       Monroe  \n",
       "2         1965.0         7869 Oneida Trl    NY     Bridgeport     Onondaga  \n",
       "3         1965.0   16 Brookland Farms Rd    NY   Poughkeepsie     Dutchess  \n",
       "4         1999.0    7534 Plum Hollow Cir    NY      Liverpool     Onondaga  \n",
       "...          ...                     ...   ...            ...          ...  \n",
       "8622      1920.0          74-15 88th Ave    NY      Woodhaven       Queens  \n",
       "8623      1925.0      45 5th Ave Apt 17C    NY  New York City     New York  \n",
       "8624      1890.0   705 Carroll St Apt 4R    NY  New York City        Kings  \n",
       "8625      1958.0              608 3rd St    NY  New York City        Kings  \n",
       "8626      1927.0    127 W 96th St Apt 5E    NY  New York City     New York  \n",
       "\n",
       "[8627 rows x 13 columns]"
      ]
     },
     "execution_count": 231,
     "metadata": {},
     "output_type": "execute_result"
    }
   ],
   "source": [
    "df_clean= df_clean.drop_duplicates().reset_index(drop=True)\n",
    "df_clean"
   ]
  },
  {
   "cell_type": "markdown",
   "id": "b877f0ea",
   "metadata": {},
   "source": [
    "## Changing data types"
   ]
  },
  {
   "cell_type": "code",
   "execution_count": 249,
   "id": "a5b800d5",
   "metadata": {},
   "outputs": [],
   "source": [
    "df_clean['year_built']=df_clean['year_built'].astype(np.int64)\n",
    "\n",
    "df_clean['beds']=df_clean['beds'].astype(np.float64)\n",
    "\n",
    "df_clean['baths']=df_clean['baths'].astype(np.float64)\n",
    "\n",
    "df_clean['stories']=df_clean['stories'].astype(np.int64)\n",
    "\n",
    "df_clean['lot_sqft']=df_clean['lot_sqft'].astype(np.int64)\n",
    "\n",
    "df_clean['sqft']=df_clean['sqft'].astype(np.int64)\n",
    "\n",
    "df_clean['garage']=df_clean['garage'].astype(np.int64)\n",
    "\n",
    "df_clean['price']=df_clean['price'].astype(np.float64)\n"
   ]
  },
  {
   "cell_type": "code",
   "execution_count": 250,
   "id": "51be7fab",
   "metadata": {},
   "outputs": [
    {
     "data": {
      "text/plain": [
       "price         float64\n",
       "beds          float64\n",
       "baths         float64\n",
       "garage          int64\n",
       "stories         int64\n",
       "house_type     object\n",
       "lot_sqft        int64\n",
       "sqft            int64\n",
       "year_built      int64\n",
       "address        object\n",
       "state          object\n",
       "city           object\n",
       "county         object\n",
       "dtype: object"
      ]
     },
     "execution_count": 250,
     "metadata": {},
     "output_type": "execute_result"
    }
   ],
   "source": [
    "df_clean.dtypes"
   ]
  },
  {
   "cell_type": "markdown",
   "id": "3650016e",
   "metadata": {},
   "source": [
    "## Using pandas describe() to find outliers\n"
   ]
  },
  {
   "cell_type": "code",
   "execution_count": 251,
   "id": "fb766615",
   "metadata": {},
   "outputs": [
    {
     "data": {
      "text/html": [
       "<div>\n",
       "<style scoped>\n",
       "    .dataframe tbody tr th:only-of-type {\n",
       "        vertical-align: middle;\n",
       "    }\n",
       "\n",
       "    .dataframe tbody tr th {\n",
       "        vertical-align: top;\n",
       "    }\n",
       "\n",
       "    .dataframe thead th {\n",
       "        text-align: right;\n",
       "    }\n",
       "</style>\n",
       "<table border=\"1\" class=\"dataframe\">\n",
       "  <thead>\n",
       "    <tr style=\"text-align: right;\">\n",
       "      <th></th>\n",
       "      <th>price</th>\n",
       "      <th>beds</th>\n",
       "      <th>baths</th>\n",
       "      <th>garage</th>\n",
       "      <th>stories</th>\n",
       "      <th>house_type</th>\n",
       "      <th>lot_sqft</th>\n",
       "      <th>sqft</th>\n",
       "      <th>year_built</th>\n",
       "      <th>address</th>\n",
       "      <th>state</th>\n",
       "      <th>city</th>\n",
       "      <th>county</th>\n",
       "    </tr>\n",
       "  </thead>\n",
       "  <tbody>\n",
       "    <tr>\n",
       "      <th>count</th>\n",
       "      <td>8.627000e+03</td>\n",
       "      <td>8627.000000</td>\n",
       "      <td>8627.000000</td>\n",
       "      <td>8627.000000</td>\n",
       "      <td>8627.000000</td>\n",
       "      <td>8627</td>\n",
       "      <td>8.627000e+03</td>\n",
       "      <td>8627.000000</td>\n",
       "      <td>8627.000000</td>\n",
       "      <td>8627</td>\n",
       "      <td>8627</td>\n",
       "      <td>8627</td>\n",
       "      <td>8627</td>\n",
       "    </tr>\n",
       "    <tr>\n",
       "      <th>unique</th>\n",
       "      <td>NaN</td>\n",
       "      <td>NaN</td>\n",
       "      <td>NaN</td>\n",
       "      <td>NaN</td>\n",
       "      <td>NaN</td>\n",
       "      <td>11</td>\n",
       "      <td>NaN</td>\n",
       "      <td>NaN</td>\n",
       "      <td>NaN</td>\n",
       "      <td>8558</td>\n",
       "      <td>1</td>\n",
       "      <td>1122</td>\n",
       "      <td>62</td>\n",
       "    </tr>\n",
       "    <tr>\n",
       "      <th>top</th>\n",
       "      <td>NaN</td>\n",
       "      <td>NaN</td>\n",
       "      <td>NaN</td>\n",
       "      <td>NaN</td>\n",
       "      <td>NaN</td>\n",
       "      <td>single_family</td>\n",
       "      <td>NaN</td>\n",
       "      <td>NaN</td>\n",
       "      <td>NaN</td>\n",
       "      <td>Not Specified</td>\n",
       "      <td>NY</td>\n",
       "      <td>New York City</td>\n",
       "      <td>Suffolk</td>\n",
       "    </tr>\n",
       "    <tr>\n",
       "      <th>freq</th>\n",
       "      <td>NaN</td>\n",
       "      <td>NaN</td>\n",
       "      <td>NaN</td>\n",
       "      <td>NaN</td>\n",
       "      <td>NaN</td>\n",
       "      <td>5350</td>\n",
       "      <td>NaN</td>\n",
       "      <td>NaN</td>\n",
       "      <td>NaN</td>\n",
       "      <td>20</td>\n",
       "      <td>8627</td>\n",
       "      <td>609</td>\n",
       "      <td>944</td>\n",
       "    </tr>\n",
       "    <tr>\n",
       "      <th>mean</th>\n",
       "      <td>8.866795e+05</td>\n",
       "      <td>3.273328</td>\n",
       "      <td>2.323751</td>\n",
       "      <td>1.901704</td>\n",
       "      <td>2.955141</td>\n",
       "      <td>NaN</td>\n",
       "      <td>1.815589e+05</td>\n",
       "      <td>2097.299177</td>\n",
       "      <td>1954.845369</td>\n",
       "      <td>NaN</td>\n",
       "      <td>NaN</td>\n",
       "      <td>NaN</td>\n",
       "      <td>NaN</td>\n",
       "    </tr>\n",
       "    <tr>\n",
       "      <th>std</th>\n",
       "      <td>1.964671e+06</td>\n",
       "      <td>1.678394</td>\n",
       "      <td>1.382996</td>\n",
       "      <td>1.746868</td>\n",
       "      <td>5.283079</td>\n",
       "      <td>NaN</td>\n",
       "      <td>5.409682e+06</td>\n",
       "      <td>7780.625620</td>\n",
       "      <td>38.499541</td>\n",
       "      <td>NaN</td>\n",
       "      <td>NaN</td>\n",
       "      <td>NaN</td>\n",
       "      <td>NaN</td>\n",
       "    </tr>\n",
       "    <tr>\n",
       "      <th>min</th>\n",
       "      <td>4.990000e+02</td>\n",
       "      <td>0.000000</td>\n",
       "      <td>0.000000</td>\n",
       "      <td>1.000000</td>\n",
       "      <td>1.000000</td>\n",
       "      <td>NaN</td>\n",
       "      <td>6.500000e+01</td>\n",
       "      <td>0.000000</td>\n",
       "      <td>1720.000000</td>\n",
       "      <td>NaN</td>\n",
       "      <td>NaN</td>\n",
       "      <td>NaN</td>\n",
       "      <td>NaN</td>\n",
       "    </tr>\n",
       "    <tr>\n",
       "      <th>25%</th>\n",
       "      <td>2.499990e+05</td>\n",
       "      <td>2.000000</td>\n",
       "      <td>1.000000</td>\n",
       "      <td>2.000000</td>\n",
       "      <td>2.000000</td>\n",
       "      <td>NaN</td>\n",
       "      <td>6.000000e+03</td>\n",
       "      <td>1360.000000</td>\n",
       "      <td>1930.000000</td>\n",
       "      <td>NaN</td>\n",
       "      <td>NaN</td>\n",
       "      <td>NaN</td>\n",
       "      <td>NaN</td>\n",
       "    </tr>\n",
       "    <tr>\n",
       "      <th>50%</th>\n",
       "      <td>5.000000e+05</td>\n",
       "      <td>3.000000</td>\n",
       "      <td>2.000000</td>\n",
       "      <td>2.000000</td>\n",
       "      <td>2.000000</td>\n",
       "      <td>NaN</td>\n",
       "      <td>1.045400e+04</td>\n",
       "      <td>1725.000000</td>\n",
       "      <td>1958.000000</td>\n",
       "      <td>NaN</td>\n",
       "      <td>NaN</td>\n",
       "      <td>NaN</td>\n",
       "      <td>NaN</td>\n",
       "    </tr>\n",
       "    <tr>\n",
       "      <th>75%</th>\n",
       "      <td>8.500000e+05</td>\n",
       "      <td>4.000000</td>\n",
       "      <td>3.000000</td>\n",
       "      <td>2.000000</td>\n",
       "      <td>2.000000</td>\n",
       "      <td>NaN</td>\n",
       "      <td>2.178000e+04</td>\n",
       "      <td>2159.500000</td>\n",
       "      <td>1981.000000</td>\n",
       "      <td>NaN</td>\n",
       "      <td>NaN</td>\n",
       "      <td>NaN</td>\n",
       "      <td>NaN</td>\n",
       "    </tr>\n",
       "    <tr>\n",
       "      <th>max</th>\n",
       "      <td>5.800000e+07</td>\n",
       "      <td>26.000000</td>\n",
       "      <td>20.000000</td>\n",
       "      <td>99.000000</td>\n",
       "      <td>96.000000</td>\n",
       "      <td>NaN</td>\n",
       "      <td>4.355564e+08</td>\n",
       "      <td>642284.000000</td>\n",
       "      <td>2023.000000</td>\n",
       "      <td>NaN</td>\n",
       "      <td>NaN</td>\n",
       "      <td>NaN</td>\n",
       "      <td>NaN</td>\n",
       "    </tr>\n",
       "  </tbody>\n",
       "</table>\n",
       "</div>"
      ],
      "text/plain": [
       "               price         beds        baths       garage      stories  \\\n",
       "count   8.627000e+03  8627.000000  8627.000000  8627.000000  8627.000000   \n",
       "unique           NaN          NaN          NaN          NaN          NaN   \n",
       "top              NaN          NaN          NaN          NaN          NaN   \n",
       "freq             NaN          NaN          NaN          NaN          NaN   \n",
       "mean    8.866795e+05     3.273328     2.323751     1.901704     2.955141   \n",
       "std     1.964671e+06     1.678394     1.382996     1.746868     5.283079   \n",
       "min     4.990000e+02     0.000000     0.000000     1.000000     1.000000   \n",
       "25%     2.499990e+05     2.000000     1.000000     2.000000     2.000000   \n",
       "50%     5.000000e+05     3.000000     2.000000     2.000000     2.000000   \n",
       "75%     8.500000e+05     4.000000     3.000000     2.000000     2.000000   \n",
       "max     5.800000e+07    26.000000    20.000000    99.000000    96.000000   \n",
       "\n",
       "           house_type      lot_sqft           sqft   year_built  \\\n",
       "count            8627  8.627000e+03    8627.000000  8627.000000   \n",
       "unique             11           NaN            NaN          NaN   \n",
       "top     single_family           NaN            NaN          NaN   \n",
       "freq             5350           NaN            NaN          NaN   \n",
       "mean              NaN  1.815589e+05    2097.299177  1954.845369   \n",
       "std               NaN  5.409682e+06    7780.625620    38.499541   \n",
       "min               NaN  6.500000e+01       0.000000  1720.000000   \n",
       "25%               NaN  6.000000e+03    1360.000000  1930.000000   \n",
       "50%               NaN  1.045400e+04    1725.000000  1958.000000   \n",
       "75%               NaN  2.178000e+04    2159.500000  1981.000000   \n",
       "max               NaN  4.355564e+08  642284.000000  2023.000000   \n",
       "\n",
       "              address state           city   county  \n",
       "count            8627  8627           8627     8627  \n",
       "unique           8558     1           1122       62  \n",
       "top     Not Specified    NY  New York City  Suffolk  \n",
       "freq               20  8627            609      944  \n",
       "mean              NaN   NaN            NaN      NaN  \n",
       "std               NaN   NaN            NaN      NaN  \n",
       "min               NaN   NaN            NaN      NaN  \n",
       "25%               NaN   NaN            NaN      NaN  \n",
       "50%               NaN   NaN            NaN      NaN  \n",
       "75%               NaN   NaN            NaN      NaN  \n",
       "max               NaN   NaN            NaN      NaN  "
      ]
     },
     "execution_count": 251,
     "metadata": {},
     "output_type": "execute_result"
    }
   ],
   "source": [
    "df_clean.describe(include='all')"
   ]
  },
  {
   "cell_type": "markdown",
   "id": "0da39fe3",
   "metadata": {},
   "source": [
    "## Detecting outliers graphically"
   ]
  },
  {
   "cell_type": "markdown",
   "id": "61fbb4f2",
   "metadata": {},
   "source": [
    "### 1. Price outliers : "
   ]
  },
  {
   "cell_type": "code",
   "execution_count": 296,
   "id": "21e7800c",
   "metadata": {},
   "outputs": [
    {
     "data": {
      "text/plain": [
       "count    8.627000e+03\n",
       "mean     8.866795e+05\n",
       "std      1.964671e+06\n",
       "min      4.990000e+02\n",
       "25%      2.499990e+05\n",
       "50%      5.000000e+05\n",
       "75%      8.500000e+05\n",
       "max      5.800000e+07\n",
       "Name: price, dtype: float64"
      ]
     },
     "execution_count": 296,
     "metadata": {},
     "output_type": "execute_result"
    }
   ],
   "source": [
    "df_clean['price'].describe()"
   ]
  },
  {
   "cell_type": "code",
   "execution_count": 297,
   "id": "33f5e830",
   "metadata": {},
   "outputs": [],
   "source": [
    "z_score = (df_clean['price'] - df_clean['price'].mean()) / df_clean['price'].std()"
   ]
  },
  {
   "cell_type": "code",
   "execution_count": 298,
   "id": "2cb6a3a1",
   "metadata": {},
   "outputs": [
    {
     "data": {
      "text/plain": [
       "98"
      ]
     },
     "execution_count": 298,
     "metadata": {},
     "output_type": "execute_result"
    }
   ],
   "source": [
    "outliers = abs(z_score) > 3\n",
    "sum(outliers)"
   ]
  },
  {
   "cell_type": "code",
   "execution_count": 299,
   "id": "92c3319a",
   "metadata": {},
   "outputs": [],
   "source": [
    "Q1 = np.nanpercentile(df['price'],25)\n",
    "Q3 = np.nanpercentile(df['price'],75)\n",
    "IQR = Q3 - Q1"
   ]
  },
  {
   "cell_type": "code",
   "execution_count": 300,
   "id": "0ae27bbf",
   "metadata": {},
   "outputs": [
    {
     "data": {
      "text/plain": [
       "250000.0"
      ]
     },
     "execution_count": 300,
     "metadata": {},
     "output_type": "execute_result"
    }
   ],
   "source": [
    "Q1"
   ]
  },
  {
   "cell_type": "code",
   "execution_count": 301,
   "id": "ceb129d1",
   "metadata": {},
   "outputs": [
    {
     "data": {
      "text/plain": [
       "850000.0"
      ]
     },
     "execution_count": 301,
     "metadata": {},
     "output_type": "execute_result"
    }
   ],
   "source": [
    "Q3"
   ]
  },
  {
   "cell_type": "code",
   "execution_count": 302,
   "id": "8e365022",
   "metadata": {},
   "outputs": [
    {
     "data": {
      "text/plain": [
       "<AxesSubplot:xlabel='price'>"
      ]
     },
     "execution_count": 302,
     "metadata": {},
     "output_type": "execute_result"
    },
    {
     "data": {
      "image/png": "[encoded data removed]",
      "text/plain": [
       "<Figure size 720x432 with 1 Axes>"
      ]
     },
     "metadata": {
      "needs_background": "light"
     },
     "output_type": "display_data"
    }
   ],
   "source": [
    "warnings.filterwarnings('ignore')\n",
    "sns.boxplot(df_clean.price)"
   ]
  },
  {
   "cell_type": "code",
   "execution_count": 303,
   "id": "27aee480",
   "metadata": {},
   "outputs": [],
   "source": [
    "price_outlier_rows = df_clean[(df_clean['price'] < Q1 - 1.5*IQR) | (df_clean['price'] > Q3 + 1.5*IQR)].index"
   ]
  },
  {
   "cell_type": "code",
   "execution_count": 304,
   "id": "2113bf5f",
   "metadata": {},
   "outputs": [
    {
     "data": {
      "text/plain": [
       "733"
      ]
     },
     "execution_count": 304,
     "metadata": {},
     "output_type": "execute_result"
    }
   ],
   "source": [
    "len(price_outlier_rows)"
   ]
  },
  {
   "cell_type": "markdown",
   "id": "f9889b3d",
   "metadata": {},
   "source": [
    "### 2. Bed outliers : "
   ]
  },
  {
   "cell_type": "code",
   "execution_count": 305,
   "id": "ca2520cc",
   "metadata": {
    "scrolled": true
   },
   "outputs": [
    {
     "data": {
      "text/plain": [
       "<AxesSubplot:xlabel='beds'>"
      ]
     },
     "execution_count": 305,
     "metadata": {},
     "output_type": "execute_result"
    },
    {
     "data": {
      "image/png": "[encoded data removed]",
      "text/plain": [
       "<Figure size 720x432 with 1 Axes>"
      ]
     },
     "metadata": {
      "needs_background": "light"
     },
     "output_type": "display_data"
    }
   ],
   "source": [
    "sns.boxplot(df_clean.beds)\n"
   ]
  },
  {
   "cell_type": "code",
   "execution_count": null,
   "id": "12cac157",
   "metadata": {},
   "outputs": [],
   "source": []
  },
  {
   "cell_type": "code",
   "execution_count": 330,
   "id": "f07d7d45",
   "metadata": {},
   "outputs": [
    {
     "data": {
      "text/plain": [
       "167"
      ]
     },
     "execution_count": 330,
     "metadata": {},
     "output_type": "execute_result"
    }
   ],
   "source": [
    "Q1 = np.nanpercentile(df['beds'],25)\n",
    "Q3 = np.nanpercentile(df['beds'],75)\n",
    "IQR = Q3 - Q1\n",
    "\n",
    "beds_outlier_rows = df_clean[(df_clean['beds'] < Q1 - 1.5*IQR) | (df_clean['beds'] > Q3 + 1.5*IQR)].index\n",
    "len(beds_outlier_rows)"
   ]
  },
  {
   "cell_type": "code",
   "execution_count": 331,
   "id": "5f233be0",
   "metadata": {},
   "outputs": [
    {
     "data": {
      "text/plain": [
       "168"
      ]
     },
     "execution_count": 331,
     "metadata": {},
     "output_type": "execute_result"
    }
   ],
   "source": [
    "(df['beds'] > 7).sum()"
   ]
  },
  {
   "cell_type": "markdown",
   "id": "45cc85f5",
   "metadata": {},
   "source": [
    "### 2.1 Handling bed outliers :"
   ]
  },
  {
   "cell_type": "code",
   "execution_count": null,
   "id": "29b60ce2",
   "metadata": {},
   "outputs": [],
   "source": []
  },
  {
   "cell_type": "markdown",
   "id": "25f1c397",
   "metadata": {},
   "source": [
    "### 3. Bath outliers : "
   ]
  },
  {
   "cell_type": "code",
   "execution_count": 307,
   "id": "becefcdb",
   "metadata": {
    "scrolled": true
   },
   "outputs": [
    {
     "data": {
      "text/plain": [
       "<AxesSubplot:xlabel='baths'>"
      ]
     },
     "execution_count": 307,
     "metadata": {},
     "output_type": "execute_result"
    },
    {
     "data": {
      "image/png": "[encoded data removed]",
      "text/plain": [
       "<Figure size 720x432 with 1 Axes>"
      ]
     },
     "metadata": {
      "needs_background": "light"
     },
     "output_type": "display_data"
    }
   ],
   "source": [
    "sns.boxplot(df_clean.baths)"
   ]
  },
  {
   "cell_type": "code",
   "execution_count": 308,
   "id": "ba57c9fc",
   "metadata": {},
   "outputs": [
    {
     "data": {
      "text/plain": [
       "120"
      ]
     },
     "execution_count": 308,
     "metadata": {},
     "output_type": "execute_result"
    }
   ],
   "source": [
    "Q1 = np.nanpercentile(df['baths'],25)\n",
    "Q3 = np.nanpercentile(df['baths'],75)\n",
    "IQR = Q3 - Q1\n",
    "\n",
    "baths_outlier_rows = df_clean[(df_clean['baths'] < Q1 - 1.5*IQR) | (df_clean['baths'] > Q3 + 1.5*IQR)].index\n",
    "len(baths_outlier_rows)"
   ]
  },
  {
   "cell_type": "markdown",
   "id": "45c518a0",
   "metadata": {},
   "source": [
    "### 3.1 Handling bath outliers :"
   ]
  },
  {
   "cell_type": "code",
   "execution_count": null,
   "id": "50987e30",
   "metadata": {},
   "outputs": [],
   "source": []
  },
  {
   "cell_type": "markdown",
   "id": "2e04b7fe",
   "metadata": {},
   "source": [
    "### 4. Garage outliers : "
   ]
  },
  {
   "cell_type": "code",
   "execution_count": 309,
   "id": "ea8c3eed",
   "metadata": {},
   "outputs": [
    {
     "data": {
      "text/plain": [
       "<AxesSubplot:xlabel='garage'>"
      ]
     },
     "execution_count": 309,
     "metadata": {},
     "output_type": "execute_result"
    },
    {
     "data": {
      "image/png": "[encoded data removed]",
      "text/plain": [
       "<Figure size 720x432 with 1 Axes>"
      ]
     },
     "metadata": {
      "needs_background": "light"
     },
     "output_type": "display_data"
    }
   ],
   "source": [
    "sns.boxplot(df_clean.garage)"
   ]
  },
  {
   "cell_type": "code",
   "execution_count": 310,
   "id": "4c34924f",
   "metadata": {},
   "outputs": [
    {
     "data": {
      "text/plain": [
       "167"
      ]
     },
     "execution_count": 310,
     "metadata": {},
     "output_type": "execute_result"
    }
   ],
   "source": [
    "Q1 = np.nanpercentile(df['garage'],25)\n",
    "Q3 = np.nanpercentile(df['garage'],75)\n",
    "IQR = Q3 - Q1\n",
    "\n",
    "garage_outlier_rows = df_clean[(df_clean['garage'] < Q1 - 1.5*IQR) | (df_clean['garage'] > Q3 + 1.5*IQR)].index\n",
    "len(garage_outlier_rows)"
   ]
  },
  {
   "cell_type": "markdown",
   "id": "22cd0437",
   "metadata": {},
   "source": [
    "### 4.1 Handling garage outliers :"
   ]
  },
  {
   "cell_type": "code",
   "execution_count": null,
   "id": "0d3cf2df",
   "metadata": {},
   "outputs": [],
   "source": []
  },
  {
   "cell_type": "markdown",
   "id": "4928e030",
   "metadata": {},
   "source": [
    "### 5. Sqft outliers : "
   ]
  },
  {
   "cell_type": "code",
   "execution_count": 311,
   "id": "ea55e79b",
   "metadata": {},
   "outputs": [
    {
     "data": {
      "text/plain": [
       "<AxesSubplot:xlabel='sqft'>"
      ]
     },
     "execution_count": 311,
     "metadata": {},
     "output_type": "execute_result"
    },
    {
     "data": {
      "image/png": "[encoded data removed]",
      "text/plain": [
       "<Figure size 720x432 with 1 Axes>"
      ]
     },
     "metadata": {
      "needs_background": "light"
     },
     "output_type": "display_data"
    }
   ],
   "source": [
    "sns.boxplot(df_clean.sqft)"
   ]
  },
  {
   "cell_type": "code",
   "execution_count": 354,
   "id": "47ad352d",
   "metadata": {},
   "outputs": [
    {
     "data": {
      "text/plain": [
       "342"
      ]
     },
     "execution_count": 354,
     "metadata": {},
     "output_type": "execute_result"
    }
   ],
   "source": [
    "Q1 = np.nanpercentile(df['sqft'],25)\n",
    "Q3 = np.nanpercentile(df['sqft'],75)\n",
    "IQR = Q3 - Q1\n",
    "\n",
    "sqft_outlier_rows = df_clean[(df_clean['sqft'] < Q1 - 1.5*IQR) | (df_clean['sqft'] > Q3 + 1.5*IQR)].index\n",
    "len(sqft_outlier_rows)"
   ]
  },
  {
   "cell_type": "markdown",
   "id": "8d9cf639",
   "metadata": {},
   "source": [
    "### 5.1 Handling sqft outliers :"
   ]
  },
  {
   "cell_type": "code",
   "execution_count": null,
   "id": "41071eee",
   "metadata": {},
   "outputs": [],
   "source": []
  },
  {
   "cell_type": "code",
   "execution_count": null,
   "id": "d72fbb37",
   "metadata": {},
   "outputs": [],
   "source": []
  },
  {
   "cell_type": "code",
   "execution_count": 356,
   "id": "4abee04a",
   "metadata": {},
   "outputs": [
    {
     "data": {
      "text/html": [
       "<div>\n",
       "<style scoped>\n",
       "    .dataframe tbody tr th:only-of-type {\n",
       "        vertical-align: middle;\n",
       "    }\n",
       "\n",
       "    .dataframe tbody tr th {\n",
       "        vertical-align: top;\n",
       "    }\n",
       "\n",
       "    .dataframe thead th {\n",
       "        text-align: right;\n",
       "    }\n",
       "</style>\n",
       "<table border=\"1\" class=\"dataframe\">\n",
       "  <thead>\n",
       "    <tr style=\"text-align: right;\">\n",
       "      <th></th>\n",
       "      <th>price</th>\n",
       "      <th>beds</th>\n",
       "      <th>baths</th>\n",
       "      <th>garage</th>\n",
       "      <th>stories</th>\n",
       "      <th>house_type</th>\n",
       "      <th>lot_sqft</th>\n",
       "      <th>sqft</th>\n",
       "      <th>year_built</th>\n",
       "      <th>address</th>\n",
       "      <th>state</th>\n",
       "      <th>city</th>\n",
       "      <th>county</th>\n",
       "    </tr>\n",
       "  </thead>\n",
       "  <tbody>\n",
       "    <tr>\n",
       "      <th>0</th>\n",
       "      <td>139900.0</td>\n",
       "      <td>3.0</td>\n",
       "      <td>2.0</td>\n",
       "      <td>2</td>\n",
       "      <td>2</td>\n",
       "      <td>single_family</td>\n",
       "      <td>12632</td>\n",
       "      <td>1190</td>\n",
       "      <td>1920</td>\n",
       "      <td>154 Maple Ave</td>\n",
       "      <td>NY</td>\n",
       "      <td>Delanson</td>\n",
       "      <td>Schenectady</td>\n",
       "    </tr>\n",
       "    <tr>\n",
       "      <th>1</th>\n",
       "      <td>395000.0</td>\n",
       "      <td>4.0</td>\n",
       "      <td>3.0</td>\n",
       "      <td>2</td>\n",
       "      <td>2</td>\n",
       "      <td>single_family</td>\n",
       "      <td>30056</td>\n",
       "      <td>2987</td>\n",
       "      <td>1982</td>\n",
       "      <td>1169 Hidden Valley Trl</td>\n",
       "      <td>NY</td>\n",
       "      <td>Webster</td>\n",
       "      <td>Monroe</td>\n",
       "    </tr>\n",
       "    <tr>\n",
       "      <th>2</th>\n",
       "      <td>185000.0</td>\n",
       "      <td>4.0</td>\n",
       "      <td>2.0</td>\n",
       "      <td>1</td>\n",
       "      <td>1</td>\n",
       "      <td>single_family</td>\n",
       "      <td>7501</td>\n",
       "      <td>1863</td>\n",
       "      <td>1965</td>\n",
       "      <td>7869 Oneida Trl</td>\n",
       "      <td>NY</td>\n",
       "      <td>Bridgeport</td>\n",
       "      <td>Onondaga</td>\n",
       "    </tr>\n",
       "    <tr>\n",
       "      <th>3</th>\n",
       "      <td>440000.0</td>\n",
       "      <td>4.0</td>\n",
       "      <td>3.0</td>\n",
       "      <td>2</td>\n",
       "      <td>2</td>\n",
       "      <td>single_family</td>\n",
       "      <td>17860</td>\n",
       "      <td>1940</td>\n",
       "      <td>1965</td>\n",
       "      <td>16 Brookland Farms Rd</td>\n",
       "      <td>NY</td>\n",
       "      <td>Poughkeepsie</td>\n",
       "      <td>Dutchess</td>\n",
       "    </tr>\n",
       "    <tr>\n",
       "      <th>4</th>\n",
       "      <td>975700.0</td>\n",
       "      <td>5.0</td>\n",
       "      <td>6.0</td>\n",
       "      <td>3</td>\n",
       "      <td>2</td>\n",
       "      <td>single_family</td>\n",
       "      <td>25544</td>\n",
       "      <td>5660</td>\n",
       "      <td>1999</td>\n",
       "      <td>7534 Plum Hollow Cir</td>\n",
       "      <td>NY</td>\n",
       "      <td>Liverpool</td>\n",
       "      <td>Onondaga</td>\n",
       "    </tr>\n",
       "    <tr>\n",
       "      <th>...</th>\n",
       "      <td>...</td>\n",
       "      <td>...</td>\n",
       "      <td>...</td>\n",
       "      <td>...</td>\n",
       "      <td>...</td>\n",
       "      <td>...</td>\n",
       "      <td>...</td>\n",
       "      <td>...</td>\n",
       "      <td>...</td>\n",
       "      <td>...</td>\n",
       "      <td>...</td>\n",
       "      <td>...</td>\n",
       "      <td>...</td>\n",
       "    </tr>\n",
       "    <tr>\n",
       "      <th>8622</th>\n",
       "      <td>1049000.0</td>\n",
       "      <td>6.0</td>\n",
       "      <td>2.0</td>\n",
       "      <td>1</td>\n",
       "      <td>2</td>\n",
       "      <td>multi_family</td>\n",
       "      <td>2896</td>\n",
       "      <td>1725</td>\n",
       "      <td>1920</td>\n",
       "      <td>74-15 88th Ave</td>\n",
       "      <td>NY</td>\n",
       "      <td>Woodhaven</td>\n",
       "      <td>Queens</td>\n",
       "    </tr>\n",
       "    <tr>\n",
       "      <th>8623</th>\n",
       "      <td>1495000.0</td>\n",
       "      <td>1.0</td>\n",
       "      <td>1.0</td>\n",
       "      <td>2</td>\n",
       "      <td>16</td>\n",
       "      <td>coop</td>\n",
       "      <td>10454</td>\n",
       "      <td>1725</td>\n",
       "      <td>1925</td>\n",
       "      <td>45 5th Ave Apt 17C</td>\n",
       "      <td>NY</td>\n",
       "      <td>New York City</td>\n",
       "      <td>New York</td>\n",
       "    </tr>\n",
       "    <tr>\n",
       "      <th>8624</th>\n",
       "      <td>1395000.0</td>\n",
       "      <td>3.0</td>\n",
       "      <td>1.0</td>\n",
       "      <td>2</td>\n",
       "      <td>5</td>\n",
       "      <td>condos</td>\n",
       "      <td>10454</td>\n",
       "      <td>1725</td>\n",
       "      <td>1890</td>\n",
       "      <td>705 Carroll St Apt 4R</td>\n",
       "      <td>NY</td>\n",
       "      <td>New York City</td>\n",
       "      <td>Kings</td>\n",
       "    </tr>\n",
       "    <tr>\n",
       "      <th>8625</th>\n",
       "      <td>4500000.0</td>\n",
       "      <td>6.0</td>\n",
       "      <td>4.0</td>\n",
       "      <td>2</td>\n",
       "      <td>4</td>\n",
       "      <td>townhomes</td>\n",
       "      <td>10454</td>\n",
       "      <td>1725</td>\n",
       "      <td>1958</td>\n",
       "      <td>608 3rd St</td>\n",
       "      <td>NY</td>\n",
       "      <td>New York City</td>\n",
       "      <td>Kings</td>\n",
       "    </tr>\n",
       "    <tr>\n",
       "      <th>8626</th>\n",
       "      <td>570000.0</td>\n",
       "      <td>1.0</td>\n",
       "      <td>1.0</td>\n",
       "      <td>2</td>\n",
       "      <td>17</td>\n",
       "      <td>coop</td>\n",
       "      <td>10454</td>\n",
       "      <td>725</td>\n",
       "      <td>1927</td>\n",
       "      <td>127 W 96th St Apt 5E</td>\n",
       "      <td>NY</td>\n",
       "      <td>New York City</td>\n",
       "      <td>New York</td>\n",
       "    </tr>\n",
       "  </tbody>\n",
       "</table>\n",
       "<p>8627 rows × 13 columns</p>\n",
       "</div>"
      ],
      "text/plain": [
       "          price  beds  baths  garage  stories     house_type  lot_sqft  sqft  \\\n",
       "0      139900.0   3.0    2.0       2        2  single_family     12632  1190   \n",
       "1      395000.0   4.0    3.0       2        2  single_family     30056  2987   \n",
       "2      185000.0   4.0    2.0       1        1  single_family      7501  1863   \n",
       "3      440000.0   4.0    3.0       2        2  single_family     17860  1940   \n",
       "4      975700.0   5.0    6.0       3        2  single_family     25544  5660   \n",
       "...         ...   ...    ...     ...      ...            ...       ...   ...   \n",
       "8622  1049000.0   6.0    2.0       1        2   multi_family      2896  1725   \n",
       "8623  1495000.0   1.0    1.0       2       16           coop     10454  1725   \n",
       "8624  1395000.0   3.0    1.0       2        5         condos     10454  1725   \n",
       "8625  4500000.0   6.0    4.0       2        4      townhomes     10454  1725   \n",
       "8626   570000.0   1.0    1.0       2       17           coop     10454   725   \n",
       "\n",
       "      year_built                 address state           city       county  \n",
       "0           1920           154 Maple Ave    NY       Delanson  Schenectady  \n",
       "1           1982  1169 Hidden Valley Trl    NY        Webster       Monroe  \n",
       "2           1965         7869 Oneida Trl    NY     Bridgeport     Onondaga  \n",
       "3           1965   16 Brookland Farms Rd    NY   Poughkeepsie     Dutchess  \n",
       "4           1999    7534 Plum Hollow Cir    NY      Liverpool     Onondaga  \n",
       "...          ...                     ...   ...            ...          ...  \n",
       "8622        1920          74-15 88th Ave    NY      Woodhaven       Queens  \n",
       "8623        1925      45 5th Ave Apt 17C    NY  New York City     New York  \n",
       "8624        1890   705 Carroll St Apt 4R    NY  New York City        Kings  \n",
       "8625        1958              608 3rd St    NY  New York City        Kings  \n",
       "8626        1927    127 W 96th St Apt 5E    NY  New York City     New York  \n",
       "\n",
       "[8627 rows x 13 columns]"
      ]
     },
     "execution_count": 356,
     "metadata": {},
     "output_type": "execute_result"
    }
   ],
   "source": [
    "\n",
    "df_clean"
   ]
  },
  {
   "cell_type": "markdown",
   "id": "b196b662",
   "metadata": {},
   "source": [
    "## Fixing categorical features"
   ]
  },
  {
   "cell_type": "code",
   "execution_count": 357,
   "id": "bfae09d4",
   "metadata": {},
   "outputs": [
    {
     "data": {
      "text/plain": [
       "single_family                  5350\n",
       "coop                            954\n",
       "multi_family                    894\n",
       "condos                          864\n",
       "townhomes                       303\n",
       "land                            112\n",
       "mobile                          110\n",
       "condo_townhome_rowhome_coop      25\n",
       "condop                            7\n",
       "apartment                         6\n",
       "farm                              2\n",
       "Name: house_type, dtype: int64"
      ]
     },
     "execution_count": 357,
     "metadata": {},
     "output_type": "execute_result"
    }
   ],
   "source": [
    "df_clean['house_type'].value_counts()"
   ]
  },
  {
   "cell_type": "markdown",
   "id": "d800cc54",
   "metadata": {},
   "source": [
    "## Cleaning less common cities (less than 20)"
   ]
  },
  {
   "cell_type": "code",
   "execution_count": 362,
   "id": "5e3e0e5c",
   "metadata": {},
   "outputs": [],
   "source": [
    "temp=df_clean['city'].value_counts()\n",
    "val_to_keep=temp.loc[temp>=20]\n",
    "df_clean= df_clean[df_clean['city'].isin(val_to_keep.index.tolist())]"
   ]
  },
  {
   "cell_type": "code",
   "execution_count": 363,
   "id": "8d3e4529",
   "metadata": {},
   "outputs": [
    {
     "data": {
      "text/plain": [
       "New York City       609\n",
       "Brooklyn            353\n",
       "New York            318\n",
       "Staten Island       238\n",
       "Bronx               198\n",
       "                   ... \n",
       "Kingston             20\n",
       "Southampton          20\n",
       "Wappingers Falls     20\n",
       "Endicott             20\n",
       "Northport            20\n",
       "Name: city, Length: 66, dtype: int64"
      ]
     },
     "execution_count": 363,
     "metadata": {},
     "output_type": "execute_result"
    }
   ],
   "source": [
    "df_clean['city'].value_counts()"
   ]
  },
  {
   "cell_type": "code",
   "execution_count": 364,
   "id": "c485aa26",
   "metadata": {},
   "outputs": [
    {
     "data": {
      "text/plain": [
       "(4032, 13)"
      ]
     },
     "execution_count": 364,
     "metadata": {},
     "output_type": "execute_result"
    }
   ],
   "source": [
    "df_clean.shape"
   ]
  },
  {
   "cell_type": "code",
   "execution_count": 109,
   "id": "3af8a6b5",
   "metadata": {},
   "outputs": [],
   "source": [
    "#df_cln_sale.to_csv('ForSale_Clean.csv')"
   ]
  },
  {
   "cell_type": "code",
   "execution_count": null,
   "id": "389450a4",
   "metadata": {},
   "outputs": [],
   "source": []
  }
 ],
 "metadata": {
  "kernelspec": {
   "display_name": "Python 3 (ipykernel)",
   "language": "python",
   "name": "python3"
  },
  "language_info": {
   "codemirror_mode": {
    "name": "ipython",
    "version": 3
   },
   "file_extension": ".py",
   "mimetype": "text/x-python",
   "name": "python",
   "nbconvert_exporter": "python",
   "pygments_lexer": "ipython3",
   "version": "3.9.12"
  }
 },
 "nbformat": 4,
 "nbformat_minor": 5
}
